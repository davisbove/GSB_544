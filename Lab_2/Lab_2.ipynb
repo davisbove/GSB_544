{
 "cells": [
  {
   "cell_type": "raw",
   "metadata": {},
   "source": [
    "---\n",
    "title: Lab 2\n",
    "author: Davis Bove\n",
    "format: \n",
    "  html:\n",
    "    loc: true\n",
    "    code-fold: true\n",
    "embed-resources: true\n",
    "---"
   ]
  },
  {
   "cell_type": "markdown",
   "metadata": {},
   "source": []
  },
  {
   "cell_type": "code",
   "execution_count": 51,
   "metadata": {
    "vscode": {
     "languageId": "python"
    }
   },
   "outputs": [],
   "source": [
    "#Downloads\n",
    "import pandas as pd\n",
    "from plotnine import ggplot, geom_point, aes, geom_boxplot, scale_size, lims, theme_classic, scale_x_log10, scale_size_continuous, scale_y_log10\n",
    "import plotnine as p9"
   ]
  },
  {
   "cell_type": "code",
   "execution_count": 53,
   "metadata": {
    "vscode": {
     "languageId": "python"
    }
   },
   "outputs": [],
   "source": [
    "#import data\n",
    "\n",
    "avocado_df =pd.read_csv(\"avocado-updated-2020.csv\")\n",
    "# avocado_df"
   ]
  },
  {
   "cell_type": "markdown",
   "metadata": {},
   "source": [
    "The dataset includes information about the pricing, volume, and location of avocado sales. It has helpful information like dates, geographies, avocado types, etc. "
   ]
  },
  {
   "cell_type": "code",
   "execution_count": 54,
   "metadata": {
    "vscode": {
     "languageId": "python"
    }
   },
   "outputs": [],
   "source": [
    "\n",
    "avocado_df[\"total_US\"] = 1*(avocado_df[\"geography\"] == \"Total U.S.\")\n",
    "avocado_df[\"geography\"].unique()\n",
    "avocado_df[\"region\"]= avocado_df[\"geography\"].map({\n",
    "    \"Albany\": \"Northeast\",\n",
    "    \"Atlanta\" : \"Southeast\",\n",
    "    \"Baltimore/Washington\" : \"Northeast\",\n",
    "    \"Boise\" : \"West\",\n",
    "    \"Boston\" : \"Northern New England\",\n",
    "    \"Buffalo/Rochester\" : \"Northeast\",\n",
    "    \"California\" : \"West\",\n",
    "    \"Charlotte\" : \"Southeaest\",\n",
    "    \"Chicago\" : \"Great Lakes\",\n",
    "    \"Cincinnati/Dayton\" : \"Plains\",\n",
    "    \"Columbus\" : \"Plains\",\n",
    "    \"Dallas/Ft. Worth\" : \"South Central\",\n",
    "    \"Denver\" : \"West\",\n",
    "    \"Detroit\" : \"Great Lakes\",\n",
    "    \"Grand Rapids\" : \"Great Lakes\",\n",
    "    \"Great Lakes\" : \"Great Lakes\",\n",
    "    \"Harrisburg/Scranton\" : \"Northeast\",\n",
    "    \"Hartford/Springfield\" : \"Northern New England\",\n",
    "    \"Houston\" : \"South Central\",\n",
    "    \"Indianapolis\" : \"Midwest\",\n",
    "    \"Jacksonville\" : \"Southeast\",\n",
    "    \"Las Vegas\" : \"West\",\n",
    "    \"Los Angeles\" : \"West\",\n",
    "    \"Louisville\" : \"Midsouth\",\n",
    "    \"Miami/Ft. Lauderdale\" : \"Southeast\",\n",
    "    \"Midsouth\": \"Midsouth\",\n",
    "    \"Nashville\" : \"Midsouth\",\n",
    "    \"New Orleans/Mobile\" : \"Southeast\",\n",
    "    \"New York\" : \"Northeast\",\n",
    "    \"Norheast\" : \"Northeast\",\n",
    "    \"Northern New England\" : \"Northen New England\",\n",
    "    \"Orlando\" : \"Southeast\",\n",
    "    \"Philidelphia\" : \"Northeast\",\n",
    "    \"Phoenix/Tucson\" : \"West\",\n",
    "    \"Pittsburgh\" : \"Northeast\",\n",
    "    \"Plains\" : \"Plains\",\n",
    "    \"Portland\" : \"West\" ,\n",
    "    \"Raleigh/Greensboro\" : \"Southeast\",\n",
    "    \"Richmond/Norfolk\" : \"Southeast\",\n",
    "    \"Roanoke\" : \"Southeast\",\n",
    "    \"Sacramento\" : \"West\",\n",
    "    \"San Diego\" : \"West\",\n",
    "    \"San Francisco\" : \"West\",\n",
    "    \"Seattle\" : \"West\",\n",
    "    \"South Carolina\": \"Southeast\",\n",
    "    \"South Central\" : \"South Central\",\n",
    "    \"Southeast\" : \"Southeast\",\n",
    "    \"Spokane\" : \"West\",\n",
    "    \"St. Louis\" : \"Midsouth\" ,\n",
    "    \"Syracuse\" : \"Northeast\",\n",
    "    \"Tampa\" : \"Southeast\",\n",
    "    \"Total U.S.\" : \"Total U.S.\",\n",
    "    \"West\" : \"West\",\n",
    "    \"West Tex/New Mexico\" : \"West Tex/New Mexico\"\n",
    "})\n",
    "avocado_df[\"organic\"] = 1*(avocado_df[\"type\"] == \"organic\")\n",
    "avocado_df = avocado_df.rename(columns= {\"4046\" : \"Small/Medium\", \"4225\": \"Large\", \"4770\": \"X-Large\"})\n",
    "avocado_clean = avocado_df.drop(\"type\", axis = 1)\n",
    "# avocado_clean"
   ]
  },
  {
   "cell_type": "code",
   "execution_count": 81,
   "metadata": {
    "vscode": {
     "languageId": "python"
    }
   },
   "outputs": [
    {
     "name": "stdout",
     "output_type": "stream",
     "text": [
      "region\n",
      "Great Lakes    244790.26\n",
      "Name: Small/Medium, dtype: float64\n",
      "region\n",
      "Great Lakes    244790.26\n",
      "Name: Small/Medium, dtype: float64\n"
     ]
    }
   ],
   "source": [
    "organic_2017 = avocado_clean[(avocado_clean[\"organic\"] == 1)& (avocado_clean[\"year\"]== 2017)]\n",
    "organic_2017 = organic_2017[[\"region\", \"Small/Medium\"]]\n",
    "organic_2017 =organic_2017.groupby(\"region\")[\"Small/Medium\"].sum()\n",
    "print(organic_2017.head(1))"
   ]
  },
  {
   "cell_type": "markdown",
   "metadata": {},
   "source": [
    "The Great Lakes Region sold the most Small Organic Avocados in 2017"
   ]
  },
  {
   "cell_type": "code",
   "execution_count": 98,
   "metadata": {
    "vscode": {
     "languageId": "python"
    }
   },
   "outputs": [
    {
     "data": {
      "text/plain": [
       "month\n",
       "05    1.123632e+06\n",
       "02    1.095374e+06\n",
       "06    1.051247e+06\n",
       "04    1.016582e+06\n",
       "03    9.957150e+05\n",
       "01    9.853122e+05\n",
       "07    9.832681e+05\n",
       "08    9.499249e+05\n",
       "09    9.064773e+05\n",
       "10    8.446863e+05\n",
       "11    8.223470e+05\n",
       "12    8.076695e+05\n",
       "Name: total_volume, dtype: float64"
      ]
     },
     "execution_count": null,
     "metadata": {},
     "output_type": "execute_result"
    }
   ],
   "source": [
    "#Splitting the date variable into day, year and month\n",
    "avocado_clean[\"month\"] = avocado_clean[\"date\"].map(lambda x: x.split('-')[1])\n",
    "#the above line of code was created with assistance from chat GPT\n",
    "avocado_month = avocado_clean.groupby(\"month\")[\"total_volume\"].mean()\n",
    "avocado_month.sort_values(ascending= False)\n",
    "#The fifth month of the year saw the highest volume"
   ]
  },
  {
   "cell_type": "markdown",
   "metadata": {},
   "source": [
    "METRO Geographical regions"
   ]
  },
  {
   "cell_type": "code",
   "execution_count": null,
   "metadata": {
    "vscode": {
     "languageId": "python"
    }
   },
   "outputs": [],
   "source": []
  }
 ],
 "metadata": {
  "language_info": {
   "name": "raw"
  }
 },
 "nbformat": 4,
 "nbformat_minor": 2
}
