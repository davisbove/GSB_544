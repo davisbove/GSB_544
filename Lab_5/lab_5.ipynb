{
 "cells": [
  {
   "cell_type": "raw",
   "metadata": {},
   "source": [
    "---\n",
    "title: Lab 5\n",
    "author: Davis Bove\n",
    "format: \n",
    "  html:\n",
    "    loc: true\n",
    "    code-fold: true\n",
    "embed-resources: true\n",
    "---"
   ]
  },
  {
   "cell_type": "code",
   "execution_count": 8,
   "metadata": {
    "vscode": {
     "languageId": "python"
    }
   },
   "outputs": [],
   "source": [
    "#importing packages\n",
    "import pandas as pd\n",
    "from sklearn.preprocessing import OneHotEncoder\n"
   ]
  },
  {
   "cell_type": "code",
   "execution_count": 7,
   "metadata": {
    "vscode": {
     "languageId": "python"
    }
   },
   "outputs": [
    {
     "data": {
      "text/html": [
       "<div>\n",
       "<style scoped>\n",
       "    .dataframe tbody tr th:only-of-type {\n",
       "        vertical-align: middle;\n",
       "    }\n",
       "\n",
       "    .dataframe tbody tr th {\n",
       "        vertical-align: top;\n",
       "    }\n",
       "\n",
       "    .dataframe thead th {\n",
       "        text-align: right;\n",
       "    }\n",
       "</style>\n",
       "<table border=\"1\" class=\"dataframe\">\n",
       "  <thead>\n",
       "    <tr style=\"text-align: right;\">\n",
       "      <th></th>\n",
       "      <th>age</th>\n",
       "      <th>bmi</th>\n",
       "      <th>charges</th>\n",
       "    </tr>\n",
       "  </thead>\n",
       "  <tbody>\n",
       "    <tr>\n",
       "      <th>count</th>\n",
       "      <td>431.000000</td>\n",
       "      <td>431.000000</td>\n",
       "      <td>431.000000</td>\n",
       "    </tr>\n",
       "    <tr>\n",
       "      <th>mean</th>\n",
       "      <td>37.960557</td>\n",
       "      <td>30.768898</td>\n",
       "      <td>12297.098118</td>\n",
       "    </tr>\n",
       "    <tr>\n",
       "      <th>std</th>\n",
       "      <td>16.363909</td>\n",
       "      <td>6.111362</td>\n",
       "      <td>11876.527128</td>\n",
       "    </tr>\n",
       "    <tr>\n",
       "      <th>min</th>\n",
       "      <td>18.000000</td>\n",
       "      <td>15.960000</td>\n",
       "      <td>1131.506600</td>\n",
       "    </tr>\n",
       "    <tr>\n",
       "      <th>25%</th>\n",
       "      <td>22.000000</td>\n",
       "      <td>26.357500</td>\n",
       "      <td>2710.444575</td>\n",
       "    </tr>\n",
       "    <tr>\n",
       "      <th>50%</th>\n",
       "      <td>34.000000</td>\n",
       "      <td>30.590000</td>\n",
       "      <td>9866.304850</td>\n",
       "    </tr>\n",
       "    <tr>\n",
       "      <th>75%</th>\n",
       "      <td>55.000000</td>\n",
       "      <td>35.272500</td>\n",
       "      <td>14510.872600</td>\n",
       "    </tr>\n",
       "    <tr>\n",
       "      <th>max</th>\n",
       "      <td>64.000000</td>\n",
       "      <td>49.060000</td>\n",
       "      <td>55135.402090</td>\n",
       "    </tr>\n",
       "  </tbody>\n",
       "</table>\n",
       "</div>"
      ],
      "text/plain": [
       "              age         bmi       charges\n",
       "count  431.000000  431.000000    431.000000\n",
       "mean    37.960557   30.768898  12297.098118\n",
       "std     16.363909    6.111362  11876.527128\n",
       "min     18.000000   15.960000   1131.506600\n",
       "25%     22.000000   26.357500   2710.444575\n",
       "50%     34.000000   30.590000   9866.304850\n",
       "75%     55.000000   35.272500  14510.872600\n",
       "max     64.000000   49.060000  55135.402090"
      ]
     },
     "execution_count": null,
     "metadata": {},
     "output_type": "execute_result"
    }
   ],
   "source": [
    "#Part one: Data Exploration\n",
    "#Importing data\n",
    "Data = pd.read_csv(\"https://www.dropbox.com/s/bocjjyo1ehr5auz/insurance_costs_1.csv?dl=1\")\n",
    "Data.head()\n",
    "#first thing I notice is that Sex, and smoker will need to be dummified \n",
    "\n",
    "Data[\"sex\"].value_counts()\n",
    "#Only male and female recorded, no NA\n",
    "Data[\"smoker\"].value_counts()\n",
    "#Only yes and no, no NA\n",
    "Data.describe()\n",
    "\n"
   ]
  },
  {
   "cell_type": "code",
   "execution_count": 18,
   "metadata": {
    "vscode": {
     "languageId": "python"
    }
   },
   "outputs": [],
   "source": [
    "#dummifying variables\n",
    "sex = pd.get_dummies(Data[[\"sex\"]])\n",
    "Data[\"male\"]= sex[\"sex_male\"]\n",
    "# enc = OneHotEncoder()\n",
    "# enc.fit(Data[[\"sex\"]])\n",
    "\n",
    "# enc.transform(Data[[\"sex\"]]).toarray()"
   ]
  }
 ],
 "metadata": {
  "language_info": {
   "name": "raw"
  }
 },
 "nbformat": 4,
 "nbformat_minor": 2
}
