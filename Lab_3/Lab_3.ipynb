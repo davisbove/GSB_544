{
 "cells": [
  {
   "cell_type": "raw",
   "metadata": {},
   "source": [
    "---\n",
    "title: Lab 2\n",
    "author: Davis Bove\n",
    "format: \n",
    "  html:\n",
    "    loc: true\n",
    "    code-fold: true\n",
    "embed-resources: true\n",
    "---"
   ]
  },
  {
   "cell_type": "code",
   "execution_count": 40,
   "metadata": {
    "vscode": {
     "languageId": "python"
    }
   },
   "outputs": [
    {
     "data": {
      "text/html": [
       "<div>\n",
       "<style scoped>\n",
       "    .dataframe tbody tr th:only-of-type {\n",
       "        vertical-align: middle;\n",
       "    }\n",
       "\n",
       "    .dataframe tbody tr th {\n",
       "        vertical-align: top;\n",
       "    }\n",
       "\n",
       "    .dataframe thead th {\n",
       "        text-align: right;\n",
       "    }\n",
       "</style>\n",
       "<table border=\"1\" class=\"dataframe\">\n",
       "  <thead>\n",
       "    <tr style=\"text-align: right;\">\n",
       "      <th></th>\n",
       "      <th>Day</th>\n",
       "      <th>Day.in.Words</th>\n",
       "      <th>Gift.Item</th>\n",
       "      <th>Verb</th>\n",
       "      <th>Adjective</th>\n",
       "      <th>Location</th>\n",
       "    </tr>\n",
       "  </thead>\n",
       "  <tbody>\n",
       "    <tr>\n",
       "      <th>0</th>\n",
       "      <td>1</td>\n",
       "      <td>first</td>\n",
       "      <td>partridge</td>\n",
       "      <td>NaN</td>\n",
       "      <td>NaN</td>\n",
       "      <td>in a pear tree</td>\n",
       "    </tr>\n",
       "    <tr>\n",
       "      <th>1</th>\n",
       "      <td>2</td>\n",
       "      <td>second</td>\n",
       "      <td>dove</td>\n",
       "      <td>NaN</td>\n",
       "      <td>turtle</td>\n",
       "      <td>NaN</td>\n",
       "    </tr>\n",
       "    <tr>\n",
       "      <th>2</th>\n",
       "      <td>3</td>\n",
       "      <td>third</td>\n",
       "      <td>hen</td>\n",
       "      <td>NaN</td>\n",
       "      <td>french</td>\n",
       "      <td>NaN</td>\n",
       "    </tr>\n",
       "    <tr>\n",
       "      <th>3</th>\n",
       "      <td>4</td>\n",
       "      <td>fourth</td>\n",
       "      <td>bird</td>\n",
       "      <td>NaN</td>\n",
       "      <td>calling</td>\n",
       "      <td>NaN</td>\n",
       "    </tr>\n",
       "    <tr>\n",
       "      <th>4</th>\n",
       "      <td>5</td>\n",
       "      <td>fifth</td>\n",
       "      <td>ring</td>\n",
       "      <td>NaN</td>\n",
       "      <td>golden</td>\n",
       "      <td>NaN</td>\n",
       "    </tr>\n",
       "    <tr>\n",
       "      <th>5</th>\n",
       "      <td>6</td>\n",
       "      <td>sixth</td>\n",
       "      <td>goose</td>\n",
       "      <td>a-laying</td>\n",
       "      <td>NaN</td>\n",
       "      <td>NaN</td>\n",
       "    </tr>\n",
       "    <tr>\n",
       "      <th>6</th>\n",
       "      <td>7</td>\n",
       "      <td>seventh</td>\n",
       "      <td>swan</td>\n",
       "      <td>a-swimming</td>\n",
       "      <td>NaN</td>\n",
       "      <td>NaN</td>\n",
       "    </tr>\n",
       "    <tr>\n",
       "      <th>7</th>\n",
       "      <td>8</td>\n",
       "      <td>eighth</td>\n",
       "      <td>maid</td>\n",
       "      <td>a-milking</td>\n",
       "      <td>NaN</td>\n",
       "      <td>NaN</td>\n",
       "    </tr>\n",
       "    <tr>\n",
       "      <th>8</th>\n",
       "      <td>9</td>\n",
       "      <td>ninth</td>\n",
       "      <td>lady</td>\n",
       "      <td>dancing</td>\n",
       "      <td>NaN</td>\n",
       "      <td>NaN</td>\n",
       "    </tr>\n",
       "    <tr>\n",
       "      <th>9</th>\n",
       "      <td>10</td>\n",
       "      <td>tenth</td>\n",
       "      <td>lord</td>\n",
       "      <td>a-leaping</td>\n",
       "      <td>NaN</td>\n",
       "      <td>NaN</td>\n",
       "    </tr>\n",
       "    <tr>\n",
       "      <th>10</th>\n",
       "      <td>11</td>\n",
       "      <td>eleventh</td>\n",
       "      <td>piper</td>\n",
       "      <td>piping</td>\n",
       "      <td>NaN</td>\n",
       "      <td>NaN</td>\n",
       "    </tr>\n",
       "    <tr>\n",
       "      <th>11</th>\n",
       "      <td>12</td>\n",
       "      <td>twelfth</td>\n",
       "      <td>drummer</td>\n",
       "      <td>drumming</td>\n",
       "      <td>NaN</td>\n",
       "      <td>NaN</td>\n",
       "    </tr>\n",
       "  </tbody>\n",
       "</table>\n",
       "</div>"
      ],
      "text/plain": [
       "    Day Day.in.Words  Gift.Item        Verb Adjective        Location\n",
       "0     1        first  partridge         NaN       NaN  in a pear tree\n",
       "1     2       second       dove         NaN    turtle             NaN\n",
       "2     3        third        hen         NaN    french             NaN\n",
       "3     4       fourth       bird         NaN   calling             NaN\n",
       "4     5        fifth       ring         NaN    golden             NaN\n",
       "5     6        sixth      goose    a-laying       NaN             NaN\n",
       "6     7      seventh       swan  a-swimming       NaN             NaN\n",
       "7     8       eighth       maid   a-milking       NaN             NaN\n",
       "8     9        ninth       lady     dancing       NaN             NaN\n",
       "9    10        tenth       lord   a-leaping       NaN             NaN\n",
       "10   11     eleventh      piper      piping       NaN             NaN\n",
       "11   12      twelfth    drummer    drumming       NaN             NaN"
      ]
     },
     "execution_count": null,
     "metadata": {},
     "output_type": "execute_result"
    }
   ],
   "source": [
    "import pandas as pd\n",
    "xmas = pd.read_csv(\"https://www.dropbox.com/scl/fi/qxaslqqp5p08i1650rpc4/xmas.csv?rlkey=erdxi7jbh7pqf9fh4lv4cayp5&dl=1\")\n",
    "# xmas"
   ]
  },
  {
   "cell_type": "code",
   "execution_count": 227,
   "metadata": {
    "vscode": {
     "languageId": "python"
    }
   },
   "outputs": [
    {
     "data": {
      "text/plain": [
       "float"
      ]
     },
     "execution_count": null,
     "metadata": {},
     "output_type": "execute_result"
    }
   ],
   "source": [
    "verbs = xmas['Verb']\n",
    "verb = verbs[0]\n",
    "type(verb)"
   ]
  },
  {
   "cell_type": "markdown",
   "metadata": {},
   "source": [
    "**Function 1**"
   ]
  },
  {
   "cell_type": "code",
   "execution_count": 42,
   "metadata": {
    "vscode": {
     "languageId": "python"
    }
   },
   "outputs": [],
   "source": [
    "def pluralize_gift(gift):\n",
    "  \"\"\"\n",
    "  Returns plural of a noun\n",
    "  \n",
    "  Parameters\n",
    "  ----------\n",
    "  gift: str\n",
    "    A noun\n",
    "    \n",
    "  Return\n",
    "  ------\n",
    "  str\n",
    "    Plural version\n",
    "  \"\"\"\n",
    "\n",
    "  if gift.find(\"oo\") != -1 :\n",
    "    gift = gift.replace(\"oo\", \"ee\") \n",
    "  elif gift[-1] == \"y\":\n",
    "    gift = gift.replace(\"y\", \"ies\")\n",
    "  else:\n",
    "    gift = gift +\"s\"\n",
    "\n",
    "  return gift"
   ]
  },
  {
   "cell_type": "code",
   "execution_count": 72,
   "metadata": {
    "vscode": {
     "languageId": "python"
    }
   },
   "outputs": [],
   "source": [
    "# def pluralize_gift_vec(vec):\n",
    "#    pluralize_vec = list()\n",
    "#    for val in vec:\n",
    "#     val = pluralize_gift(val)\n",
    "#     pluralize_vec.append(val)\n",
    "#    return pluralize_vec "
   ]
  },
  {
   "cell_type": "code",
   "execution_count": 131,
   "metadata": {
    "vscode": {
     "languageId": "python"
    }
   },
   "outputs": [],
   "source": [
    "# vec = xmas[\"Gift.Item\"]\n",
    "# import numpy as np\n",
    "# vec = np.array(vec)\n",
    "# type(vec)\n",
    "\n",
    "# TF = type(vec) == np.ndarray\n",
    "# TF"
   ]
  },
  {
   "cell_type": "code",
   "execution_count": 218,
   "metadata": {
    "vscode": {
     "languageId": "python"
    }
   },
   "outputs": [],
   "source": [
    "#vectorized form of pluarlized gift\n",
    "\n",
    "def pluralize_gift_vec(vec):\n",
    "    \"\"\"\n",
    "  Returns plural of a noun\n",
    "  \n",
    "  Parameters\n",
    "  ----------\n",
    "  vec: str, list, pd.series, np.array\n",
    "    A noun, or list of nouns \n",
    "    if using a pandas series or numpy array, pandas must be named as pd and numpy named as np\n",
    "    \n",
    "  Return\n",
    "  ------\n",
    "  str, list (pd.series and np.array will be converted to list)\n",
    "    Plural version of given nouns\n",
    "  \"\"\"\n",
    "\n",
    "  \n",
    "    if (type(vec) == pd.Series) == True:\n",
    "        vec = list(vec)\n",
    "        pluralize_vec = map(pluralize_gift, vec)\n",
    "        pluralize_vec = list(pluralize_vec)\n",
    "        return pluralize_vec\n",
    "    if (type(vec) == str) == True:\n",
    "        pluralize_vec = pluralize_gift(vec)\n",
    "        return pluralize_vec\n",
    "    if (type(vec) == list) == True:\n",
    "        pluralize_vec = map(pluralize_gift, vec)\n",
    "        pluralize_vec = list(pluralize_vec)\n",
    "        return pluralize_vec\n",
    "    if (type(vec) == np.ndarray) == True:\n",
    "        vec = list(vec)\n",
    "        pluralize_vec = map(pluralize_gift, vec)\n",
    "        pluralize_vec = list(pluralize_vec)\n",
    "        return pluralize_vec\n",
    "    else: \n",
    "        return \"Please give one of the following data types: Pandas series, list, numpy array, or string\"\n",
    "    \n",
    "    "
   ]
  },
  {
   "cell_type": "code",
   "execution_count": 133,
   "metadata": {
    "vscode": {
     "languageId": "python"
    }
   },
   "outputs": [
    {
     "data": {
      "text/plain": [
       "['partridges',\n",
       " 'doves',\n",
       " 'hens',\n",
       " 'birds',\n",
       " 'rings',\n",
       " 'geese',\n",
       " 'swans',\n",
       " 'maids',\n",
       " 'ladies',\n",
       " 'lords',\n",
       " 'pipers',\n",
       " 'drummers']"
      ]
     },
     "execution_count": null,
     "metadata": {},
     "output_type": "execute_result"
    }
   ],
   "source": [
    "# Should work\n",
    "# pluralize_gift_vec(\"goose\")\n",
    "\n",
    "# Will work if your function is vectorized! \n",
    "# pluralize_gift_vec(xmas['Gift.Item'])"
   ]
  },
  {
   "cell_type": "markdown",
   "metadata": {},
   "source": [
    "**Function 2**"
   ]
  },
  {
   "cell_type": "markdown",
   "metadata": {},
   "source": [
    "function 1 takes a list of int and converts them into a list of str\n",
    "function 2 takes a list of string numbers and maps them to a list of words\n"
   ]
  },
  {
   "cell_type": "code",
   "execution_count": 219,
   "metadata": {
    "vscode": {
     "languageId": "python"
    }
   },
   "outputs": [],
   "source": [
    "def convert_number(num):\n",
    "    \"\"\"\n",
    "    Returns the word form of a given number, only for integers between 1-12\n",
    "    Parameters\n",
    "  ----------\n",
    "  num: int\n",
    "    a number between 1 and 12\n",
    "    \n",
    "  Return\n",
    "  ------\n",
    "  str\n",
    "    word form of the given int\n",
    "    \"\"\"\n",
    "    if (type(num) == int) == False:\n",
    "        return \"Error, please only use integer type data between 1-12\"\n",
    "    if num > 12:\n",
    "        return \"Error, please only use integers between 1-12\"\n",
    " \n",
    "    num = str(num)\n",
    "    num = pd.Series(num) #.map() seems to only work on a pandas series so I convert the number to a series with one entry\n",
    "    asword = num.map({\n",
    "        \"1\" : \"one\",\n",
    "        \"2\" : \"two\",\n",
    "        \"3\" : \"three\",\n",
    "        \"4\" : \"four\",\n",
    "        \"5\" : \"five\",\n",
    "        \"6\" : \"six\",\n",
    "        \"7\" : \"seven\",\n",
    "        \"8\" : \"eight\",\n",
    "        \"9\" : \"nine\",\n",
    "        \"10\" : \"ten\",\n",
    "        \"11\" : \"eleven\",\n",
    "        \"12\" : \"twelve\"\n",
    "    })\n",
    "    asword = asword[0] #index the first and only item in the pandas series\n",
    "    return asword\n"
   ]
  },
  {
   "cell_type": "code",
   "execution_count": 267,
   "metadata": {
    "vscode": {
     "languageId": "python"
    }
   },
   "outputs": [
    {
     "data": {
      "text/plain": [
       "str"
      ]
     },
     "execution_count": null,
     "metadata": {},
     "output_type": "execute_result"
    }
   ],
   "source": []
  },
  {
   "cell_type": "code",
   "execution_count": 275,
   "metadata": {
    "vscode": {
     "languageId": "python"
    }
   },
   "outputs": [],
   "source": [
    "def make_phrase(num, num_word, item, verb, adjective, location):\n",
    "   # if (type(verb) == float) == True:\n",
    "   #    verb = verb.fillna(\"\")\n",
    "   # else:\n",
    "   #    verb = verb\n",
    "      \n",
    "   # if (type(adjective) == float) == True:\n",
    "   #    adjective = adjective.fillna(\"\")\n",
    "   # else:\n",
    "   #    adjective = adjective\n",
    "   # if (type(location) == float) == True:\n",
    "   #    location = location.fillna(\"\")\n",
    "   # else: \n",
    "   #    location = location\n",
    "   verb = str(verb)\n",
    "   if verb == \"nan\":\n",
    "      verb = \"\"\n",
    "   adjective = str(adjective)\n",
    "   if adjective == \"nan\":\n",
    "      adjective = \"\"\n",
    "   location = str(location)\n",
    "   if location == \"nan\":\n",
    "      location = \"\"\n",
    "   if num > 1:\n",
    "      item = pluralize_gift_vec(item)\n",
    "      num = convert_number(num)\n",
    "   \n",
    "   if num == 1:\n",
    "      if item[0] in [\"a\", \"A\", \"e\", \"E\", \"i\", \"I\", \"o\", \"O\", \"u\", \"U\"]:\n",
    "         num = \"an\"\n",
    "      else:\n",
    "         num = \"a\"\n",
    "      \n",
    "   phrase = num +\" \" + adjective + \" \" + item + \" \" + verb + \" \" + location\n",
    "   \n",
    "   return phrase\n"
   ]
  },
  {
   "cell_type": "code",
   "execution_count": 271,
   "metadata": {
    "vscode": {
     "languageId": "python"
    }
   },
   "outputs": [
    {
     "data": {
      "text/plain": [
       "'an  elephant  in a pear tree'"
      ]
     },
     "execution_count": null,
     "metadata": {},
     "output_type": "execute_result"
    }
   ],
   "source": [
    "make_phrase(num = 1, num_word = \"\", item = \"elephant\", verb = \"\", adjective= \"\", location = \"in a pear tree\")"
   ]
  },
  {
   "cell_type": "code",
   "execution_count": 282,
   "metadata": {
    "vscode": {
     "languageId": "python"
    }
   },
   "outputs": [
    {
     "data": {
      "text/html": [
       "<div>\n",
       "<style scoped>\n",
       "    .dataframe tbody tr th:only-of-type {\n",
       "        vertical-align: middle;\n",
       "    }\n",
       "\n",
       "    .dataframe tbody tr th {\n",
       "        vertical-align: top;\n",
       "    }\n",
       "\n",
       "    .dataframe thead th {\n",
       "        text-align: right;\n",
       "    }\n",
       "</style>\n",
       "<table border=\"1\" class=\"dataframe\">\n",
       "  <thead>\n",
       "    <tr style=\"text-align: right;\">\n",
       "      <th></th>\n",
       "      <th>Day</th>\n",
       "      <th>Day.in.Words</th>\n",
       "      <th>Gift.Item</th>\n",
       "      <th>Verb</th>\n",
       "      <th>Adjective</th>\n",
       "      <th>Location</th>\n",
       "      <th>Full.Phrase</th>\n",
       "    </tr>\n",
       "  </thead>\n",
       "  <tbody>\n",
       "    <tr>\n",
       "      <th>0</th>\n",
       "      <td>1</td>\n",
       "      <td>first</td>\n",
       "      <td>partridge</td>\n",
       "      <td>NaN</td>\n",
       "      <td>NaN</td>\n",
       "      <td>in a pear tree</td>\n",
       "      <td>a  partridge  in a pear tree</td>\n",
       "    </tr>\n",
       "    <tr>\n",
       "      <th>1</th>\n",
       "      <td>2</td>\n",
       "      <td>second</td>\n",
       "      <td>dove</td>\n",
       "      <td>NaN</td>\n",
       "      <td>turtle</td>\n",
       "      <td>NaN</td>\n",
       "      <td>two turtle doves</td>\n",
       "    </tr>\n",
       "    <tr>\n",
       "      <th>2</th>\n",
       "      <td>3</td>\n",
       "      <td>third</td>\n",
       "      <td>hen</td>\n",
       "      <td>NaN</td>\n",
       "      <td>french</td>\n",
       "      <td>NaN</td>\n",
       "      <td>three french hens</td>\n",
       "    </tr>\n",
       "    <tr>\n",
       "      <th>3</th>\n",
       "      <td>4</td>\n",
       "      <td>fourth</td>\n",
       "      <td>bird</td>\n",
       "      <td>NaN</td>\n",
       "      <td>calling</td>\n",
       "      <td>NaN</td>\n",
       "      <td>four calling birds</td>\n",
       "    </tr>\n",
       "    <tr>\n",
       "      <th>4</th>\n",
       "      <td>5</td>\n",
       "      <td>fifth</td>\n",
       "      <td>ring</td>\n",
       "      <td>NaN</td>\n",
       "      <td>golden</td>\n",
       "      <td>NaN</td>\n",
       "      <td>five golden rings</td>\n",
       "    </tr>\n",
       "    <tr>\n",
       "      <th>5</th>\n",
       "      <td>6</td>\n",
       "      <td>sixth</td>\n",
       "      <td>goose</td>\n",
       "      <td>a-laying</td>\n",
       "      <td>NaN</td>\n",
       "      <td>NaN</td>\n",
       "      <td>six  geese a-laying</td>\n",
       "    </tr>\n",
       "    <tr>\n",
       "      <th>6</th>\n",
       "      <td>7</td>\n",
       "      <td>seventh</td>\n",
       "      <td>swan</td>\n",
       "      <td>a-swimming</td>\n",
       "      <td>NaN</td>\n",
       "      <td>NaN</td>\n",
       "      <td>seven  swans a-swimming</td>\n",
       "    </tr>\n",
       "    <tr>\n",
       "      <th>7</th>\n",
       "      <td>8</td>\n",
       "      <td>eighth</td>\n",
       "      <td>maid</td>\n",
       "      <td>a-milking</td>\n",
       "      <td>NaN</td>\n",
       "      <td>NaN</td>\n",
       "      <td>eight  maids a-milking</td>\n",
       "    </tr>\n",
       "    <tr>\n",
       "      <th>8</th>\n",
       "      <td>9</td>\n",
       "      <td>ninth</td>\n",
       "      <td>lady</td>\n",
       "      <td>dancing</td>\n",
       "      <td>NaN</td>\n",
       "      <td>NaN</td>\n",
       "      <td>nine  ladies dancing</td>\n",
       "    </tr>\n",
       "    <tr>\n",
       "      <th>9</th>\n",
       "      <td>10</td>\n",
       "      <td>tenth</td>\n",
       "      <td>lord</td>\n",
       "      <td>a-leaping</td>\n",
       "      <td>NaN</td>\n",
       "      <td>NaN</td>\n",
       "      <td>ten  lords a-leaping</td>\n",
       "    </tr>\n",
       "    <tr>\n",
       "      <th>10</th>\n",
       "      <td>11</td>\n",
       "      <td>eleventh</td>\n",
       "      <td>piper</td>\n",
       "      <td>piping</td>\n",
       "      <td>NaN</td>\n",
       "      <td>NaN</td>\n",
       "      <td>eleven  pipers piping</td>\n",
       "    </tr>\n",
       "    <tr>\n",
       "      <th>11</th>\n",
       "      <td>12</td>\n",
       "      <td>twelfth</td>\n",
       "      <td>drummer</td>\n",
       "      <td>drumming</td>\n",
       "      <td>NaN</td>\n",
       "      <td>NaN</td>\n",
       "      <td>twelve  drummers drumming</td>\n",
       "    </tr>\n",
       "  </tbody>\n",
       "</table>\n",
       "</div>"
      ],
      "text/plain": [
       "    Day Day.in.Words  ...        Location                   Full.Phrase\n",
       "0     1        first  ...  in a pear tree  a  partridge  in a pear tree\n",
       "1     2       second  ...             NaN            two turtle doves  \n",
       "2     3        third  ...             NaN           three french hens  \n",
       "3     4       fourth  ...             NaN          four calling birds  \n",
       "4     5        fifth  ...             NaN           five golden rings  \n",
       "5     6        sixth  ...             NaN          six  geese a-laying \n",
       "6     7      seventh  ...             NaN      seven  swans a-swimming \n",
       "7     8       eighth  ...             NaN       eight  maids a-milking \n",
       "8     9        ninth  ...             NaN         nine  ladies dancing \n",
       "9    10        tenth  ...             NaN         ten  lords a-leaping \n",
       "10   11     eleventh  ...             NaN        eleven  pipers piping \n",
       "11   12      twelfth  ...             NaN    twelve  drummers drumming \n",
       "\n",
       "[12 rows x 7 columns]"
      ]
     },
     "execution_count": null,
     "metadata": {},
     "output_type": "execute_result"
    }
   ],
   "source": [
    "phrase = map(make_phrase, xmas[\"Day\"], xmas[\"Day.in.Words\"], xmas[\"Gift.Item\"], xmas[\"Verb\"], xmas[\"Adjective\"], xmas[\"Location\"])\n",
    "xmas[\"Full.Phrase\"] = pd.Series(phrase)\n",
    "xmas"
   ]
  },
  {
   "cell_type": "code",
   "execution_count": 293,
   "metadata": {
    "vscode": {
     "languageId": "python"
    }
   },
   "outputs": [
    {
     "data": {
      "text/plain": [
       "pandas.core.series.Series"
      ]
     },
     "execution_count": null,
     "metadata": {},
     "output_type": "execute_result"
    }
   ],
   "source": [
    "days = xmas.iloc[:,0]\n"
   ]
  },
  {
   "cell_type": "code",
   "execution_count": 342,
   "metadata": {
    "vscode": {
     "languageId": "python"
    }
   },
   "outputs": [],
   "source": [
    "def make_phrase_3(num, num_word, item, verb, adjective, location):\n",
    "\n",
    "   if num > 1:\n",
    "      item = pluralize_gift_vec(item)\n",
    "      num = convert_number(num)\n",
    "   \n",
    "   if num == 1:\n",
    "      if item[0] in [\"a\", \"A\", \"e\", \"E\", \"i\", \"I\", \"o\", \"O\", \"u\", \"U\"]:\n",
    "         num = \"an\"\n",
    "      else:\n",
    "         num = \"a\"\n",
    "      \n",
    "   phrase = num +\" \" + adjective + \" \" + item + \" \" + verb + \" \" + location\n",
    "   \n",
    "   return phrase"
   ]
  },
  {
   "cell_type": "code",
   "execution_count": 344,
   "metadata": {
    "vscode": {
     "languageId": "python"
    }
   },
   "outputs": [],
   "source": [
    "def make_phrase_2 (data):\n",
    "  \"\"\"\n",
    "  <documentation here>\n",
    "  \"\"\"\n",
    "  verb = data.iloc[:,3]\n",
    "  adjective = data.iloc[:,4]\n",
    "  location = data.iloc[:,5]\n",
    "  ## Step 1: Replace NAs with blank strings\n",
    "  \n",
    "\n",
    "  verb = verb.fillna(\"\")\n",
    "  adjective = adjective.fillna(\"\")\n",
    "  location = location.fillna(\"\")\n",
    "  data.iloc[:,3] = verb\n",
    "  data.iloc[:,4] = adjective\n",
    "  data.iloc[:,5] = location\n",
    "\n",
    "  phrase = data.apply(lambda x: make_phrase_3(x.iloc[0], x.iloc[1], x.iloc[2], x.iloc[3], x.iloc[4], x.iloc[5]), axis =1)\n",
    "  data[\"Full.Phrase\"] = phrase\n",
    "  return data"
   ]
  },
  {
   "cell_type": "code",
   "execution_count": 345,
   "metadata": {
    "vscode": {
     "languageId": "python"
    }
   },
   "outputs": [
    {
     "data": {
      "text/html": [
       "<div>\n",
       "<style scoped>\n",
       "    .dataframe tbody tr th:only-of-type {\n",
       "        vertical-align: middle;\n",
       "    }\n",
       "\n",
       "    .dataframe tbody tr th {\n",
       "        vertical-align: top;\n",
       "    }\n",
       "\n",
       "    .dataframe thead th {\n",
       "        text-align: right;\n",
       "    }\n",
       "</style>\n",
       "<table border=\"1\" class=\"dataframe\">\n",
       "  <thead>\n",
       "    <tr style=\"text-align: right;\">\n",
       "      <th></th>\n",
       "      <th>Day</th>\n",
       "      <th>Day.in.Words</th>\n",
       "      <th>Gift.Item</th>\n",
       "      <th>Verb</th>\n",
       "      <th>Adjective</th>\n",
       "      <th>Location</th>\n",
       "      <th>Full.Phrase</th>\n",
       "    </tr>\n",
       "  </thead>\n",
       "  <tbody>\n",
       "    <tr>\n",
       "      <th>0</th>\n",
       "      <td>1</td>\n",
       "      <td>first</td>\n",
       "      <td>partridge</td>\n",
       "      <td></td>\n",
       "      <td></td>\n",
       "      <td>in a pear tree</td>\n",
       "      <td>a  partridge  in a pear tree</td>\n",
       "    </tr>\n",
       "    <tr>\n",
       "      <th>1</th>\n",
       "      <td>2</td>\n",
       "      <td>second</td>\n",
       "      <td>dove</td>\n",
       "      <td></td>\n",
       "      <td>turtle</td>\n",
       "      <td></td>\n",
       "      <td>two turtle doves</td>\n",
       "    </tr>\n",
       "    <tr>\n",
       "      <th>2</th>\n",
       "      <td>3</td>\n",
       "      <td>third</td>\n",
       "      <td>hen</td>\n",
       "      <td></td>\n",
       "      <td>french</td>\n",
       "      <td></td>\n",
       "      <td>three french hens</td>\n",
       "    </tr>\n",
       "    <tr>\n",
       "      <th>3</th>\n",
       "      <td>4</td>\n",
       "      <td>fourth</td>\n",
       "      <td>bird</td>\n",
       "      <td></td>\n",
       "      <td>calling</td>\n",
       "      <td></td>\n",
       "      <td>four calling birds</td>\n",
       "    </tr>\n",
       "    <tr>\n",
       "      <th>4</th>\n",
       "      <td>5</td>\n",
       "      <td>fifth</td>\n",
       "      <td>ring</td>\n",
       "      <td></td>\n",
       "      <td>golden</td>\n",
       "      <td></td>\n",
       "      <td>five golden rings</td>\n",
       "    </tr>\n",
       "    <tr>\n",
       "      <th>5</th>\n",
       "      <td>6</td>\n",
       "      <td>sixth</td>\n",
       "      <td>goose</td>\n",
       "      <td>a-laying</td>\n",
       "      <td></td>\n",
       "      <td></td>\n",
       "      <td>six  geese a-laying</td>\n",
       "    </tr>\n",
       "    <tr>\n",
       "      <th>6</th>\n",
       "      <td>7</td>\n",
       "      <td>seventh</td>\n",
       "      <td>swan</td>\n",
       "      <td>a-swimming</td>\n",
       "      <td></td>\n",
       "      <td></td>\n",
       "      <td>seven  swans a-swimming</td>\n",
       "    </tr>\n",
       "    <tr>\n",
       "      <th>7</th>\n",
       "      <td>8</td>\n",
       "      <td>eighth</td>\n",
       "      <td>maid</td>\n",
       "      <td>a-milking</td>\n",
       "      <td></td>\n",
       "      <td></td>\n",
       "      <td>eight  maids a-milking</td>\n",
       "    </tr>\n",
       "    <tr>\n",
       "      <th>8</th>\n",
       "      <td>9</td>\n",
       "      <td>ninth</td>\n",
       "      <td>lady</td>\n",
       "      <td>dancing</td>\n",
       "      <td></td>\n",
       "      <td></td>\n",
       "      <td>nine  ladies dancing</td>\n",
       "    </tr>\n",
       "    <tr>\n",
       "      <th>9</th>\n",
       "      <td>10</td>\n",
       "      <td>tenth</td>\n",
       "      <td>lord</td>\n",
       "      <td>a-leaping</td>\n",
       "      <td></td>\n",
       "      <td></td>\n",
       "      <td>ten  lords a-leaping</td>\n",
       "    </tr>\n",
       "    <tr>\n",
       "      <th>10</th>\n",
       "      <td>11</td>\n",
       "      <td>eleventh</td>\n",
       "      <td>piper</td>\n",
       "      <td>piping</td>\n",
       "      <td></td>\n",
       "      <td></td>\n",
       "      <td>eleven  pipers piping</td>\n",
       "    </tr>\n",
       "    <tr>\n",
       "      <th>11</th>\n",
       "      <td>12</td>\n",
       "      <td>twelfth</td>\n",
       "      <td>drummer</td>\n",
       "      <td>drumming</td>\n",
       "      <td></td>\n",
       "      <td></td>\n",
       "      <td>twelve  drummers drumming</td>\n",
       "    </tr>\n",
       "  </tbody>\n",
       "</table>\n",
       "</div>"
      ],
      "text/plain": [
       "    Day Day.in.Words  ...        Location                   Full.Phrase\n",
       "0     1        first  ...  in a pear tree  a  partridge  in a pear tree\n",
       "1     2       second  ...                            two turtle doves  \n",
       "2     3        third  ...                           three french hens  \n",
       "3     4       fourth  ...                          four calling birds  \n",
       "4     5        fifth  ...                           five golden rings  \n",
       "5     6        sixth  ...                          six  geese a-laying \n",
       "6     7      seventh  ...                      seven  swans a-swimming \n",
       "7     8       eighth  ...                       eight  maids a-milking \n",
       "8     9        ninth  ...                         nine  ladies dancing \n",
       "9    10        tenth  ...                         ten  lords a-leaping \n",
       "10   11     eleventh  ...                        eleven  pipers piping \n",
       "11   12      twelfth  ...                    twelve  drummers drumming \n",
       "\n",
       "[12 rows x 7 columns]"
      ]
     },
     "execution_count": null,
     "metadata": {},
     "output_type": "execute_result"
    }
   ],
   "source": [
    "make_phrase_2(xmas)\n"
   ]
  },
  {
   "cell_type": "code",
   "execution_count": null,
   "metadata": {
    "vscode": {
     "languageId": "python"
    }
   },
   "outputs": [],
   "source": []
  }
 ],
 "metadata": {
  "language_info": {
   "name": "raw"
  }
 },
 "nbformat": 4,
 "nbformat_minor": 2
}
