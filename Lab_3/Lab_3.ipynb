{
 "cells": [
  {
   "cell_type": "raw",
   "metadata": {},
   "source": [
    "---\n",
    "title: Lab 2\n",
    "author: Davis Bove\n",
    "format: \n",
    "  html:\n",
    "    loc: true\n",
    "    code-fold: true\n",
    "embed-resources: true\n",
    "---"
   ]
  },
  {
   "cell_type": "code",
   "execution_count": 40,
   "metadata": {
    "vscode": {
     "languageId": "python"
    }
   },
   "outputs": [
    {
     "data": {
      "text/html": [
       "<div>\n",
       "<style scoped>\n",
       "    .dataframe tbody tr th:only-of-type {\n",
       "        vertical-align: middle;\n",
       "    }\n",
       "\n",
       "    .dataframe tbody tr th {\n",
       "        vertical-align: top;\n",
       "    }\n",
       "\n",
       "    .dataframe thead th {\n",
       "        text-align: right;\n",
       "    }\n",
       "</style>\n",
       "<table border=\"1\" class=\"dataframe\">\n",
       "  <thead>\n",
       "    <tr style=\"text-align: right;\">\n",
       "      <th></th>\n",
       "      <th>Day</th>\n",
       "      <th>Day.in.Words</th>\n",
       "      <th>Gift.Item</th>\n",
       "      <th>Verb</th>\n",
       "      <th>Adjective</th>\n",
       "      <th>Location</th>\n",
       "    </tr>\n",
       "  </thead>\n",
       "  <tbody>\n",
       "    <tr>\n",
       "      <th>0</th>\n",
       "      <td>1</td>\n",
       "      <td>first</td>\n",
       "      <td>partridge</td>\n",
       "      <td>NaN</td>\n",
       "      <td>NaN</td>\n",
       "      <td>in a pear tree</td>\n",
       "    </tr>\n",
       "    <tr>\n",
       "      <th>1</th>\n",
       "      <td>2</td>\n",
       "      <td>second</td>\n",
       "      <td>dove</td>\n",
       "      <td>NaN</td>\n",
       "      <td>turtle</td>\n",
       "      <td>NaN</td>\n",
       "    </tr>\n",
       "    <tr>\n",
       "      <th>2</th>\n",
       "      <td>3</td>\n",
       "      <td>third</td>\n",
       "      <td>hen</td>\n",
       "      <td>NaN</td>\n",
       "      <td>french</td>\n",
       "      <td>NaN</td>\n",
       "    </tr>\n",
       "    <tr>\n",
       "      <th>3</th>\n",
       "      <td>4</td>\n",
       "      <td>fourth</td>\n",
       "      <td>bird</td>\n",
       "      <td>NaN</td>\n",
       "      <td>calling</td>\n",
       "      <td>NaN</td>\n",
       "    </tr>\n",
       "    <tr>\n",
       "      <th>4</th>\n",
       "      <td>5</td>\n",
       "      <td>fifth</td>\n",
       "      <td>ring</td>\n",
       "      <td>NaN</td>\n",
       "      <td>golden</td>\n",
       "      <td>NaN</td>\n",
       "    </tr>\n",
       "    <tr>\n",
       "      <th>5</th>\n",
       "      <td>6</td>\n",
       "      <td>sixth</td>\n",
       "      <td>goose</td>\n",
       "      <td>a-laying</td>\n",
       "      <td>NaN</td>\n",
       "      <td>NaN</td>\n",
       "    </tr>\n",
       "    <tr>\n",
       "      <th>6</th>\n",
       "      <td>7</td>\n",
       "      <td>seventh</td>\n",
       "      <td>swan</td>\n",
       "      <td>a-swimming</td>\n",
       "      <td>NaN</td>\n",
       "      <td>NaN</td>\n",
       "    </tr>\n",
       "    <tr>\n",
       "      <th>7</th>\n",
       "      <td>8</td>\n",
       "      <td>eighth</td>\n",
       "      <td>maid</td>\n",
       "      <td>a-milking</td>\n",
       "      <td>NaN</td>\n",
       "      <td>NaN</td>\n",
       "    </tr>\n",
       "    <tr>\n",
       "      <th>8</th>\n",
       "      <td>9</td>\n",
       "      <td>ninth</td>\n",
       "      <td>lady</td>\n",
       "      <td>dancing</td>\n",
       "      <td>NaN</td>\n",
       "      <td>NaN</td>\n",
       "    </tr>\n",
       "    <tr>\n",
       "      <th>9</th>\n",
       "      <td>10</td>\n",
       "      <td>tenth</td>\n",
       "      <td>lord</td>\n",
       "      <td>a-leaping</td>\n",
       "      <td>NaN</td>\n",
       "      <td>NaN</td>\n",
       "    </tr>\n",
       "    <tr>\n",
       "      <th>10</th>\n",
       "      <td>11</td>\n",
       "      <td>eleventh</td>\n",
       "      <td>piper</td>\n",
       "      <td>piping</td>\n",
       "      <td>NaN</td>\n",
       "      <td>NaN</td>\n",
       "    </tr>\n",
       "    <tr>\n",
       "      <th>11</th>\n",
       "      <td>12</td>\n",
       "      <td>twelfth</td>\n",
       "      <td>drummer</td>\n",
       "      <td>drumming</td>\n",
       "      <td>NaN</td>\n",
       "      <td>NaN</td>\n",
       "    </tr>\n",
       "  </tbody>\n",
       "</table>\n",
       "</div>"
      ],
      "text/plain": [
       "    Day Day.in.Words  Gift.Item        Verb Adjective        Location\n",
       "0     1        first  partridge         NaN       NaN  in a pear tree\n",
       "1     2       second       dove         NaN    turtle             NaN\n",
       "2     3        third        hen         NaN    french             NaN\n",
       "3     4       fourth       bird         NaN   calling             NaN\n",
       "4     5        fifth       ring         NaN    golden             NaN\n",
       "5     6        sixth      goose    a-laying       NaN             NaN\n",
       "6     7      seventh       swan  a-swimming       NaN             NaN\n",
       "7     8       eighth       maid   a-milking       NaN             NaN\n",
       "8     9        ninth       lady     dancing       NaN             NaN\n",
       "9    10        tenth       lord   a-leaping       NaN             NaN\n",
       "10   11     eleventh      piper      piping       NaN             NaN\n",
       "11   12      twelfth    drummer    drumming       NaN             NaN"
      ]
     },
     "execution_count": null,
     "metadata": {},
     "output_type": "execute_result"
    }
   ],
   "source": [
    "import pandas as pd\n",
    "xmas = pd.read_csv(\"https://www.dropbox.com/scl/fi/qxaslqqp5p08i1650rpc4/xmas.csv?rlkey=erdxi7jbh7pqf9fh4lv4cayp5&dl=1\")\n",
    "xmas"
   ]
  },
  {
   "cell_type": "code",
   "execution_count": 36,
   "metadata": {
    "vscode": {
     "languageId": "python"
    }
   },
   "outputs": [],
   "source": [
    "# gift = \"goose\"\n",
    "# gift.find(\"oo\")"
   ]
  },
  {
   "cell_type": "code",
   "execution_count": 42,
   "metadata": {
    "vscode": {
     "languageId": "python"
    }
   },
   "outputs": [],
   "source": [
    "def pluralize_gift(gift):\n",
    "  \"\"\"\n",
    "  Returns plural of a noun\n",
    "  \n",
    "  Parameters\n",
    "  ----------\n",
    "  gift: str\n",
    "    A noun\n",
    "    \n",
    "  Return\n",
    "  ------\n",
    "  str\n",
    "    Plural version\n",
    "  \"\"\"\n",
    "\n",
    "  if gift.find(\"oo\") != -1 :\n",
    "    gift = gift.replace(\"oo\", \"ee\") \n",
    "  elif gift[-1] == \"y\":\n",
    "    gift = gift.replace(\"y\", \"ies\")\n",
    "  else:\n",
    "    gift = gift +\"s\"\n",
    "\n",
    "  return gift"
   ]
  },
  {
   "cell_type": "code",
   "execution_count": 72,
   "metadata": {
    "vscode": {
     "languageId": "python"
    }
   },
   "outputs": [],
   "source": [
    "# def pluralize_gift_vec(vec):\n",
    "#    pluralize_vec = list()\n",
    "#    for val in vec:\n",
    "#     val = pluralize_gift(val)\n",
    "#     pluralize_vec.append(val)\n",
    "#    return pluralize_vec "
   ]
  },
  {
   "cell_type": "code",
   "execution_count": 131,
   "metadata": {
    "vscode": {
     "languageId": "python"
    }
   },
   "outputs": [],
   "source": [
    "# vec = xmas[\"Gift.Item\"]\n",
    "# import numpy as np\n",
    "# vec = np.array(vec)\n",
    "# type(vec)\n",
    "\n",
    "# TF = type(vec) == np.ndarray\n",
    "# TF"
   ]
  },
  {
   "cell_type": "code",
   "execution_count": 128,
   "metadata": {
    "vscode": {
     "languageId": "python"
    }
   },
   "outputs": [],
   "source": [
    "#vectorized form of pluarlized gift\n",
    "\n",
    "def pluralize_gift_vec(vec):\n",
    "    \"\"\"\n",
    "  Returns plural of a noun\n",
    "  \n",
    "  Parameters\n",
    "  ----------\n",
    "  vec: str, list, pd.series, np.array\n",
    "    A noun, or list of nouns \n",
    "    if using a pandas series or numpy array, pandas must be named as pd and numpy named as np\n",
    "    \n",
    "  Return\n",
    "  ------\n",
    "  str, list (pd.series and np.array will be converted to list)\n",
    "    Plural version of given nouns\n",
    "  \"\"\"\n",
    "\n",
    "  \n",
    "    if (type(vec) == pd.Series) == True:\n",
    "        vec = list(vec)\n",
    "        pluralize_vec = map(pluralize_gift, vec)\n",
    "        pluralize_vec = list(pluralize_vec)\n",
    "        return pluralize_vec\n",
    "    if (type(vec) == str) == True:\n",
    "        pluralize_vec = pluralize_gift(vec)\n",
    "        return pluralize_vec\n",
    "    if (type(vec) == list) == True:\n",
    "        pluralize_vec = map(pluralize_gift, vec)\n",
    "        pluralize_vec = list(pluralize_vec)\n",
    "        return pluralize_vec\n",
    "    if (type(vec) == np.ndarray) == True:\n",
    "        vec = list(vec)\n",
    "        pluralize_vec = map(pluralize_gift, vec)\n",
    "        pluralize_vec = list(pluralize_vec)\n",
    "        return pluralize_vec\n",
    "    else: \n",
    "        return \"Please give one of the following data types: Pandas series, list, numpy array, or string\"\n",
    "    \n",
    "    "
   ]
  },
  {
   "cell_type": "code",
   "execution_count": 132,
   "metadata": {
    "vscode": {
     "languageId": "python"
    }
   },
   "outputs": [],
   "source": [
    "# Should work\n",
    "# pluralize_gift_vec(\"goose\")\n",
    "\n",
    "# Will work if your function is vectorized! \n",
    "# pluralize_gift_vec(xmas['Gift.Item'])"
   ]
  },
  {
   "cell_type": "code",
   "execution_count": null,
   "metadata": {
    "vscode": {
     "languageId": "python"
    }
   },
   "outputs": [],
   "source": []
  }
 ],
 "metadata": {
  "language_info": {
   "name": "raw"
  }
 },
 "nbformat": 4,
 "nbformat_minor": 2
}
