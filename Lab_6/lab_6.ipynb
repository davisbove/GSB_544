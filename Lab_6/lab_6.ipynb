{
 "cells": [
  {
   "cell_type": "raw",
   "metadata": {},
   "source": [
    "---\n",
    "title: Lab 6\n",
    "author: Davis Bove\n",
    "format: \n",
    "  html:\n",
    "    loc: true\n",
    "    code-fold: true\n",
    "embed-resources: true\n",
    "---"
   ]
  },
  {
   "cell_type": "markdown",
   "metadata": {},
   "source": [
    "*Note part 3, the discussion, is touched throughout the lab, but separately addressed at the end*"
   ]
  },
  {
   "cell_type": "code",
   "execution_count": 437,
   "metadata": {
    "vscode": {
     "languageId": "python"
    }
   },
   "outputs": [],
   "source": [
    "#imports\n",
    "import pandas as pd\n",
    "import numpy as np\n",
    "from sklearn.pipeline import Pipeline\n",
    "from sklearn.linear_model import LinearRegression, Ridge, Lasso, ElasticNet\n",
    "from sklearn.compose import make_column_selector, ColumnTransformer\n",
    "from sklearn.preprocessing import StandardScaler, OneHotEncoder, PolynomialFeatures, FunctionTransformer\n",
    "from sklearn.model_selection import cross_val_score, GridSearchCV\n",
    "from sklearn.metrics import r2_score\n",
    "from plotnine import ggplot, geom_boxplot, aes, labs, geom_point, geom_line"
   ]
  },
  {
   "cell_type": "code",
   "execution_count": 421,
   "metadata": {
    "vscode": {
     "languageId": "python"
    }
   },
   "outputs": [
    {
     "data": {
      "text/html": [
       "<div>\n",
       "<style scoped>\n",
       "    .dataframe tbody tr th:only-of-type {\n",
       "        vertical-align: middle;\n",
       "    }\n",
       "\n",
       "    .dataframe tbody tr th {\n",
       "        vertical-align: top;\n",
       "    }\n",
       "\n",
       "    .dataframe thead th {\n",
       "        text-align: right;\n",
       "    }\n",
       "</style>\n",
       "<table border=\"1\" class=\"dataframe\">\n",
       "  <thead>\n",
       "    <tr style=\"text-align: right;\">\n",
       "      <th></th>\n",
       "      <th>AtBat</th>\n",
       "      <th>Hits</th>\n",
       "      <th>HmRun</th>\n",
       "      <th>Runs</th>\n",
       "      <th>RBI</th>\n",
       "      <th>Walks</th>\n",
       "      <th>Years</th>\n",
       "      <th>CAtBat</th>\n",
       "      <th>CHits</th>\n",
       "      <th>CHmRun</th>\n",
       "      <th>CRuns</th>\n",
       "      <th>CRBI</th>\n",
       "      <th>CWalks</th>\n",
       "      <th>League</th>\n",
       "      <th>Division</th>\n",
       "      <th>PutOuts</th>\n",
       "      <th>Assists</th>\n",
       "      <th>Errors</th>\n",
       "      <th>Salary</th>\n",
       "      <th>NewLeague</th>\n",
       "    </tr>\n",
       "  </thead>\n",
       "  <tbody>\n",
       "    <tr>\n",
       "      <th>1</th>\n",
       "      <td>315</td>\n",
       "      <td>81</td>\n",
       "      <td>7</td>\n",
       "      <td>24</td>\n",
       "      <td>38</td>\n",
       "      <td>39</td>\n",
       "      <td>14</td>\n",
       "      <td>3449</td>\n",
       "      <td>835</td>\n",
       "      <td>69</td>\n",
       "      <td>321</td>\n",
       "      <td>414</td>\n",
       "      <td>375</td>\n",
       "      <td>N</td>\n",
       "      <td>W</td>\n",
       "      <td>632</td>\n",
       "      <td>43</td>\n",
       "      <td>10</td>\n",
       "      <td>475.0</td>\n",
       "      <td>N</td>\n",
       "    </tr>\n",
       "    <tr>\n",
       "      <th>2</th>\n",
       "      <td>479</td>\n",
       "      <td>130</td>\n",
       "      <td>18</td>\n",
       "      <td>66</td>\n",
       "      <td>72</td>\n",
       "      <td>76</td>\n",
       "      <td>3</td>\n",
       "      <td>1624</td>\n",
       "      <td>457</td>\n",
       "      <td>63</td>\n",
       "      <td>224</td>\n",
       "      <td>266</td>\n",
       "      <td>263</td>\n",
       "      <td>A</td>\n",
       "      <td>W</td>\n",
       "      <td>880</td>\n",
       "      <td>82</td>\n",
       "      <td>14</td>\n",
       "      <td>480.0</td>\n",
       "      <td>A</td>\n",
       "    </tr>\n",
       "    <tr>\n",
       "      <th>3</th>\n",
       "      <td>496</td>\n",
       "      <td>141</td>\n",
       "      <td>20</td>\n",
       "      <td>65</td>\n",
       "      <td>78</td>\n",
       "      <td>37</td>\n",
       "      <td>11</td>\n",
       "      <td>5628</td>\n",
       "      <td>1575</td>\n",
       "      <td>225</td>\n",
       "      <td>828</td>\n",
       "      <td>838</td>\n",
       "      <td>354</td>\n",
       "      <td>N</td>\n",
       "      <td>E</td>\n",
       "      <td>200</td>\n",
       "      <td>11</td>\n",
       "      <td>3</td>\n",
       "      <td>500.0</td>\n",
       "      <td>N</td>\n",
       "    </tr>\n",
       "    <tr>\n",
       "      <th>4</th>\n",
       "      <td>321</td>\n",
       "      <td>87</td>\n",
       "      <td>10</td>\n",
       "      <td>39</td>\n",
       "      <td>42</td>\n",
       "      <td>30</td>\n",
       "      <td>2</td>\n",
       "      <td>396</td>\n",
       "      <td>101</td>\n",
       "      <td>12</td>\n",
       "      <td>48</td>\n",
       "      <td>46</td>\n",
       "      <td>33</td>\n",
       "      <td>N</td>\n",
       "      <td>E</td>\n",
       "      <td>805</td>\n",
       "      <td>40</td>\n",
       "      <td>4</td>\n",
       "      <td>91.5</td>\n",
       "      <td>N</td>\n",
       "    </tr>\n",
       "    <tr>\n",
       "      <th>5</th>\n",
       "      <td>594</td>\n",
       "      <td>169</td>\n",
       "      <td>4</td>\n",
       "      <td>74</td>\n",
       "      <td>51</td>\n",
       "      <td>35</td>\n",
       "      <td>11</td>\n",
       "      <td>4408</td>\n",
       "      <td>1133</td>\n",
       "      <td>19</td>\n",
       "      <td>501</td>\n",
       "      <td>336</td>\n",
       "      <td>194</td>\n",
       "      <td>A</td>\n",
       "      <td>W</td>\n",
       "      <td>282</td>\n",
       "      <td>421</td>\n",
       "      <td>25</td>\n",
       "      <td>750.0</td>\n",
       "      <td>A</td>\n",
       "    </tr>\n",
       "  </tbody>\n",
       "</table>\n",
       "</div>"
      ],
      "text/plain": [
       "   AtBat  Hits  HmRun  Runs  RBI  ...  PutOuts  Assists  Errors  Salary  NewLeague\n",
       "1    315    81      7    24   38  ...      632       43      10   475.0          N\n",
       "2    479   130     18    66   72  ...      880       82      14   480.0          A\n",
       "3    496   141     20    65   78  ...      200       11       3   500.0          N\n",
       "4    321    87     10    39   42  ...      805       40       4    91.5          N\n",
       "5    594   169      4    74   51  ...      282      421      25   750.0          A\n",
       "\n",
       "[5 rows x 20 columns]"
      ]
     },
     "execution_count": null,
     "metadata": {},
     "output_type": "execute_result"
    }
   ],
   "source": [
    "data = pd.read_csv(\"Hitters.csv\")\n",
    "data.head()\n",
    "#if the salary column is NaN, we will drop that row as that is the variable to be predicted \n",
    "#if one of the other columns is NaN, we will replace it with the mean of that column so the data from the other columns can be used \n",
    "\n",
    "Data_drop_NA = data.dropna(subset = \"Salary\")\n",
    "\n",
    "data_clean = Data_drop_NA.apply(lambda x: x.fillna(x.mean()) if x.dtype in ['float64', 'int64'] else x)\n",
    "data_clean.head()"
   ]
  },
  {
   "cell_type": "code",
   "execution_count": 111,
   "metadata": {
    "vscode": {
     "languageId": "python"
    }
   },
   "outputs": [],
   "source": [
    "# data_clean[\"Division\"].unique()"
   ]
  },
  {
   "cell_type": "markdown",
   "metadata": {},
   "source": [
    "**Pipeline 1**\n",
    "All columns as predictor for salary using basic linear regression\n"
   ]
  },
  {
   "cell_type": "code",
   "execution_count": 57,
   "metadata": {
    "vscode": {
     "languageId": "python"
    }
   },
   "outputs": [],
   "source": [
    "X = data_clean.drop(\"Salary\", axis = 1)\n",
    "y = data_clean[\"Salary\"]\n",
    "#League, division, and NewLeague are categorical and need to be dummified"
   ]
  },
  {
   "cell_type": "code",
   "execution_count": 154,
   "metadata": {
    "vscode": {
     "languageId": "python"
    }
   },
   "outputs": [],
   "source": [
    "ct_1 = ColumnTransformer(\n",
    "    [(\"dummify\", OneHotEncoder(sparse_output= False, drop= \"first\"),  make_column_selector(dtype_include=object)),\n",
    "    (\"standardize\", StandardScaler(), make_column_selector(dtype_include= np.number))\n",
    "    ],\n",
    "    remainder = \"passthrough\"\n",
    ").set_output(transform = \"pandas\")\n",
    "variables = ct_1.fit_transform(data_clean)\n",
    "# variables"
   ]
  },
  {
   "cell_type": "code",
   "execution_count": 54,
   "metadata": {
    "vscode": {
     "languageId": "python"
    }
   },
   "outputs": [],
   "source": [
    "pipeline_1 = Pipeline(\n",
    "    [(\"preprocessing\", ct_1),\n",
    "    (\"Regression\", LinearRegression())]\n",
    ").set_output(transform= \"pandas\")"
   ]
  },
  {
   "cell_type": "markdown",
   "metadata": {},
   "source": [
    "Interpretting some important coeffecients of model 1:"
   ]
  },
  {
   "cell_type": "code",
   "execution_count": 385,
   "metadata": {
    "vscode": {
     "languageId": "python"
    }
   },
   "outputs": [
    {
     "data": {
      "text/html": [
       "<div>\n",
       "<style scoped>\n",
       "    .dataframe tbody tr th:only-of-type {\n",
       "        vertical-align: middle;\n",
       "    }\n",
       "\n",
       "    .dataframe tbody tr th {\n",
       "        vertical-align: top;\n",
       "    }\n",
       "\n",
       "    .dataframe thead th {\n",
       "        text-align: right;\n",
       "    }\n",
       "</style>\n",
       "<table border=\"1\" class=\"dataframe\">\n",
       "  <thead>\n",
       "    <tr style=\"text-align: right;\">\n",
       "      <th></th>\n",
       "      <th>Variables</th>\n",
       "      <th>Coeffecients</th>\n",
       "      <th>Absolute Value</th>\n",
       "    </tr>\n",
       "  </thead>\n",
       "  <tbody>\n",
       "    <tr>\n",
       "      <th>13</th>\n",
       "      <td>standardize__CRuns</td>\n",
       "      <td>480.747135</td>\n",
       "      <td>480.747135</td>\n",
       "    </tr>\n",
       "    <tr>\n",
       "      <th>10</th>\n",
       "      <td>standardize__CAtBat</td>\n",
       "      <td>-391.038655</td>\n",
       "      <td>391.038655</td>\n",
       "    </tr>\n",
       "    <tr>\n",
       "      <th>4</th>\n",
       "      <td>standardize__Hits</td>\n",
       "      <td>337.830479</td>\n",
       "      <td>337.830479</td>\n",
       "    </tr>\n",
       "    <tr>\n",
       "      <th>3</th>\n",
       "      <td>standardize__AtBat</td>\n",
       "      <td>-291.094556</td>\n",
       "      <td>291.094556</td>\n",
       "    </tr>\n",
       "    <tr>\n",
       "      <th>14</th>\n",
       "      <td>standardize__CRBI</td>\n",
       "      <td>260.689886</td>\n",
       "      <td>260.689886</td>\n",
       "    </tr>\n",
       "  </tbody>\n",
       "</table>\n",
       "</div>"
      ],
      "text/plain": [
       "              Variables  Coeffecients  Absolute Value\n",
       "13   standardize__CRuns    480.747135      480.747135\n",
       "10  standardize__CAtBat   -391.038655      391.038655\n",
       "4     standardize__Hits    337.830479      337.830479\n",
       "3    standardize__AtBat   -291.094556      291.094556\n",
       "14    standardize__CRBI    260.689886      260.689886"
      ]
     },
     "execution_count": null,
     "metadata": {},
     "output_type": "execute_result"
    }
   ],
   "source": [
    "#fitting to full dataset \n",
    "pipeline_1_fitted = pipeline_1.fit(X, y)\n",
    "coeff = pipeline_1_fitted.named_steps['Regression'].coef_\n",
    "variable = variables.columns\n",
    "variable = variable[0:19]\n",
    "important_variables = pd.DataFrame({\"Variables\" : variable, \"Coeffecients\" : coeff, \"Absolute Value\" : abs(coeff)})\n",
    "important_variables.sort_values(\"Absolute Value\", ascending= False).head()"
   ]
  },
  {
   "cell_type": "markdown",
   "metadata": {},
   "source": [
    "When sorting the coeffecients based on their absolute value, the top five most important coeffecients are: the number of career runs, the number of career at bats, the number of hits in 1986, the number of at bats in 1986, and the number of career RBIs. Career runs, 1986 hits, and career RBIs are the highest positive coeffecients. This means that if you are a player with lots of runs and RBIs throughout your career and hit well in 1986 your salary will likely be higher. \n",
    "\n",
    "On the other side it seems that career at bats and 1986 at bats negatively correlate to a higher salary in 1989. This seems odd at first glance and I am curious to see how this changes as some other variables are dropped, however in this model, a higher amount of at bats seems to mean a lower salary for the 1989 season. I notice that career years also has a negative correlation, so potentially older players who have more at bats are outside of the \"prime\" age to play and these variables are also showing that. "
   ]
  },
  {
   "cell_type": "markdown",
   "metadata": {},
   "source": [
    "**MSE scores for pipeline 1:**"
   ]
  },
  {
   "cell_type": "code",
   "execution_count": 310,
   "metadata": {
    "vscode": {
     "languageId": "python"
    }
   },
   "outputs": [
    {
     "name": "stdout",
     "output_type": "stream",
     "text": [
      "121136.31031816886\n",
      "121136.31031816886\n"
     ]
    }
   ],
   "source": [
    "scores = -cross_val_score(pipeline_1, X, y, cv=5, scoring='neg_mean_squared_error') \n",
    "#chat GPT helped to write \"neg_mean_squared_error\", to evaluate based on mse vs. r2\n",
    "pipeline_1_MSE = scores.mean()\n",
    "print(pipeline_1_MSE)"
   ]
  },
  {
   "cell_type": "markdown",
   "metadata": {
    "vscode": {
     "languageId": "python"
    }
   },
   "source": [
    "**Pipeline 2**\n",
    "All columns as predictor for salary using ridge regression"
   ]
  },
  {
   "cell_type": "code",
   "execution_count": 104,
   "metadata": {
    "vscode": {
     "languageId": "python"
    }
   },
   "outputs": [],
   "source": [
    "pipeline_2 = Pipeline(\n",
    "    [(\"preprocessing\", ct_1),\n",
    "    (\"Regression\", Ridge())]\n",
    ").set_output(transform= \"pandas\")\n",
    "params = {\n",
    "    'Regression__alpha': np.logspace(-5, 5, num = 11)\n",
    "}\n",
    "\n",
    "gscv = GridSearchCV(pipeline_2, params, cv =5, scoring = 'r2')"
   ]
  },
  {
   "cell_type": "code",
   "execution_count": 158,
   "metadata": {
    "vscode": {
     "languageId": "python"
    }
   },
   "outputs": [
    {
     "data": {
      "text/html": [
       "<div>\n",
       "<style scoped>\n",
       "    .dataframe tbody tr th:only-of-type {\n",
       "        vertical-align: middle;\n",
       "    }\n",
       "\n",
       "    .dataframe tbody tr th {\n",
       "        vertical-align: top;\n",
       "    }\n",
       "\n",
       "    .dataframe thead th {\n",
       "        text-align: right;\n",
       "    }\n",
       "</style>\n",
       "<table border=\"1\" class=\"dataframe\">\n",
       "  <thead>\n",
       "    <tr style=\"text-align: right;\">\n",
       "      <th></th>\n",
       "      <th>Alpha</th>\n",
       "      <th>scores</th>\n",
       "    </tr>\n",
       "  </thead>\n",
       "  <tbody>\n",
       "    <tr>\n",
       "      <th>7</th>\n",
       "      <td>100.0</td>\n",
       "      <td>0.384293</td>\n",
       "    </tr>\n",
       "  </tbody>\n",
       "</table>\n",
       "</div>"
      ],
      "text/plain": [
       "   Alpha    scores\n",
       "7  100.0  0.384293"
      ]
     },
     "execution_count": null,
     "metadata": {},
     "output_type": "execute_result"
    }
   ],
   "source": [
    "gscv_fitted = gscv.fit(X, y)\n",
    "\n",
    "gscv_fitted.cv_results_\n",
    "\n",
    "pd.DataFrame(data = {\"Alpha\": np.logspace(-5, 5, num = 11), \"scores\": gscv_fitted.cv_results_['mean_test_score']}).sort_values(by = \"scores\", ascending = False).head(1)\n",
    "\n",
    "#the best alpha is 100"
   ]
  },
  {
   "cell_type": "code",
   "execution_count": 106,
   "metadata": {
    "vscode": {
     "languageId": "python"
    }
   },
   "outputs": [],
   "source": [
    "pipeline_2_best = Pipeline(\n",
    "    [(\"preprocessing\", ct_1),\n",
    "    (\"Regression\", Ridge(alpha= 100))]\n",
    ").set_output(transform= \"pandas\")"
   ]
  },
  {
   "cell_type": "code",
   "execution_count": 232,
   "metadata": {
    "vscode": {
     "languageId": "python"
    }
   },
   "outputs": [
    {
     "data": {
      "text/html": [
       "<div>\n",
       "<style scoped>\n",
       "    .dataframe tbody tr th:only-of-type {\n",
       "        vertical-align: middle;\n",
       "    }\n",
       "\n",
       "    .dataframe tbody tr th {\n",
       "        vertical-align: top;\n",
       "    }\n",
       "\n",
       "    .dataframe thead th {\n",
       "        text-align: right;\n",
       "    }\n",
       "</style>\n",
       "<table border=\"1\" class=\"dataframe\">\n",
       "  <thead>\n",
       "    <tr style=\"text-align: right;\">\n",
       "      <th></th>\n",
       "      <th>Variables</th>\n",
       "      <th>Coeffecients</th>\n",
       "      <th>Absolute Value</th>\n",
       "    </tr>\n",
       "  </thead>\n",
       "  <tbody>\n",
       "    <tr>\n",
       "      <th>16</th>\n",
       "      <td>standardize__PutOuts</td>\n",
       "      <td>57.151970</td>\n",
       "      <td>57.151970</td>\n",
       "    </tr>\n",
       "    <tr>\n",
       "      <th>1</th>\n",
       "      <td>dummify__Division_W</td>\n",
       "      <td>-53.025407</td>\n",
       "      <td>53.025407</td>\n",
       "    </tr>\n",
       "    <tr>\n",
       "      <th>4</th>\n",
       "      <td>standardize__Hits</td>\n",
       "      <td>49.783252</td>\n",
       "      <td>49.783252</td>\n",
       "    </tr>\n",
       "    <tr>\n",
       "      <th>14</th>\n",
       "      <td>standardize__CRBI</td>\n",
       "      <td>46.964067</td>\n",
       "      <td>46.964067</td>\n",
       "    </tr>\n",
       "    <tr>\n",
       "      <th>13</th>\n",
       "      <td>standardize__CRuns</td>\n",
       "      <td>45.812163</td>\n",
       "      <td>45.812163</td>\n",
       "    </tr>\n",
       "    <tr>\n",
       "      <th>11</th>\n",
       "      <td>standardize__CHits</td>\n",
       "      <td>44.468686</td>\n",
       "      <td>44.468686</td>\n",
       "    </tr>\n",
       "  </tbody>\n",
       "</table>\n",
       "</div>"
      ],
      "text/plain": [
       "               Variables  Coeffecients  Absolute Value\n",
       "16  standardize__PutOuts     57.151970       57.151970\n",
       "1    dummify__Division_W    -53.025407       53.025407\n",
       "4      standardize__Hits     49.783252       49.783252\n",
       "14     standardize__CRBI     46.964067       46.964067\n",
       "13    standardize__CRuns     45.812163       45.812163\n",
       "11    standardize__CHits     44.468686       44.468686"
      ]
     },
     "execution_count": null,
     "metadata": {},
     "output_type": "execute_result"
    }
   ],
   "source": [
    "#fitting to full dataset \n",
    "pipeline_2_fitted = pipeline_2_best.fit(X, y)\n",
    "coeff_2 = pipeline_2_fitted.named_steps['Regression'].coef_\n",
    "important_variables_ridge = pd.DataFrame({\"Variables\" : variable, \"Coeffecients\" : coeff_2, \"Absolute Value\" : abs(coeff_2)})\n",
    "important_variables_ridge.sort_values(\"Absolute Value\", ascending= False).head(6)"
   ]
  },
  {
   "cell_type": "markdown",
   "metadata": {},
   "source": [
    "According to this regression model, the most important variables in determining 1989 salary are the number of defensive put outs recorded in 1986, Division in 1986, number of hits in 1986, number of career RBIs and number of career runs. \n",
    "\n",
    "These values seem to make much more sense as all are positively correlated with 1989 salary, except division West. This means that the players in the east division were on average making 53,000 more dollars than their equal counterparts in the west division. The players who were one standard deviation above the mean for 1986 outs, hits and career rbis and runs made on average 57, 50, 47, and 46 thousand dollars more than their equal counterparts, according to this regression model."
   ]
  },
  {
   "cell_type": "markdown",
   "metadata": {},
   "source": [
    "**MSE scores for pipeline 2:**"
   ]
  },
  {
   "cell_type": "code",
   "execution_count": 171,
   "metadata": {
    "vscode": {
     "languageId": "python"
    }
   },
   "outputs": [
    {
     "name": "stdout",
     "output_type": "stream",
     "text": [
      "121274.42407036023\n",
      "121274.42407036023\n"
     ]
    }
   ],
   "source": [
    "scores_2 = - cross_val_score(pipeline_2_best, X, y, cv=5, scoring='neg_mean_squared_error')\n",
    "pipeline_2_MSE = scores_2.mean()\n",
    "print(pipeline_2_MSE)"
   ]
  },
  {
   "cell_type": "markdown",
   "metadata": {},
   "source": [
    "**Pipeline 3**\n",
    "All columns as predictor for salary using Lasso regression"
   ]
  },
  {
   "cell_type": "code",
   "execution_count": 163,
   "metadata": {
    "vscode": {
     "languageId": "python"
    }
   },
   "outputs": [],
   "source": [
    "pipeline_3 = Pipeline(\n",
    "    [(\"preprocessing\", ct_1),\n",
    "    (\"Regression\", Lasso())]\n",
    ").set_output(transform= \"pandas\")\n",
    "params = {\n",
    "    'Regression__alpha': np.logspace(-5, 5, num = 11)\n",
    "}\n",
    "\n",
    "gscv_3 = GridSearchCV(pipeline_3, params, cv =5, scoring = 'r2')"
   ]
  },
  {
   "cell_type": "code",
   "execution_count": 164,
   "metadata": {
    "vscode": {
     "languageId": "python"
    }
   },
   "outputs": [
    {
     "data": {
      "text/html": [
       "<div>\n",
       "<style scoped>\n",
       "    .dataframe tbody tr th:only-of-type {\n",
       "        vertical-align: middle;\n",
       "    }\n",
       "\n",
       "    .dataframe tbody tr th {\n",
       "        vertical-align: top;\n",
       "    }\n",
       "\n",
       "    .dataframe thead th {\n",
       "        text-align: right;\n",
       "    }\n",
       "</style>\n",
       "<table border=\"1\" class=\"dataframe\">\n",
       "  <thead>\n",
       "    <tr style=\"text-align: right;\">\n",
       "      <th></th>\n",
       "      <th>Alpha</th>\n",
       "      <th>scores</th>\n",
       "    </tr>\n",
       "  </thead>\n",
       "  <tbody>\n",
       "    <tr>\n",
       "      <th>6</th>\n",
       "      <td>10.0</td>\n",
       "      <td>0.369523</td>\n",
       "    </tr>\n",
       "  </tbody>\n",
       "</table>\n",
       "</div>"
      ],
      "text/plain": [
       "   Alpha    scores\n",
       "6   10.0  0.369523"
      ]
     },
     "execution_count": null,
     "metadata": {},
     "output_type": "execute_result"
    }
   ],
   "source": [
    "# gscv_3_fitted = gscv_3.fit(X, y)\n",
    "\n",
    "# gscv_3_fitted.cv_results_\n",
    "\n",
    "pd.DataFrame(data = {\"Alpha\": np.logspace(-5, 5, num = 11), \"scores\": gscv_3_fitted.cv_results_['mean_test_score']}).sort_values(by = \"scores\", ascending = False).head(1)\n",
    "\n",
    "#the best alpha is 10"
   ]
  },
  {
   "cell_type": "code",
   "execution_count": 233,
   "metadata": {
    "vscode": {
     "languageId": "python"
    }
   },
   "outputs": [
    {
     "data": {
      "text/html": [
       "<div>\n",
       "<style scoped>\n",
       "    .dataframe tbody tr th:only-of-type {\n",
       "        vertical-align: middle;\n",
       "    }\n",
       "\n",
       "    .dataframe tbody tr th {\n",
       "        vertical-align: top;\n",
       "    }\n",
       "\n",
       "    .dataframe thead th {\n",
       "        text-align: right;\n",
       "    }\n",
       "</style>\n",
       "<table border=\"1\" class=\"dataframe\">\n",
       "  <thead>\n",
       "    <tr style=\"text-align: right;\">\n",
       "      <th></th>\n",
       "      <th>Variables</th>\n",
       "      <th>Coeffecients</th>\n",
       "      <th>Absolute Value</th>\n",
       "    </tr>\n",
       "  </thead>\n",
       "  <tbody>\n",
       "    <tr>\n",
       "      <th>14</th>\n",
       "      <td>standardize__CRBI</td>\n",
       "      <td>134.032027</td>\n",
       "      <td>134.032027</td>\n",
       "    </tr>\n",
       "    <tr>\n",
       "      <th>1</th>\n",
       "      <td>dummify__Division_W</td>\n",
       "      <td>-95.413203</td>\n",
       "      <td>95.413203</td>\n",
       "    </tr>\n",
       "    <tr>\n",
       "      <th>4</th>\n",
       "      <td>standardize__Hits</td>\n",
       "      <td>88.741627</td>\n",
       "      <td>88.741627</td>\n",
       "    </tr>\n",
       "    <tr>\n",
       "      <th>13</th>\n",
       "      <td>standardize__CRuns</td>\n",
       "      <td>72.227529</td>\n",
       "      <td>72.227529</td>\n",
       "    </tr>\n",
       "    <tr>\n",
       "      <th>16</th>\n",
       "      <td>standardize__PutOuts</td>\n",
       "      <td>66.737006</td>\n",
       "      <td>66.737006</td>\n",
       "    </tr>\n",
       "    <tr>\n",
       "      <th>8</th>\n",
       "      <td>standardize__Walks</td>\n",
       "      <td>49.902813</td>\n",
       "      <td>49.902813</td>\n",
       "    </tr>\n",
       "  </tbody>\n",
       "</table>\n",
       "</div>"
      ],
      "text/plain": [
       "               Variables  Coeffecients  Absolute Value\n",
       "14     standardize__CRBI    134.032027      134.032027\n",
       "1    dummify__Division_W    -95.413203       95.413203\n",
       "4      standardize__Hits     88.741627       88.741627\n",
       "13    standardize__CRuns     72.227529       72.227529\n",
       "16  standardize__PutOuts     66.737006       66.737006\n",
       "8     standardize__Walks     49.902813       49.902813"
      ]
     },
     "execution_count": null,
     "metadata": {},
     "output_type": "execute_result"
    }
   ],
   "source": [
    "pipeline_3_best = Pipeline(\n",
    "    [(\"preprocessing\", ct_1),\n",
    "    (\"Regression\", Lasso(alpha= 10))]\n",
    ").set_output(transform= \"pandas\")\n",
    "\n",
    "#fitting to full dataset \n",
    "pipeline_3_fitted = pipeline_3_best.fit(X, y)\n",
    "coeff_3 = pipeline_3_fitted.named_steps['Regression'].coef_\n",
    "important_variables_lasso = pd.DataFrame({\"Variables\" : variable, \"Coeffecients\" : coeff_3, \"Absolute Value\" : abs(coeff_3)})\n",
    "important_variables_lasso.sort_values(\"Absolute Value\", ascending= False).head(6)"
   ]
  },
  {
   "cell_type": "markdown",
   "metadata": {},
   "source": [
    "In the Lasso regression model, only 7 variables came out with a non-zero coeffecient. The top 5 variables are the same as from the ridge model, however in differing orders and values. There is still a large difference between the salaries predicted for players in the east divison vs. the west division (95,000 greater in the east). Career RBIs seem to be the most important variable with players at one standard deviation above the mean predicted to earn about 134,000 more than equal counterparts with average number of RBIs. Hits, careeer runs, and put outs are also used as positive predictors for a greater salary when above the average in each category. "
   ]
  },
  {
   "cell_type": "markdown",
   "metadata": {},
   "source": [
    "**MSE scores for pipeline 3:**"
   ]
  },
  {
   "cell_type": "code",
   "execution_count": 170,
   "metadata": {
    "vscode": {
     "languageId": "python"
    }
   },
   "outputs": [
    {
     "name": "stdout",
     "output_type": "stream",
     "text": [
      "121828.14133338635\n",
      "121828.14133338635\n"
     ]
    }
   ],
   "source": [
    "scores_3= - cross_val_score(pipeline_3_best, X, y, cv=5, scoring='neg_mean_squared_error')\n",
    "pipeline_3_MSE = scores_3.mean()\n",
    "print(pipeline_3_MSE)"
   ]
  },
  {
   "cell_type": "markdown",
   "metadata": {},
   "source": [
    "**Pipeline 4**\n",
    "All columns as predictor for salary using Elastic Net regression"
   ]
  },
  {
   "cell_type": "code",
   "execution_count": 125,
   "metadata": {
    "vscode": {
     "languageId": "python"
    }
   },
   "outputs": [],
   "source": [
    "pipeline_4 = Pipeline(\n",
    "    [(\"preprocessing\", ct_1),\n",
    "    (\"Regression\", ElasticNet())]\n",
    ").set_output(transform= \"pandas\")\n",
    "params = {\n",
    "    'Regression__alpha': np.logspace(-5, 5, num = 11),\n",
    "    'Regression__l1_ratio' : np.linspace(0,1, num = 5)\n",
    "}\n",
    "\n",
    "gscv_4 = GridSearchCV(pipeline_4, params, cv =5, scoring = 'r2')"
   ]
  },
  {
   "cell_type": "code",
   "execution_count": 137,
   "metadata": {
    "vscode": {
     "languageId": "python"
    }
   },
   "outputs": [
    {
     "data": {
      "text/html": [
       "<div>\n",
       "<style scoped>\n",
       "    .dataframe tbody tr th:only-of-type {\n",
       "        vertical-align: middle;\n",
       "    }\n",
       "\n",
       "    .dataframe tbody tr th {\n",
       "        vertical-align: top;\n",
       "    }\n",
       "\n",
       "    .dataframe thead th {\n",
       "        text-align: right;\n",
       "    }\n",
       "</style>\n",
       "<table border=\"1\" class=\"dataframe\">\n",
       "  <thead>\n",
       "    <tr style=\"text-align: right;\">\n",
       "      <th></th>\n",
       "      <th>specifications</th>\n",
       "      <th>scores</th>\n",
       "    </tr>\n",
       "  </thead>\n",
       "  <tbody>\n",
       "    <tr>\n",
       "      <th>26</th>\n",
       "      <td>{'Regression__alpha': 1.0, 'Regression__l1_rat...</td>\n",
       "      <td>0.384872</td>\n",
       "    </tr>\n",
       "  </tbody>\n",
       "</table>\n",
       "</div>"
      ],
      "text/plain": [
       "                                       specifications    scores\n",
       "26  {'Regression__alpha': 1.0, 'Regression__l1_rat...  0.384872"
      ]
     },
     "execution_count": null,
     "metadata": {},
     "output_type": "execute_result"
    }
   ],
   "source": [
    "# gscv_4_fitted = gscv_4.fit(X, y)\n",
    "# gscv_4_fitted.cv_results_\n",
    "pd.DataFrame(data = {\"specifications\": gscv_4_fitted.cv_results_['params'], \"scores\": gscv_4_fitted.cv_results_['mean_test_score']}).sort_values(by = \"scores\", ascending = False).head(1)\n",
    "#{'Regression__alpha': 1.0, 'Regression__l1_ratio': 0.25}"
   ]
  },
  {
   "cell_type": "code",
   "execution_count": 234,
   "metadata": {
    "vscode": {
     "languageId": "python"
    }
   },
   "outputs": [
    {
     "data": {
      "text/html": [
       "<div>\n",
       "<style scoped>\n",
       "    .dataframe tbody tr th:only-of-type {\n",
       "        vertical-align: middle;\n",
       "    }\n",
       "\n",
       "    .dataframe tbody tr th {\n",
       "        vertical-align: top;\n",
       "    }\n",
       "\n",
       "    .dataframe thead th {\n",
       "        text-align: right;\n",
       "    }\n",
       "</style>\n",
       "<table border=\"1\" class=\"dataframe\">\n",
       "  <thead>\n",
       "    <tr style=\"text-align: right;\">\n",
       "      <th></th>\n",
       "      <th>Variables</th>\n",
       "      <th>Coeffecients</th>\n",
       "      <th>Absolute Value</th>\n",
       "    </tr>\n",
       "  </thead>\n",
       "  <tbody>\n",
       "    <tr>\n",
       "      <th>16</th>\n",
       "      <td>standardize__PutOuts</td>\n",
       "      <td>46.140698</td>\n",
       "      <td>46.140698</td>\n",
       "    </tr>\n",
       "    <tr>\n",
       "      <th>14</th>\n",
       "      <td>standardize__CRBI</td>\n",
       "      <td>38.483120</td>\n",
       "      <td>38.483120</td>\n",
       "    </tr>\n",
       "    <tr>\n",
       "      <th>4</th>\n",
       "      <td>standardize__Hits</td>\n",
       "      <td>38.419543</td>\n",
       "      <td>38.419543</td>\n",
       "    </tr>\n",
       "    <tr>\n",
       "      <th>13</th>\n",
       "      <td>standardize__CRuns</td>\n",
       "      <td>37.725747</td>\n",
       "      <td>37.725747</td>\n",
       "    </tr>\n",
       "    <tr>\n",
       "      <th>11</th>\n",
       "      <td>standardize__CHits</td>\n",
       "      <td>36.749044</td>\n",
       "      <td>36.749044</td>\n",
       "    </tr>\n",
       "  </tbody>\n",
       "</table>\n",
       "</div>"
      ],
      "text/plain": [
       "               Variables  Coeffecients  Absolute Value\n",
       "16  standardize__PutOuts     46.140698       46.140698\n",
       "14     standardize__CRBI     38.483120       38.483120\n",
       "4      standardize__Hits     38.419543       38.419543\n",
       "13    standardize__CRuns     37.725747       37.725747\n",
       "11    standardize__CHits     36.749044       36.749044"
      ]
     },
     "execution_count": null,
     "metadata": {},
     "output_type": "execute_result"
    }
   ],
   "source": [
    "pipeline_4_best = Pipeline(\n",
    "    [(\"preprocessing\", ct_1),\n",
    "    (\"Regression\", ElasticNet(alpha= 1, l1_ratio= 0.25))]\n",
    ").set_output(transform= \"pandas\")\n",
    "\n",
    "#fitting to full dataset \n",
    "pipeline_4_fitted = pipeline_4_best.fit(X, y)\n",
    "coeff_4 = pipeline_4_fitted.named_steps['Regression'].coef_\n",
    "important_variables_elastic_net = pd.DataFrame({\"Variables\" : variable, \"Coeffecients\" : coeff_4, \"Absolute Value\" : abs(coeff_4)})\n",
    "important_variables_elastic_net.sort_values(\"Absolute Value\", ascending= False).head()"
   ]
  },
  {
   "cell_type": "markdown",
   "metadata": {},
   "source": [
    "Based on the Elastic Net model, the top five most important variables based on their coeffecients are defensive put outs in 1986, career Rbi's, hits in 1986, career runs, and career hits. For every standard deviation above the mean in these categories a player is predicted to earn between 46,000 and 37,000 more dollars in 1989. \n"
   ]
  },
  {
   "cell_type": "markdown",
   "metadata": {},
   "source": [
    "**MSE scores for pipeline 4:**"
   ]
  },
  {
   "cell_type": "code",
   "execution_count": 169,
   "metadata": {
    "vscode": {
     "languageId": "python"
    }
   },
   "outputs": [
    {
     "name": "stdout",
     "output_type": "stream",
     "text": [
      "122065.0128350202\n",
      "122065.0128350202\n"
     ]
    }
   ],
   "source": [
    "scores_4= - cross_val_score(pipeline_4_best, X, y, cv=5, scoring='neg_mean_squared_error')\n",
    "pipeline_4_MSE = scores_4.mean()\n",
    "print(pipeline_4_MSE)"
   ]
  },
  {
   "cell_type": "code",
   "execution_count": 241,
   "metadata": {
    "vscode": {
     "languageId": "python"
    }
   },
   "outputs": [
    {
     "name": "stderr",
     "output_type": "stream",
     "text": [
      "C:\\Users\\Davis\\anaconda3\\Lib\\site-packages\\sklearn\\preprocessing\\_function_transformer.py:345: UserWarning: With transform=\"pandas\", `func` should return a DataFrame to follow the set_output API.\n",
      "  warnings.warn(\n"
     ]
    }
   ],
   "source": [
    "#comparing important variables across datasets, first must standardize the coeffecients to compare variable effects across models\n",
    " \n",
    "Standardize = ColumnTransformer(\n",
    "    [\n",
    "    (\"standardize\", StandardScaler(), [\"Coeffecients\"]),\n",
    "    (\"\", FunctionTransformer(None), [\"Variables\"])\n",
    "    ], remainder= \"drop\"\n",
    ").set_output(transform= \"pandas\")"
   ]
  },
  {
   "cell_type": "code",
   "execution_count": 257,
   "metadata": {
    "vscode": {
     "languageId": "python"
    }
   },
   "outputs": [],
   "source": [
    "variables_std = Standardize.fit_transform(important_variables)\n",
    "variables_ridge_std= Standardize.fit_transform(important_variables_ridge)\n",
    "variables_lasso_std = Standardize.fit_transform(important_variables_lasso)\n",
    "variables_elastic_std = Standardize.fit_transform(important_variables_elastic_net)"
   ]
  },
  {
   "cell_type": "code",
   "execution_count": 268,
   "metadata": {
    "vscode": {
     "languageId": "python"
    }
   },
   "outputs": [
    {
     "data": {
      "text/html": [
       "<div>\n",
       "<style scoped>\n",
       "    .dataframe tbody tr th:only-of-type {\n",
       "        vertical-align: middle;\n",
       "    }\n",
       "\n",
       "    .dataframe tbody tr th {\n",
       "        vertical-align: top;\n",
       "    }\n",
       "\n",
       "    .dataframe thead th {\n",
       "        text-align: right;\n",
       "    }\n",
       "</style>\n",
       "<table border=\"1\" class=\"dataframe\">\n",
       "  <thead>\n",
       "    <tr style=\"text-align: right;\">\n",
       "      <th></th>\n",
       "      <th>standardize__Coeffecients_lin</th>\n",
       "      <th>__Variables</th>\n",
       "      <th>standardize__Coeffecients_ridge</th>\n",
       "      <th>standardize__Coeffecients_linridgelasso</th>\n",
       "      <th>standardize__Coeffecients_elastic</th>\n",
       "      <th>sum</th>\n",
       "    </tr>\n",
       "  </thead>\n",
       "  <tbody>\n",
       "    <tr>\n",
       "      <th>1</th>\n",
       "      <td>-0.682465</td>\n",
       "      <td>dummify__Division_W</td>\n",
       "      <td>-2.696803</td>\n",
       "      <td>-2.378824</td>\n",
       "      <td>-2.707567</td>\n",
       "      <td>8.465660</td>\n",
       "    </tr>\n",
       "    <tr>\n",
       "      <th>14</th>\n",
       "      <td>1.218052</td>\n",
       "      <td>standardize__CRBI</td>\n",
       "      <td>1.035229</td>\n",
       "      <td>2.501541</td>\n",
       "      <td>1.011072</td>\n",
       "      <td>5.765893</td>\n",
       "    </tr>\n",
       "    <tr>\n",
       "      <th>13</th>\n",
       "      <td>2.325811</td>\n",
       "      <td>standardize__CRuns</td>\n",
       "      <td>0.992235</td>\n",
       "      <td>1.186942</td>\n",
       "      <td>0.972103</td>\n",
       "      <td>5.477091</td>\n",
       "    </tr>\n",
       "    <tr>\n",
       "      <th>4</th>\n",
       "      <td>1.606374</td>\n",
       "      <td>standardize__Hits</td>\n",
       "      <td>1.140453</td>\n",
       "      <td>1.538201</td>\n",
       "      <td>1.007800</td>\n",
       "      <td>5.292829</td>\n",
       "    </tr>\n",
       "    <tr>\n",
       "      <th>16</th>\n",
       "      <td>0.302231</td>\n",
       "      <td>standardize__PutOuts</td>\n",
       "      <td>1.415484</td>\n",
       "      <td>1.070157</td>\n",
       "      <td>1.405068</td>\n",
       "      <td>4.192940</td>\n",
       "    </tr>\n",
       "    <tr>\n",
       "      <th>18</th>\n",
       "      <td>-0.205807</td>\n",
       "      <td>standardize__Errors</td>\n",
       "      <td>-1.212614</td>\n",
       "      <td>-0.437806</td>\n",
       "      <td>-1.395193</td>\n",
       "      <td>3.251420</td>\n",
       "    </tr>\n",
       "  </tbody>\n",
       "</table>\n",
       "</div>"
      ],
      "text/plain": [
       "    standardize__Coeffecients_lin  ...       sum\n",
       "1                       -0.682465  ...  8.465660\n",
       "14                       1.218052  ...  5.765893\n",
       "13                       2.325811  ...  5.477091\n",
       "4                        1.606374  ...  5.292829\n",
       "16                       0.302231  ...  4.192940\n",
       "18                      -0.205807  ...  3.251420\n",
       "\n",
       "[6 rows x 6 columns]"
      ]
     },
     "execution_count": null,
     "metadata": {},
     "output_type": "execute_result"
    }
   ],
   "source": [
    "#joining dataset\n",
    "all_variables_std = (\n",
    "    variables_std.merge(variables_ridge_std, on=\"__Variables\", suffixes=('_lin', '_ridge'))\n",
    "       .merge(variables_lasso_std, on=\"__Variables\", suffixes=('_linridge', '_lasso'))\n",
    "       .merge(variables_elastic_std, on=\"__Variables\", suffixes=('_linridgelasso', '_elastic'))\n",
    ")\n",
    "\n",
    "\n",
    "all_variables_std[\"sum\"]= ( all_variables_std[\"standardize__Coeffecients_lin\"].abs() \n",
    "    + all_variables_std[\"standardize__Coeffecients_ridge\"].abs()\n",
    "    + all_variables_std[\"standardize__Coeffecients_linridgelasso\"].abs()\n",
    "    + all_variables_std[\"standardize__Coeffecients_elastic\"].abs())\n",
    "all_variables_std.sort_values(\"sum\", ascending=False).head(6)\n",
    "#this shows that CRBIs is the single most valuable numeric variable, while division is the most valuable categorical."
   ]
  },
  {
   "cell_type": "markdown",
   "metadata": {},
   "source": [
    "Based on the above models, I would determine that the most important categorical variable is certainly Division in 1986. The top five most important numeric variables seem to include: Career Rbis, 1986 put outs, 1986 hits, career runs, and 1986 errors. The single most important numeric variable is Career Rbis. This is based on giving equal weight to each dataset and adding the importance of the variables in each dataset together. \n"
   ]
  },
  {
   "cell_type": "markdown",
   "metadata": {},
   "source": [
    "**Single variable models**"
   ]
  },
  {
   "cell_type": "code",
   "execution_count": 423,
   "metadata": {
    "vscode": {
     "languageId": "python"
    }
   },
   "outputs": [],
   "source": [
    "def Single_Numeric_Regression_Test(Df, Regression):\n",
    "    \"\"\"\n",
    "    Returns the MSE value for a given dataset and regression type,\n",
    "    The function can be slightly altered to return best alpha, coeffecients, or more\n",
    "   \n",
    "\n",
    "    Parameters\n",
    "    ----------\n",
    "\n",
    "    df: pandas.DataFrame\n",
    "    Must be cleaned hitters dataset\n",
    "    Regression: must be LinearRegression\n",
    "    Ridge, Lasso, or ElasticNet\n",
    "\n",
    "    Return\n",
    "   ------\n",
    "   MSE \n",
    "   a single numeric value\n",
    "    \n",
    "    \"\"\"\n",
    "\n",
    "    X = Df.drop(\"Salary\", axis = 1)\n",
    "    y = Df[\"Salary\"]\n",
    "    ct1v = ColumnTransformer(\n",
    "        [\n",
    "        (\"standardize\", StandardScaler(), [\"CRBI\"])\n",
    "        ],\n",
    "        remainder= \"drop\").set_output(transform= \"pandas\")\n",
    "\n",
    "    pipeline_regression = Pipeline(\n",
    "            [(\"preprocessing\", ct1v),\n",
    "            (\"Regression\", Regression())]\n",
    "        ).set_output(transform= \"pandas\")\n",
    "\n",
    "\n",
    "    if Regression == ElasticNet:\n",
    "      params2 = {\n",
    "          'Regression__alpha': np.logspace(-5, 5, num = 11),\n",
    "          'Regression__l1_ratio' : np.linspace(0,1, num = 5)\n",
    "          }\n",
    "\n",
    "      gscv = GridSearchCV(pipeline_regression, params2, cv =5, scoring = 'r2')\n",
    "      gscv_fitted = gscv.fit(X, y)  \n",
    "      best_alpha = pd.DataFrame(data = {\"alpha\": gscv_fitted.cv_results_['param_Regression__alpha'], \"scores\": gscv_fitted.cv_results_['mean_test_score']}).sort_values(by = \"scores\", ascending = False).iloc[0,0]\n",
    "      best_l1 = pd.DataFrame(data = {\"l1_ratio\": gscv_fitted.cv_results_['param_Regression__l1_ratio'], \"scores\": gscv_fitted.cv_results_['mean_test_score']}).sort_values(by = \"scores\", ascending = False).iloc[0,0]\n",
    "      pipeline_best = Pipeline(\n",
    "        [(\"preprocessing\", ct1v),\n",
    "        (\"Regression\", Regression(alpha = best_alpha, l1_ratio = best_l1))]\n",
    "      ).set_output(transform= \"pandas\")\n",
    "\n",
    "\n",
    "    elif Regression == Lasso or Regression == Ridge: \n",
    "      params = {\n",
    "          'Regression__alpha': np.logspace(-5, 5, num = 11)\n",
    "          }\n",
    "      gscv = GridSearchCV(pipeline_regression, params, cv =5, scoring = 'r2')\n",
    "      gscv_fitted= gscv.fit(X, y)\n",
    "      best_alpha = pd.DataFrame(data = {\"Alpha\": np.logspace(-5, 5, num = 11), \"scores\": gscv_fitted.cv_results_['mean_test_score']}).sort_values(by = \"scores\", ascending = False).iloc[0,0]\n",
    "      pipeline_best = Pipeline(\n",
    "        [(\"preprocessing\", ct1v),\n",
    "        (\"Regression\", Regression(alpha = best_alpha))]\n",
    "      ).set_output(transform= \"pandas\")\n",
    "\n",
    "    elif Regression == LinearRegression:\n",
    "          pipeline_best = pipeline_regression\n",
    "          best_alpha = \"No Alpha\"\n",
    "\n",
    "    scores_regression = -cross_val_score(pipeline_best, X, y, cv=5, scoring='neg_mean_squared_error') \n",
    "    regression_MSE = scores_regression.mean()\n",
    "    \n",
    "    return regression_MSE"
   ]
  },
  {
   "cell_type": "markdown",
   "metadata": {},
   "source": [
    "*Stanard Linear Regression Model*"
   ]
  },
  {
   "cell_type": "code",
   "execution_count": 414,
   "metadata": {
    "vscode": {
     "languageId": "python"
    }
   },
   "outputs": [
    {
     "name": "stdout",
     "output_type": "stream",
     "text": [
      "142142.865462403\n",
      "142142.865462403\n"
     ]
    }
   ],
   "source": [
    "LR_1_MSE = Single_Numeric_Regression_Test(data_clean, LinearRegression)\n",
    "print(LR_1_MSE)"
   ]
  },
  {
   "cell_type": "code",
   "execution_count": 415,
   "metadata": {
    "vscode": {
     "languageId": "python"
    }
   },
   "outputs": [
    {
     "name": "stdout",
     "output_type": "stream",
     "text": [
      "142096.24206102983\n",
      "142096.24206102983\n"
     ]
    }
   ],
   "source": [
    "R_1_MSE = Single_Numeric_Regression_Test(data_clean, Ridge)\n",
    "print(R_1_MSE)"
   ]
  },
  {
   "cell_type": "code",
   "execution_count": 416,
   "metadata": {
    "vscode": {
     "languageId": "python"
    }
   },
   "outputs": [
    {
     "name": "stdout",
     "output_type": "stream",
     "text": [
      "142236.17109795552\n",
      "142236.17109795552\n"
     ]
    }
   ],
   "source": [
    "L_1_MSE = Single_Numeric_Regression_Test(data_clean, Lasso)\n",
    "print(L_1_MSE)"
   ]
  },
  {
   "cell_type": "code",
   "execution_count": 419,
   "metadata": {
    "vscode": {
     "languageId": "python"
    }
   },
   "outputs": [
    {
     "name": "stdout",
     "output_type": "stream",
     "text": [
      "142182.01290223506\n",
      "142182.01290223506\n"
     ]
    }
   ],
   "source": [
    "E_1_MSE = Single_Numeric_Regression_Test(data_clean, ElasticNet)\n",
    "print(E_1_MSE)"
   ]
  },
  {
   "cell_type": "markdown",
   "metadata": {},
   "source": [
    "**Top Five Numeric Variable Models**\n",
    "*Crbis, putouts, hits, errors, cruns*\n"
   ]
  },
  {
   "cell_type": "code",
   "execution_count": 424,
   "metadata": {
    "vscode": {
     "languageId": "python"
    }
   },
   "outputs": [],
   "source": [
    "def Five_Numeric_Regression_Test(Df, Regression):\n",
    "    \"\"\"\n",
    "    Returns the MSE value using regression on the five most important numeric variables for a given dataset and regression type,\n",
    "    The function can be slightly altered to return best alpha, coeffecients, or more\n",
    "   \n",
    "\n",
    "    Parameters\n",
    "    ----------\n",
    "\n",
    "    df: pandas.DataFrame\n",
    "    Must be cleaned hitters dataset\n",
    "    Regression: must be LinearRegression\n",
    "    Ridge, Lasso, or ElasticNet\n",
    "\n",
    "    Return\n",
    "   ------\n",
    "   MSE \n",
    "   a single numeric value\n",
    "    \n",
    "    \"\"\"\n",
    "\n",
    "    X = Df.drop(\"Salary\", axis = 1)\n",
    "    y = Df[\"Salary\"]\n",
    "    ct5v = ColumnTransformer(\n",
    "        [\n",
    "        (\"standardize\", StandardScaler(), [\"CRBI\", \"PutOuts\", \"Hits\", \"Errors\", \"CRuns\"])\n",
    "        ],\n",
    "        remainder= \"drop\").set_output(transform= \"pandas\")\n",
    "\n",
    "    pipeline_regression = Pipeline(\n",
    "            [(\"preprocessing\", ct5v),\n",
    "            (\"Regression\", Regression())]\n",
    "        ).set_output(transform= \"pandas\")\n",
    "\n",
    "\n",
    "    if Regression == ElasticNet:\n",
    "      params2 = {\n",
    "          'Regression__alpha': np.logspace(-5, 5, num = 11),\n",
    "          'Regression__l1_ratio' : np.linspace(0,1, num = 5)\n",
    "          }\n",
    "\n",
    "      gscv = GridSearchCV(pipeline_regression, params2, cv =5, scoring = 'r2')\n",
    "      gscv_fitted = gscv.fit(X, y)  \n",
    "      best_alpha = pd.DataFrame(data = {\"alpha\": gscv_fitted.cv_results_['param_Regression__alpha'], \"scores\": gscv_fitted.cv_results_['mean_test_score']}).sort_values(by = \"scores\", ascending = False).iloc[0,0]\n",
    "      best_l1 = pd.DataFrame(data = {\"l1_ratio\": gscv_fitted.cv_results_['param_Regression__l1_ratio'], \"scores\": gscv_fitted.cv_results_['mean_test_score']}).sort_values(by = \"scores\", ascending = False).iloc[0,0]\n",
    "      pipeline_best = Pipeline(\n",
    "        [(\"preprocessing\", ct5v),\n",
    "        (\"Regression\", Regression(alpha = best_alpha, l1_ratio = best_l1))]\n",
    "      ).set_output(transform= \"pandas\")\n",
    "\n",
    "\n",
    "    elif Regression == Lasso or Regression == Ridge: \n",
    "      params = {\n",
    "          'Regression__alpha': np.logspace(-5, 5, num = 11)\n",
    "          }\n",
    "      gscv = GridSearchCV(pipeline_regression, params, cv =5, scoring = 'r2')\n",
    "      gscv_fitted= gscv.fit(X, y)\n",
    "      best_alpha = pd.DataFrame(data = {\"Alpha\": np.logspace(-5, 5, num = 11), \"scores\": gscv_fitted.cv_results_['mean_test_score']}).sort_values(by = \"scores\", ascending = False).iloc[0,0]\n",
    "      pipeline_best = Pipeline(\n",
    "        [(\"preprocessing\", ct5v),\n",
    "        (\"Regression\", Regression(alpha = best_alpha))]\n",
    "      ).set_output(transform= \"pandas\")\n",
    "\n",
    "    elif Regression == LinearRegression:\n",
    "          pipeline_best = pipeline_regression\n",
    "          best_alpha = \"No Alpha\"\n",
    "\n",
    "    scores_regression = -cross_val_score(pipeline_best, X, y, cv=5, scoring='neg_mean_squared_error') \n",
    "    regression_MSE = scores_regression.mean()\n",
    "    \n",
    "    return regression_MSE"
   ]
  },
  {
   "cell_type": "markdown",
   "metadata": {},
   "source": [
    "*Standard Linear Regression*"
   ]
  },
  {
   "cell_type": "code",
   "execution_count": 406,
   "metadata": {
    "vscode": {
     "languageId": "python"
    }
   },
   "outputs": [
    {
     "name": "stdout",
     "output_type": "stream",
     "text": [
      "123085.29627318266\n",
      "123085.29627318266\n"
     ]
    }
   ],
   "source": [
    "LR_5_MSE = Five_Numeric_Regression_Test(data_clean, LinearRegression)\n",
    "print(LR_5_MSE)"
   ]
  },
  {
   "cell_type": "markdown",
   "metadata": {},
   "source": [
    "*Ridge Regression Model*"
   ]
  },
  {
   "cell_type": "code",
   "execution_count": 407,
   "metadata": {
    "vscode": {
     "languageId": "python"
    }
   },
   "outputs": [
    {
     "name": "stdout",
     "output_type": "stream",
     "text": [
      "122298.62066042508\n",
      "122298.62066042508\n"
     ]
    }
   ],
   "source": [
    "R_5_MSE = Five_Numeric_Regression_Test(data_clean, Ridge)\n",
    "print(R_5_MSE)"
   ]
  },
  {
   "cell_type": "markdown",
   "metadata": {},
   "source": [
    "*Lasso Regression Model*"
   ]
  },
  {
   "cell_type": "code",
   "execution_count": 408,
   "metadata": {
    "vscode": {
     "languageId": "python"
    }
   },
   "outputs": [
    {
     "name": "stdout",
     "output_type": "stream",
     "text": [
      "123502.18685078024\n",
      "123502.18685078024\n"
     ]
    }
   ],
   "source": [
    "L_5_MSE= Five_Numeric_Regression_Test(data_clean, Lasso)\n",
    "print(L_5_MSE)"
   ]
  },
  {
   "cell_type": "markdown",
   "metadata": {},
   "source": [
    "*Elastic Net*"
   ]
  },
  {
   "cell_type": "code",
   "execution_count": 277,
   "metadata": {
    "vscode": {
     "languageId": "python"
    }
   },
   "outputs": [
    {
     "name": "stdout",
     "output_type": "stream",
     "text": [
      "121197.74758274996\n",
      "121197.74758274996\n"
     ]
    }
   ],
   "source": [
    "E_5_MSE = Five_Numeric_Regression_Test(data_clean, ElasticNet)\n",
    "print(E_5_MSE)"
   ]
  },
  {
   "cell_type": "markdown",
   "metadata": {},
   "source": [
    "**Top Five Numeric Variables and their Interaction with Categorical Variable**"
   ]
  },
  {
   "cell_type": "code",
   "execution_count": 425,
   "metadata": {
    "vscode": {
     "languageId": "python"
    }
   },
   "outputs": [],
   "source": [
    "def Five_Numeric_Regression_Interaction_Test(Df, Regression):\n",
    "    \"\"\"\n",
    "    Returns the MSE value for a given dataset and regression type using the five most important numeric values and the most important categorical interaction,\n",
    "    The function can be slightly altered to return best alpha, coeffecients, or more\n",
    "   \n",
    "\n",
    "    Parameters\n",
    "    ----------\n",
    "\n",
    "    df: pandas.DataFrame\n",
    "    Must be cleaned hitters dataset\n",
    "    Regression: must be LinearRegression\n",
    "    Ridge, Lasso, or ElasticNet\n",
    "\n",
    "    Return\n",
    "   ------\n",
    "   MSE \n",
    "   a single numeric value\n",
    "    \n",
    "    \"\"\"\n",
    "\n",
    "    X = Df.drop(\"Salary\", axis = 1)\n",
    "    y = Df[\"Salary\"]\n",
    "    ct5vi = ColumnTransformer(\n",
    "        [\n",
    "        (\"standardize\", StandardScaler(), [\"CRBI\", \"PutOuts\", \"Hits\", \"Errors\", \"CRuns\"]),\n",
    "        (\"dummify\", OneHotEncoder(sparse_output= False, drop = \"first\"), [\"Division\"])\n",
    "        ],\n",
    "        remainder= \"drop\").set_output(transform= \"pandas\")\n",
    "    ct_interaction= ColumnTransformer(\n",
    "        [\n",
    "            (\"interaction1\", PolynomialFeatures(interaction_only= True, include_bias= False), [\"standardize__CRBI\", \"dummify__Division_W\"]),\n",
    "            (\"interaction2\", PolynomialFeatures(interaction_only= True, include_bias= False), [\"standardize__PutOuts\", \"dummify__Division_W\"]),\n",
    "            (\"interaction3\", PolynomialFeatures(interaction_only= True, include_bias= False), [\"standardize__Hits\", \"dummify__Division_W\"]),\n",
    "            (\"interaction4\", PolynomialFeatures(interaction_only= True, include_bias= False), [\"standardize__Errors\", \"dummify__Division_W\"]),\n",
    "            (\"interaction5\", PolynomialFeatures(interaction_only= True, include_bias= False), [\"standardize__CRuns\", \"dummify__Division_W\"])\n",
    "\n",
    "        ],\n",
    "        remainder= \"drop\").set_output(transform= \"pandas\")\n",
    "    \n",
    "    ct_keep = ColumnTransformer(\n",
    "      [\n",
    "        (\"keep\", FunctionTransformer(None), [\"interaction1__standardize__CRBI\", \"interaction1__dummify__Division_W\", \"interaction1__standardize__CRBI dummify__Division_W\", \"interaction2__standardize__PutOuts\", \"interaction2__standardize__PutOuts dummify__Division_W\", \"interaction3__standardize__Hits\", \"interaction3__standardize__Hits dummify__Division_W\", \"interaction4__standardize__Errors\", \"interaction4__standardize__Errors dummify__Division_W\", \"interaction5__standardize__CRuns\", \"interaction5__standardize__CRuns dummify__Division_W\"])\n",
    "      ],\n",
    "      remainder= \"drop\").set_output(transform= \"pandas\")\n",
    "\n",
    "\n",
    "    pipeline_regression = Pipeline(\n",
    "            [(\"preprocessing\", ct5vi),\n",
    "            (\"interaction\", ct_interaction),\n",
    "            (\"keep\", ct_keep),\n",
    "            (\"Regression\", Regression())]\n",
    "        ).set_output(transform= \"pandas\")\n",
    "\n",
    "\n",
    "    if Regression == ElasticNet:\n",
    "      params2 = {\n",
    "          'Regression__alpha': np.logspace(-5, 5, num = 11),\n",
    "          'Regression__l1_ratio' : np.linspace(0,1, num = 5)\n",
    "          }\n",
    "\n",
    "      gscv = GridSearchCV(pipeline_regression, params2, cv =5, scoring = 'r2')\n",
    "      gscv_fitted = gscv.fit(X, y)  \n",
    "      best_alpha_elastic = pd.DataFrame(data = {\"alpha\": gscv_fitted.cv_results_['param_Regression__alpha'], \"scores\": gscv_fitted.cv_results_['mean_test_score']}).sort_values(by = \"scores\", ascending = False).iloc[0,0]\n",
    "      best_l1_elastic = pd.DataFrame(data = {\"l1_ratio\": gscv_fitted.cv_results_['param_Regression__l1_ratio'], \"scores\": gscv_fitted.cv_results_['mean_test_score']}).sort_values(by = \"scores\", ascending = False).iloc[0,0]\n",
    "      pipeline_best = Pipeline(\n",
    "        [(\"preprocessing\", ct5vi),\n",
    "        (\"interaction\", ct_interaction),\n",
    "        (\"keep\", ct_keep),\n",
    "        (\"Regression\", Regression(alpha = best_alpha_elastic, l1_ratio = best_l1_elastic))]\n",
    "      ).set_output(transform= \"pandas\")\n",
    "\n",
    "\n",
    "    elif Regression == Lasso or Regression == Ridge: \n",
    "      params = {\n",
    "          'Regression__alpha': np.logspace(-5, 5, num = 11)\n",
    "          }\n",
    "      gscv = GridSearchCV(pipeline_regression, params, cv =5, scoring = 'r2')\n",
    "      gscv_fitted= gscv.fit(X, y)\n",
    "      best_alpha = pd.DataFrame(data = {\"Alpha\": np.logspace(-5, 5, num = 11), \"scores\": gscv_fitted.cv_results_['mean_test_score']}).sort_values(by = \"scores\", ascending = False).iloc[0,0]\n",
    "      pipeline_best = Pipeline(\n",
    "        [(\"preprocessing\", ct5vi),\n",
    "        (\"interaction\", ct_interaction),\n",
    "        (\"keep\", ct_keep),\n",
    "        (\"Regression\", Regression(alpha = best_alpha))]\n",
    "      ).set_output(transform= \"pandas\")\n",
    "\n",
    "    elif Regression == LinearRegression:\n",
    "          pipeline_best = pipeline_regression\n",
    "\n",
    "    scores_regression = -cross_val_score(pipeline_best, X, y, cv=5, scoring='neg_mean_squared_error') \n",
    "    regression_MSE = scores_regression.mean()\n",
    "    \n",
    "    return regression_MSE"
   ]
  },
  {
   "cell_type": "code",
   "execution_count": null,
   "metadata": {
    "vscode": {
     "languageId": "python"
    }
   },
   "outputs": [],
   "source": [
    "# def Five_Numeric_Regression_Interaction_Test(Df):\n",
    "#     X = Df.drop(\"Salary\", axis = 1)\n",
    "#     y = Df[\"Salary\"]\n",
    "#     ct5v = ColumnTransformer(\n",
    "#         [\n",
    "#         (\"standardize\", StandardScaler(), [\"CRBI\", \"PutOuts\", \"Hits\", \"CHits\", \"CRuns\"]),\n",
    "#         (\"dummify\", )\n",
    "#         ],\n",
    "#         remainder= \"drop\").set_output(transform= \"pandas\")\n",
    "\n",
    "#     pipeline_linear = Pipeline(\n",
    "#             [(\"preprocessing\", ct5v),\n",
    "#             (\"Regression\", LinearRegression())]\n",
    "#         ).set_output(transform= \"pandas\")\n",
    "  \n",
    "#     #finding MSE\n",
    "#     scores_linear = -cross_val_score(pipeline_linear, X, y, cv=5, scoring='neg_mean_squared_error') \n",
    "#     linear_MSE = scores_5v_Lr.mean()\n",
    "\n",
    "#    #Tuning for Ridge and Lasso\n",
    "#     params = {\n",
    "#     'Regression__alpha': np.logspace(-5, 5, num = 11)\n",
    "#     }\n",
    "\n",
    "#     pipeline_ridge= Pipeline(\n",
    "#       [(\"preprocessing\", ct5v),\n",
    "#       (\"Regression\", Ridge())]\n",
    "#     ).set_output(transform= \"pandas\")\n",
    "\n",
    "#     gscv_ridge = GridSearchCV(pipeline_ridge, params, cv =5, scoring = 'r2')\n",
    "#     gscv_ridge_fitted = gscv_ridge.fit(X, y)\n",
    "#     best_alpha_ridge = pd.DataFrame(data = {\"Alpha\": np.logspace(-5, 5, num = 11), \"scores\": gscv_ridge_fitted.cv_results_['mean_test_score']}).sort_values(by = \"scores\", ascending = False).iloc[0,0]\n",
    "\n",
    "#     pipeline_ridge_best = Pipeline(\n",
    "#       [(\"preprocessing\", ct5v),\n",
    "#       (\"Regression\", Ridge(alpha = best_alpha_ridge))]\n",
    "#     ).set_output(transform = \"pandas\")\n",
    "\n",
    "#     #MSE scores ridge\n",
    "#     scores_ridge = - cross_val_score(pipeline_ridge_best, X, y, cv=5, scoring = 'neg_mean_squared_error')\n",
    "#     ridge_MSE = scores_ridge.mean()\n",
    "#     #Lasso\n",
    "\n",
    "#     pipeline_lasso = Pipeline(\n",
    "#       [(\"preprocessing\", ct5v), \n",
    "#        (\"Regression\", Lasso())]\n",
    "#     ).set_output(transform= \"pandas\")\n",
    "\n",
    "#     gscv_lasso = GridSearchCV(pipeline_lasso, params, cv =5, scoring = 'r2')\n",
    "#     gscv_lasso_fitted = gscv_lasso.fit(X, y)\n",
    "#     best_alpha_lasso = pd.DataFrame(data = {\"Alpha\": np.logspace(-5, 5, num = 11), \"scores\": gscv_lasso_fitted.cv_results_['mean_test_score']}).sort_values(by = \"scores\", ascending = False).iloc[0,0]\n",
    "\n",
    "#     pipeline_lasso_best = Pipeline(\n",
    "#       [(\"preprocessing\", ct5v),\n",
    "#       (\"Regression\", Ridge(alpha = best_alpha_lasso))]\n",
    "#     ).set_output(transform = \"pandas\")\n",
    "\n",
    "#     #MSE scores Lasso\n",
    "#     scores_lasso = - cross_val_score(pipeline_lasso_best, X, y, cv=5, scoring = 'neg_mean_squared_error')\n",
    "#     lasso_MSE = scores_lasso.mean()\n",
    "\n",
    "#     #Elastic Net params:\n",
    "\n",
    "#     params2 = {\n",
    "#     'Regression__alpha': np.logspace(-5, 5, num = 11),\n",
    "#     'Regression__l1_ratio' : np.linspace(0,1, num = 5)\n",
    "#     }\n",
    "#     #elastic Net\n",
    "#     pipeline_elastic_net = Pipeline(\n",
    "#       [(\"preprocessing\", ct5v),\n",
    "#       (\"Regression\", ElasticNet())]\n",
    "#     ).set_output(transform= \"pandas\")\n",
    "\n",
    "#     gscv_elastic_net = GridSearchCV(pipeline_elastic_net, params2, cv =5, scoring = 'r2')\n",
    "#     gscv_elastic_net_fitted = gscv_elastic_net.fit(X, y)\n",
    "\n",
    "#     best_alpha_elastic = pd.DataFrame(data = {\"alpha\": gscv_4_fitted.cv_results_['param_Regression__alpha'], \"scores\": gscv_4_fitted.cv_results_['mean_test_score']}).sort_values(by = \"scores\", ascending = False).iloc[0,0]\n",
    "#     best_l1_elastic = pd.DataFrame(data = {\"l1_ratio\": gscv_4_fitted.cv_results_['param_Regression__l1_ratio'], \"scores\": gscv_4_fitted.cv_results_['mean_test_score']}).sort_values(by = \"scores\", ascending = False).iloc[0,0]\n",
    "\n",
    "    \n",
    "#     pipeline_elastic_net_best = Pipeline(\n",
    "#       [(\"preprocessing\", ct5v),\n",
    "#       (\"Regression\", ElasticNet(alpha = best_alpha_elastic, l1_ratio = best_l1_elastic))]\n",
    "#     ).set_output(transform = \"pandas\")\n",
    "\n",
    "#     #MSE scores elastic\n",
    "#     scores_elastic = - cross_val_score(pipeline_elastic_net_best, X, y, cv=5, scoring = 'neg_mean_squared_error')\n",
    "#     elastic_MSE = scores_elastic.mean()\n",
    "\n",
    "#     MSE_df = pd.DataFrame({\"Model\" : [\"Linear Regression\", \"Ridge\", \"Lasso\", \"Elastic Net\"], \"MSE\" : [linear_MSE, ridge_MSE, lasso_MSE, elastic_MSE]}).sort_values(by = \"MSE\", ascending = True)\n",
    "#     return(MSE_df)"
   ]
  },
  {
   "cell_type": "markdown",
   "metadata": {},
   "source": [
    "*Linear Regression*"
   ]
  },
  {
   "cell_type": "code",
   "execution_count": 286,
   "metadata": {
    "vscode": {
     "languageId": "python"
    }
   },
   "outputs": [
    {
     "name": "stdout",
     "output_type": "stream",
     "text": [
      "131377.84385441605\n",
      "131377.84385441605\n"
     ]
    }
   ],
   "source": [
    "LR_5I_MSE = Five_Numeric_Regression_Interaction_Test(data_clean, LinearRegression)\n",
    "print(LR_5I_MSE)"
   ]
  },
  {
   "cell_type": "markdown",
   "metadata": {},
   "source": [
    "*Ridge*"
   ]
  },
  {
   "cell_type": "code",
   "execution_count": 285,
   "metadata": {
    "vscode": {
     "languageId": "python"
    }
   },
   "outputs": [
    {
     "name": "stdout",
     "output_type": "stream",
     "text": [
      "121503.530688711\n",
      "121503.530688711\n"
     ]
    }
   ],
   "source": [
    "R_5I_MSE = Five_Numeric_Regression_Interaction_Test(data_clean, Ridge)\n",
    "print(R_5I_MSE)"
   ]
  },
  {
   "cell_type": "markdown",
   "metadata": {},
   "source": [
    "*Lasso*"
   ]
  },
  {
   "cell_type": "code",
   "execution_count": 282,
   "metadata": {
    "vscode": {
     "languageId": "python"
    }
   },
   "outputs": [
    {
     "name": "stdout",
     "output_type": "stream",
     "text": [
      "120734.97563358131\n",
      "120734.97563358131\n"
     ]
    }
   ],
   "source": [
    "L_5I_MSE = Five_Numeric_Regression_Interaction_Test(data_clean, Lasso)\n",
    "print(L_5I_MSE)"
   ]
  },
  {
   "cell_type": "markdown",
   "metadata": {},
   "source": [
    "*Elastic Net*"
   ]
  },
  {
   "cell_type": "code",
   "execution_count": 284,
   "metadata": {
    "vscode": {
     "languageId": "python"
    }
   },
   "outputs": [
    {
     "name": "stdout",
     "output_type": "stream",
     "text": [
      "119038.112161515\n",
      "119038.112161515\n"
     ]
    }
   ],
   "source": [
    "E_5I_MSE = Five_Numeric_Regression_Interaction_Test(data_clean, ElasticNet)\n",
    "print(E_5I_MSE)"
   ]
  },
  {
   "cell_type": "markdown",
   "metadata": {},
   "source": [
    "**Best Overall Model**"
   ]
  },
  {
   "cell_type": "markdown",
   "metadata": {},
   "source": [
    "To Determine the best overall model, I will find which of these models has the lowest average 5 cross fold MSE.\n",
    "To do so I will make a pandas dataframe. "
   ]
  },
  {
   "cell_type": "code",
   "execution_count": 300,
   "metadata": {
    "vscode": {
     "languageId": "python"
    }
   },
   "outputs": [],
   "source": []
  },
  {
   "cell_type": "code",
   "execution_count": 312,
   "metadata": {
    "vscode": {
     "languageId": "python"
    }
   },
   "outputs": [],
   "source": [
    "ModelMSEs = pd.DataFrame({\n",
    "    \"Model\" : [\"All_LR\", \"All_Ridge\", \"All_Lasso\", \"All_Elastic\", \"Single_LR\", \"Single_Ridge\", \n",
    "    \"Single_Lasso\", \"Single_Elastic\", \"Five_LR\", \"Five_Ridge\", \"Five_Lasso\", \"Five_Elastic\", \"Interaction_LR\",\n",
    "    \"Interaction_Ridge\", \"Interaction_Lasso\", \"Interaction_Elastic\"], \n",
    "    \"MSE\" : [pipeline_1_MSE, pipeline_2_MSE, pipeline_3_MSE, pipeline_4_MSE, LR_1_MSE, R_1_MSE, L_1_MSE, E_1_MSE, \n",
    "    LR_5_MSE, R_5_MSE, L_5_MSE, E_5_MSE, LR_5I_MSE, R_5I_MSE, L_5I_MSE, E_5I_MSE] })"
   ]
  },
  {
   "cell_type": "code",
   "execution_count": 315,
   "metadata": {
    "vscode": {
     "languageId": "python"
    }
   },
   "outputs": [
    {
     "data": {
      "text/html": [
       "<div>\n",
       "<style scoped>\n",
       "    .dataframe tbody tr th:only-of-type {\n",
       "        vertical-align: middle;\n",
       "    }\n",
       "\n",
       "    .dataframe tbody tr th {\n",
       "        vertical-align: top;\n",
       "    }\n",
       "\n",
       "    .dataframe thead th {\n",
       "        text-align: right;\n",
       "    }\n",
       "</style>\n",
       "<table border=\"1\" class=\"dataframe\">\n",
       "  <thead>\n",
       "    <tr style=\"text-align: right;\">\n",
       "      <th></th>\n",
       "      <th>Model</th>\n",
       "      <th>MSE</th>\n",
       "    </tr>\n",
       "  </thead>\n",
       "  <tbody>\n",
       "    <tr>\n",
       "      <th>15</th>\n",
       "      <td>Interaction_Elastic</td>\n",
       "      <td>119038.112162</td>\n",
       "    </tr>\n",
       "    <tr>\n",
       "      <th>14</th>\n",
       "      <td>Interaction_Lasso</td>\n",
       "      <td>120734.975634</td>\n",
       "    </tr>\n",
       "    <tr>\n",
       "      <th>0</th>\n",
       "      <td>All_LR</td>\n",
       "      <td>121136.310318</td>\n",
       "    </tr>\n",
       "    <tr>\n",
       "      <th>11</th>\n",
       "      <td>Five_Elastic</td>\n",
       "      <td>121197.747583</td>\n",
       "    </tr>\n",
       "    <tr>\n",
       "      <th>1</th>\n",
       "      <td>All_Ridge</td>\n",
       "      <td>121274.424070</td>\n",
       "    </tr>\n",
       "    <tr>\n",
       "      <th>13</th>\n",
       "      <td>Interaction_Ridge</td>\n",
       "      <td>121503.530689</td>\n",
       "    </tr>\n",
       "    <tr>\n",
       "      <th>2</th>\n",
       "      <td>All_Lasso</td>\n",
       "      <td>121828.141333</td>\n",
       "    </tr>\n",
       "    <tr>\n",
       "      <th>3</th>\n",
       "      <td>All_Elastic</td>\n",
       "      <td>122065.012835</td>\n",
       "    </tr>\n",
       "    <tr>\n",
       "      <th>9</th>\n",
       "      <td>Five_Ridge</td>\n",
       "      <td>122298.620660</td>\n",
       "    </tr>\n",
       "    <tr>\n",
       "      <th>8</th>\n",
       "      <td>Five_LR</td>\n",
       "      <td>123085.296273</td>\n",
       "    </tr>\n",
       "    <tr>\n",
       "      <th>10</th>\n",
       "      <td>Five_Lasso</td>\n",
       "      <td>123502.186851</td>\n",
       "    </tr>\n",
       "    <tr>\n",
       "      <th>12</th>\n",
       "      <td>Interaction_LR</td>\n",
       "      <td>131377.843854</td>\n",
       "    </tr>\n",
       "    <tr>\n",
       "      <th>5</th>\n",
       "      <td>Single_Ridge</td>\n",
       "      <td>142096.242061</td>\n",
       "    </tr>\n",
       "    <tr>\n",
       "      <th>4</th>\n",
       "      <td>Single_LR</td>\n",
       "      <td>142142.865462</td>\n",
       "    </tr>\n",
       "    <tr>\n",
       "      <th>7</th>\n",
       "      <td>Single_Elastic</td>\n",
       "      <td>142182.012902</td>\n",
       "    </tr>\n",
       "    <tr>\n",
       "      <th>6</th>\n",
       "      <td>Single_Lasso</td>\n",
       "      <td>142236.171098</td>\n",
       "    </tr>\n",
       "  </tbody>\n",
       "</table>\n",
       "</div>"
      ],
      "text/plain": [
       "                  Model            MSE\n",
       "15  Interaction_Elastic  119038.112162\n",
       "14    Interaction_Lasso  120734.975634\n",
       "0                All_LR  121136.310318\n",
       "11         Five_Elastic  121197.747583\n",
       "1             All_Ridge  121274.424070\n",
       "13    Interaction_Ridge  121503.530689\n",
       "2             All_Lasso  121828.141333\n",
       "3           All_Elastic  122065.012835\n",
       "9            Five_Ridge  122298.620660\n",
       "8               Five_LR  123085.296273\n",
       "10           Five_Lasso  123502.186851\n",
       "12       Interaction_LR  131377.843854\n",
       "5          Single_Ridge  142096.242061\n",
       "4             Single_LR  142142.865462\n",
       "7        Single_Elastic  142182.012902\n",
       "6          Single_Lasso  142236.171098"
      ]
     },
     "execution_count": null,
     "metadata": {},
     "output_type": "execute_result"
    }
   ],
   "source": [
    "ModelMSEs.sort_values(\"MSE\", ascending= True)"
   ]
  },
  {
   "cell_type": "markdown",
   "metadata": {},
   "source": [
    "The top model is the Interaction Elastic Model!\n",
    "\n",
    "Lets take a look at the coeffecients associated with this model."
   ]
  },
  {
   "cell_type": "code",
   "execution_count": 434,
   "metadata": {
    "vscode": {
     "languageId": "python"
    }
   },
   "outputs": [],
   "source": [
    "#slightly changing the code in the function to return coeffectients fit on the whole dataset\n",
    "\n",
    "def Interaction_Coeffecients(Df, Regression):\n",
    "  \"\"\"\n",
    "    Returns coeffecients for the interaction model with their associated variables\n",
    "    The function can be slightly altered to return best alpha, coeffecients, or more\n",
    "   \n",
    "\n",
    "    Parameters\n",
    "    ----------\n",
    "\n",
    "    df: pandas.DataFrame\n",
    "    Must be cleaned hitters dataset\n",
    "    Regression: must be LinearRegression\n",
    "    Ridge, Lasso, or ElasticNet\n",
    "\n",
    "    Return\n",
    "   ------\n",
    "   Coeffecients\n",
    "   a dataframe with the variables and their coeffecients\n",
    "    \n",
    "  \"\"\"\n",
    "\n",
    "  X = Df.drop(\"Salary\", axis = 1)\n",
    "  y = Df[\"Salary\"]\n",
    "  ct5vi = ColumnTransformer(\n",
    "      [\n",
    "      (\"standardize\", StandardScaler(), [\"CRBI\", \"PutOuts\", \"Hits\", \"Errors\", \"CRuns\"]),\n",
    "      (\"dummify\", OneHotEncoder(sparse_output= False, drop = \"first\"), [\"Division\"])\n",
    "      ],        remainder= \"drop\").set_output(transform= \"pandas\")\n",
    "  ct_interaction= ColumnTransformer(\n",
    "      [            (\"interaction1\", PolynomialFeatures(interaction_only= True, include_bias= False), [\"standardize__CRBI\", \"dummify__Division_W\"]),\n",
    "           (\"interaction2\", PolynomialFeatures(interaction_only= True, include_bias= False), [\"standardize__PutOuts\", \"dummify__Division_W\"]),\n",
    "          (\"interaction3\", PolynomialFeatures(interaction_only= True, include_bias= False), [\"standardize__Hits\", \"dummify__Division_W\"]),\n",
    "          (\"interaction4\", PolynomialFeatures(interaction_only= True, include_bias= False), [\"standardize__Errors\", \"dummify__Division_W\"]),\n",
    "          (\"interaction5\", PolynomialFeatures(interaction_only= True, include_bias= False), [\"standardize__CRuns\", \"dummify__Division_W\"])\n",
    "      ],\n",
    "      remainder= \"drop\").set_output(transform= \"pandas\")\n",
    "    \n",
    "  ct_keep = ColumnTransformer(\n",
    "      [\n",
    "        (\"keep\", FunctionTransformer(None), [\"interaction1__standardize__CRBI\", \"interaction1__dummify__Division_W\", \"interaction1__standardize__CRBI dummify__Division_W\", \"interaction2__standardize__PutOuts\", \"interaction2__standardize__PutOuts dummify__Division_W\", \"interaction3__standardize__Hits\", \"interaction3__standardize__Hits dummify__Division_W\", \"interaction4__standardize__Errors\", \"interaction4__standardize__Errors dummify__Division_W\", \"interaction5__standardize__CRuns\", \"interaction5__standardize__CRuns dummify__Division_W\"])\n",
    "      ],\n",
    "      remainder= \"drop\").set_output(transform= \"pandas\")\n",
    "\n",
    "\n",
    "  pipeline_regression = Pipeline(\n",
    "      [(\"preprocessing\", ct5vi),\n",
    "            (\"interaction\", ct_interaction),\n",
    "      (\"keep\", ct_keep),\n",
    "     (\"Regression\", Regression())]\n",
    "      ).set_output(transform= \"pandas\")\n",
    "\n",
    "\n",
    "  if Regression == ElasticNet:\n",
    "    params2 = {\n",
    "        'Regression__alpha': np.logspace(-5, 5, num = 11),\n",
    "        'Regression__l1_ratio' : np.linspace(0,1, num = 5)\n",
    "        }\n",
    "\n",
    "    gscv = GridSearchCV(pipeline_regression, params2, cv =5, scoring = 'r2')\n",
    "    gscv_fitted = gscv.fit(X, y)  \n",
    "    best_alpha_elastic = pd.DataFrame(data = {\"alpha\": gscv_fitted.cv_results_['param_Regression__alpha'], \"scores\": gscv_fitted.cv_results_['mean_test_score']}).sort_values(by = \"scores\", ascending = False).iloc[0,0]\n",
    "    best_l1_elastic = pd.DataFrame(data = {\"l1_ratio\": gscv_fitted.cv_results_['param_Regression__l1_ratio'], \"scores\": gscv_fitted.cv_results_['mean_test_score']}).sort_values(by = \"scores\", ascending = False).iloc[0,0]\n",
    "    pipeline_best = Pipeline(\n",
    "      [(\"preprocessing\", ct5vi),        (\"interaction\", ct_interaction),\n",
    "      (\"keep\", ct_keep),\n",
    "      (\"Regression\", Regression(alpha = best_alpha_elastic, l1_ratio = best_l1_elastic))]\n",
    "   ).set_output(transform= \"pandas\")\n",
    "\n",
    "\n",
    "  elif Regression == Lasso or Regression == Ridge: \n",
    "    params = {\n",
    "        'Regression__alpha': np.logspace(-5, 5, num = 11)\n",
    "        }\n",
    "    gscv = GridSearchCV(pipeline_regression, params, cv =5, scoring = 'r2')\n",
    "    gscv_fitted= gscv.fit(X, y)\n",
    "    best_alpha = pd.DataFrame(data = {\"Alpha\": np.logspace(-5, 5, num = 11), \"scores\": gscv_fitted.cv_results_['mean_test_score']}).sort_values(by = \"scores\", ascending = False).iloc[0,0]\n",
    "    pipeline_best = Pipeline(\n",
    "      [(\"preprocessing\", ct5vi),\n",
    "      (\"interaction\", ct_interaction),\n",
    "      (\"keep\", ct_keep),\n",
    "      (\"Regression\", Regression(alpha = best_alpha))]\n",
    "    ).set_output(transform= \"pandas\")\n",
    "\n",
    "  elif Regression == LinearRegression:\n",
    "      pipeline_best = pipeline_regression\n",
    "\n",
    "\n",
    "    #fitting to full dataset \n",
    "  pipeline_fitted = pipeline_best.fit(X, y)\n",
    "  coeff = pipeline_fitted.named_steps['Regression'].coef_\n",
    "  Coeffecients_df= pd.DataFrame({\"Variables\" : [\"interaction1__standardize__CRBI\", \"interaction1__dummify__Division_W\",\n",
    "   \"interaction1__standardize__CRBI dummify__Division_W\", \"interaction2__standardize__PutOuts\", \"interaction2__standardize__PutOuts dummify__Division_W\", \n",
    "   \"interaction3__standardize__Hits\", \"interaction3__standardize__Hits dummify__Division_W\", \"interaction4__standardize__Errors\",\n",
    "    \"interaction4__standardize__Errors dummify__Division_W\", \"interaction5__standardize__CRuns\", \"interaction5__standardize__CRuns dummify__Division_W\"],\n",
    "   \"Coeffecients\" : coeff})\n",
    "\n",
    "  scores_regression = -cross_val_score(pipeline_best, X, y, cv=5, scoring='neg_mean_squared_error') \n",
    "  regression_MSE = scores_regression.mean()\n",
    "    \n",
    "  return Coeffecients_df.sort_values('Coeffecients', key = abs, ascending= False)"
   ]
  },
  {
   "cell_type": "code",
   "execution_count": 341,
   "metadata": {
    "vscode": {
     "languageId": "python"
    }
   },
   "outputs": [
    {
     "data": {
      "text/html": [
       "<div>\n",
       "<style scoped>\n",
       "    .dataframe tbody tr th:only-of-type {\n",
       "        vertical-align: middle;\n",
       "    }\n",
       "\n",
       "    .dataframe tbody tr th {\n",
       "        vertical-align: top;\n",
       "    }\n",
       "\n",
       "    .dataframe thead th {\n",
       "        text-align: right;\n",
       "    }\n",
       "</style>\n",
       "<table border=\"1\" class=\"dataframe\">\n",
       "  <thead>\n",
       "    <tr style=\"text-align: right;\">\n",
       "      <th></th>\n",
       "      <th>Variables</th>\n",
       "      <th>Coeffecients</th>\n",
       "    </tr>\n",
       "  </thead>\n",
       "  <tbody>\n",
       "    <tr>\n",
       "      <th>0</th>\n",
       "      <td>interaction1__standardize__CRBI</td>\n",
       "      <td>111.842289</td>\n",
       "    </tr>\n",
       "    <tr>\n",
       "      <th>9</th>\n",
       "      <td>interaction5__standardize__CRuns</td>\n",
       "      <td>104.200013</td>\n",
       "    </tr>\n",
       "    <tr>\n",
       "      <th>5</th>\n",
       "      <td>interaction3__standardize__Hits</td>\n",
       "      <td>101.831089</td>\n",
       "    </tr>\n",
       "    <tr>\n",
       "      <th>3</th>\n",
       "      <td>interaction2__standardize__PutOuts</td>\n",
       "      <td>72.985843</td>\n",
       "    </tr>\n",
       "    <tr>\n",
       "      <th>1</th>\n",
       "      <td>interaction1__dummify__Division_W</td>\n",
       "      <td>-68.036588</td>\n",
       "    </tr>\n",
       "    <tr>\n",
       "      <th>2</th>\n",
       "      <td>interaction1__standardize__CRBI dummify__Divis...</td>\n",
       "      <td>-17.014967</td>\n",
       "    </tr>\n",
       "    <tr>\n",
       "      <th>4</th>\n",
       "      <td>interaction2__standardize__PutOuts dummify__Di...</td>\n",
       "      <td>-11.364040</td>\n",
       "    </tr>\n",
       "    <tr>\n",
       "      <th>7</th>\n",
       "      <td>interaction4__standardize__Errors</td>\n",
       "      <td>-11.024620</td>\n",
       "    </tr>\n",
       "    <tr>\n",
       "      <th>10</th>\n",
       "      <td>interaction5__standardize__CRuns dummify__Divi...</td>\n",
       "      <td>-10.427252</td>\n",
       "    </tr>\n",
       "    <tr>\n",
       "      <th>6</th>\n",
       "      <td>interaction3__standardize__Hits dummify__Divis...</td>\n",
       "      <td>2.267586</td>\n",
       "    </tr>\n",
       "    <tr>\n",
       "      <th>8</th>\n",
       "      <td>interaction4__standardize__Errors dummify__Div...</td>\n",
       "      <td>-0.000000</td>\n",
       "    </tr>\n",
       "  </tbody>\n",
       "</table>\n",
       "</div>"
      ],
      "text/plain": [
       "                                            Variables  Coeffecients\n",
       "0                     interaction1__standardize__CRBI    111.842289\n",
       "9                    interaction5__standardize__CRuns    104.200013\n",
       "5                     interaction3__standardize__Hits    101.831089\n",
       "3                  interaction2__standardize__PutOuts     72.985843\n",
       "1                   interaction1__dummify__Division_W    -68.036588\n",
       "2   interaction1__standardize__CRBI dummify__Divis...    -17.014967\n",
       "4   interaction2__standardize__PutOuts dummify__Di...    -11.364040\n",
       "7                   interaction4__standardize__Errors    -11.024620\n",
       "10  interaction5__standardize__CRuns dummify__Divi...    -10.427252\n",
       "6   interaction3__standardize__Hits dummify__Divis...      2.267586\n",
       "8   interaction4__standardize__Errors dummify__Div...     -0.000000"
      ]
     },
     "execution_count": null,
     "metadata": {},
     "output_type": "execute_result"
    }
   ],
   "source": [
    "# Final_coeffecients = Interaction_Coeffecients(data_clean, ElasticNet)\n",
    "Final_coeffecients"
   ]
  },
  {
   "cell_type": "markdown",
   "metadata": {},
   "source": [
    "Based on my best fitting model, the effect of career RBIs, Career Runs, and 1986 hits have the largest impact on Salary, with each standard deviation above the mean for these categories earning roughly 100,000 more dollars than their equal counter parts. "
   ]
  },
  {
   "cell_type": "code",
   "execution_count": 438,
   "metadata": {
    "vscode": {
     "languageId": "python"
    }
   },
   "outputs": [],
   "source": [
    "#editing the function again to return a pd.series of y_preds \n",
    "\n",
    "def y_preds(Df, Regression):\n",
    "    \"\"\"\n",
    "    Returns the given dataset with a new column filled with the predicted salaries for each \"player\" based on the interaction model\n",
    "    and the data in the columns given\n",
    "   \n",
    "\n",
    "    Parameters\n",
    "    ----------\n",
    "\n",
    "    df: pandas.DataFrame\n",
    "    Must be cleaned hitters dataset\n",
    "    Regression: must be LinearRegression\n",
    "    Ridge, Lasso, or ElasticNet\n",
    "\n",
    "    Return\n",
    "   ------\n",
    "   Dataframe\n",
    "   given dataframe with the new \"Predictions\" column\n",
    "    \"\"\"\n",
    "\n",
    "    X = Df.drop(\"Salary\", axis = 1)\n",
    "    y = Df[\"Salary\"]\n",
    "    ct5vi = ColumnTransformer(\n",
    "        [\n",
    "        (\"standardize\", StandardScaler(), [\"CRBI\", \"PutOuts\", \"Hits\", \"Errors\", \"CRuns\"]),\n",
    "        (\"dummify\", OneHotEncoder(sparse_output= False, drop = \"first\"), [\"Division\"])\n",
    "        ],\n",
    "        remainder= \"drop\").set_output(transform= \"pandas\")\n",
    "    ct_interaction= ColumnTransformer(\n",
    "        [\n",
    "            (\"interaction1\", PolynomialFeatures(interaction_only= True, include_bias= False), [\"standardize__CRBI\", \"dummify__Division_W\"]),\n",
    "            (\"interaction2\", PolynomialFeatures(interaction_only= True, include_bias= False), [\"standardize__PutOuts\", \"dummify__Division_W\"]),\n",
    "            (\"interaction3\", PolynomialFeatures(interaction_only= True, include_bias= False), [\"standardize__Hits\", \"dummify__Division_W\"]),\n",
    "            (\"interaction4\", PolynomialFeatures(interaction_only= True, include_bias= False), [\"standardize__Errors\", \"dummify__Division_W\"]),\n",
    "            (\"interaction5\", PolynomialFeatures(interaction_only= True, include_bias= False), [\"standardize__CRuns\", \"dummify__Division_W\"])\n",
    "\n",
    "        ],\n",
    "        remainder= \"drop\").set_output(transform= \"pandas\")\n",
    "    \n",
    "    ct_keep = ColumnTransformer(\n",
    "      [\n",
    "        (\"keep\", FunctionTransformer(None), [\"interaction1__standardize__CRBI\", \"interaction1__dummify__Division_W\", \"interaction1__standardize__CRBI dummify__Division_W\", \"interaction2__standardize__PutOuts\", \"interaction2__standardize__PutOuts dummify__Division_W\", \"interaction3__standardize__Hits\", \"interaction3__standardize__Hits dummify__Division_W\", \"interaction4__standardize__Errors\", \"interaction4__standardize__Errors dummify__Division_W\", \"interaction5__standardize__CRuns\", \"interaction5__standardize__CRuns dummify__Division_W\"])\n",
    "      ],\n",
    "      remainder= \"drop\").set_output(transform= \"pandas\")\n",
    "\n",
    "\n",
    "    pipeline_regression = Pipeline(\n",
    "            [(\"preprocessing\", ct5vi),\n",
    "            (\"interaction\", ct_interaction),\n",
    "            (\"keep\", ct_keep),\n",
    "            (\"Regression\", Regression())]\n",
    "        ).set_output(transform= \"pandas\")\n",
    "\n",
    "\n",
    "    if Regression == ElasticNet:\n",
    "      params2 = {\n",
    "          'Regression__alpha': np.logspace(-5, 5, num = 11),\n",
    "          'Regression__l1_ratio' : np.linspace(0,1, num = 5)\n",
    "          }\n",
    "\n",
    "      gscv = GridSearchCV(pipeline_regression, params2, cv =5, scoring = 'r2')\n",
    "      gscv_fitted = gscv.fit(X, y)  \n",
    "      best_alpha_elastic = pd.DataFrame(data = {\"alpha\": gscv_fitted.cv_results_['param_Regression__alpha'], \"scores\": gscv_fitted.cv_results_['mean_test_score']}).sort_values(by = \"scores\", ascending = False).iloc[0,0]\n",
    "      best_l1_elastic = pd.DataFrame(data = {\"l1_ratio\": gscv_fitted.cv_results_['param_Regression__l1_ratio'], \"scores\": gscv_fitted.cv_results_['mean_test_score']}).sort_values(by = \"scores\", ascending = False).iloc[0,0]\n",
    "      pipeline_best = Pipeline(\n",
    "        [(\"preprocessing\", ct5vi),\n",
    "        (\"interaction\", ct_interaction),\n",
    "        (\"keep\", ct_keep),\n",
    "        (\"Regression\", Regression(alpha = best_alpha_elastic, l1_ratio = best_l1_elastic))]\n",
    "      ).set_output(transform= \"pandas\")\n",
    "\n",
    "    #fitting to full dataset \n",
    "    pipeline_fitted = pipeline_best.fit(X, y)\n",
    "    #salary_predictions\n",
    "    Df[\"Predictions\"] = pipeline_fitted.predict(X)\n",
    "    \n",
    "    return Df.head()"
   ]
  },
  {
   "cell_type": "code",
   "execution_count": 439,
   "metadata": {
    "vscode": {
     "languageId": "python"
    }
   },
   "outputs": [
    {
     "name": "stderr",
     "output_type": "stream",
     "text": [
      "C:\\Users\\Davis\\anaconda3\\Lib\\site-packages\\sklearn\\preprocessing\\_function_transformer.py:345: UserWarning: With transform=\"pandas\", `func` should return a DataFrame to follow the set_output API.\n",
      "C:\\Users\\Davis\\anaconda3\\Lib\\site-packages\\sklearn\\linear_model\\_coordinate_descent.py:628: ConvergenceWarning: Objective did not converge. You might want to increase the number of iterations, check the scale of the features or consider increasing regularisation. Duality gap: 1.156e+07, tolerance: 4.708e+03 Linear regression models with null weight for the l1 regularization term are more efficiently fitted using one of the solvers implemented in sklearn.linear_model.Ridge/RidgeCV instead.\n",
      "C:\\Users\\Davis\\anaconda3\\Lib\\site-packages\\sklearn\\linear_model\\_coordinate_descent.py:628: ConvergenceWarning: Objective did not converge. You might want to increase the number of iterations, check the scale of the features or consider increasing regularisation. Duality gap: 9.728e+06, tolerance: 3.606e+03 Linear regression models with null weight for the l1 regularization term are more efficiently fitted using one of the solvers implemented in sklearn.linear_model.Ridge/RidgeCV instead.\n",
      "C:\\Users\\Davis\\anaconda3\\Lib\\site-packages\\sklearn\\linear_model\\_coordinate_descent.py:628: ConvergenceWarning: Objective did not converge. You might want to increase the number of iterations, check the scale of the features or consider increasing regularisation. Duality gap: 1.152e+07, tolerance: 4.137e+03 Linear regression models with null weight for the l1 regularization term are more efficiently fitted using one of the solvers implemented in sklearn.linear_model.Ridge/RidgeCV instead.\n",
      "C:\\Users\\Davis\\anaconda3\\Lib\\site-packages\\sklearn\\linear_model\\_coordinate_descent.py:628: ConvergenceWarning: Objective did not converge. You might want to increase the number of iterations, check the scale of the features or consider increasing regularisation. Duality gap: 8.236e+06, tolerance: 4.281e+03 Linear regression models with null weight for the l1 regularization term are more efficiently fitted using one of the solvers implemented in sklearn.linear_model.Ridge/RidgeCV instead.\n",
      "C:\\Users\\Davis\\anaconda3\\Lib\\site-packages\\sklearn\\linear_model\\_coordinate_descent.py:628: ConvergenceWarning: Objective did not converge. You might want to increase the number of iterations, check the scale of the features or consider increasing regularisation. Duality gap: 1.107e+07, tolerance: 4.558e+03 Linear regression models with null weight for the l1 regularization term are more efficiently fitted using one of the solvers implemented in sklearn.linear_model.Ridge/RidgeCV instead.\n"
     ]
    },
    {
     "name": "stderr",
     "output_type": "stream",
     "text": [
      "C:\\Users\\Davis\\anaconda3\\Lib\\site-packages\\sklearn\\linear_model\\_coordinate_descent.py:628: ConvergenceWarning: Objective did not converge. You might want to increase the number of iterations, check the scale of the features or consider increasing regularisation. Duality gap: 1.157e+07, tolerance: 4.708e+03 Linear regression models with null weight for the l1 regularization term are more efficiently fitted using one of the solvers implemented in sklearn.linear_model.Ridge/RidgeCV instead.\n",
      "C:\\Users\\Davis\\anaconda3\\Lib\\site-packages\\sklearn\\linear_model\\_coordinate_descent.py:628: ConvergenceWarning: Objective did not converge. You might want to increase the number of iterations, check the scale of the features or consider increasing regularisation. Duality gap: 9.729e+06, tolerance: 3.606e+03 Linear regression models with null weight for the l1 regularization term are more efficiently fitted using one of the solvers implemented in sklearn.linear_model.Ridge/RidgeCV instead.\n",
      "C:\\Users\\Davis\\anaconda3\\Lib\\site-packages\\sklearn\\linear_model\\_coordinate_descent.py:628: ConvergenceWarning: Objective did not converge. You might want to increase the number of iterations, check the scale of the features or consider increasing regularisation. Duality gap: 1.152e+07, tolerance: 4.137e+03 Linear regression models with null weight for the l1 regularization term are more efficiently fitted using one of the solvers implemented in sklearn.linear_model.Ridge/RidgeCV instead.\n",
      "C:\\Users\\Davis\\anaconda3\\Lib\\site-packages\\sklearn\\linear_model\\_coordinate_descent.py:628: ConvergenceWarning: Objective did not converge. You might want to increase the number of iterations, check the scale of the features or consider increasing regularisation. Duality gap: 8.243e+06, tolerance: 4.281e+03 Linear regression models with null weight for the l1 regularization term are more efficiently fitted using one of the solvers implemented in sklearn.linear_model.Ridge/RidgeCV instead.\n",
      "C:\\Users\\Davis\\anaconda3\\Lib\\site-packages\\sklearn\\linear_model\\_coordinate_descent.py:628: ConvergenceWarning: Objective did not converge. You might want to increase the number of iterations, check the scale of the features or consider increasing regularisation. Duality gap: 1.107e+07, tolerance: 4.558e+03 Linear regression models with null weight for the l1 regularization term are more efficiently fitted using one of the solvers implemented in sklearn.linear_model.Ridge/RidgeCV instead.\n"
     ]
    },
    {
     "name": "stderr",
     "output_type": "stream",
     "text": [
      "C:\\Users\\Davis\\anaconda3\\Lib\\site-packages\\sklearn\\linear_model\\_coordinate_descent.py:628: ConvergenceWarning: Objective did not converge. You might want to increase the number of iterations, check the scale of the features or consider increasing regularisation. Duality gap: 1.159e+07, tolerance: 4.708e+03 Linear regression models with null weight for the l1 regularization term are more efficiently fitted using one of the solvers implemented in sklearn.linear_model.Ridge/RidgeCV instead.\n",
      "C:\\Users\\Davis\\anaconda3\\Lib\\site-packages\\sklearn\\linear_model\\_coordinate_descent.py:628: ConvergenceWarning: Objective did not converge. You might want to increase the number of iterations, check the scale of the features or consider increasing regularisation. Duality gap: 9.739e+06, tolerance: 3.606e+03 Linear regression models with null weight for the l1 regularization term are more efficiently fitted using one of the solvers implemented in sklearn.linear_model.Ridge/RidgeCV instead.\n",
      "C:\\Users\\Davis\\anaconda3\\Lib\\site-packages\\sklearn\\linear_model\\_coordinate_descent.py:628: ConvergenceWarning: Objective did not converge. You might want to increase the number of iterations, check the scale of the features or consider increasing regularisation. Duality gap: 1.153e+07, tolerance: 4.137e+03 Linear regression models with null weight for the l1 regularization term are more efficiently fitted using one of the solvers implemented in sklearn.linear_model.Ridge/RidgeCV instead.\n",
      "C:\\Users\\Davis\\anaconda3\\Lib\\site-packages\\sklearn\\linear_model\\_coordinate_descent.py:628: ConvergenceWarning: Objective did not converge. You might want to increase the number of iterations, check the scale of the features or consider increasing regularisation. Duality gap: 8.305e+06, tolerance: 4.281e+03 Linear regression models with null weight for the l1 regularization term are more efficiently fitted using one of the solvers implemented in sklearn.linear_model.Ridge/RidgeCV instead.\n",
      "C:\\Users\\Davis\\anaconda3\\Lib\\site-packages\\sklearn\\linear_model\\_coordinate_descent.py:628: ConvergenceWarning: Objective did not converge. You might want to increase the number of iterations, check the scale of the features or consider increasing regularisation. Duality gap: 1.108e+07, tolerance: 4.558e+03 Linear regression models with null weight for the l1 regularization term are more efficiently fitted using one of the solvers implemented in sklearn.linear_model.Ridge/RidgeCV instead.\n"
     ]
    },
    {
     "name": "stderr",
     "output_type": "stream",
     "text": [
      "C:\\Users\\Davis\\anaconda3\\Lib\\site-packages\\sklearn\\linear_model\\_coordinate_descent.py:628: ConvergenceWarning: Objective did not converge. You might want to increase the number of iterations, check the scale of the features or consider increasing regularisation. Duality gap: 1.174e+07, tolerance: 4.708e+03 Linear regression models with null weight for the l1 regularization term are more efficiently fitted using one of the solvers implemented in sklearn.linear_model.Ridge/RidgeCV instead.\n",
      "C:\\Users\\Davis\\anaconda3\\Lib\\site-packages\\sklearn\\linear_model\\_coordinate_descent.py:628: ConvergenceWarning: Objective did not converge. You might want to increase the number of iterations, check the scale of the features or consider increasing regularisation. Duality gap: 9.825e+06, tolerance: 3.606e+03 Linear regression models with null weight for the l1 regularization term are more efficiently fitted using one of the solvers implemented in sklearn.linear_model.Ridge/RidgeCV instead.\n",
      "C:\\Users\\Davis\\anaconda3\\Lib\\site-packages\\sklearn\\linear_model\\_coordinate_descent.py:628: ConvergenceWarning: Objective did not converge. You might want to increase the number of iterations, check the scale of the features or consider increasing regularisation. Duality gap: 1.160e+07, tolerance: 4.137e+03 Linear regression models with null weight for the l1 regularization term are more efficiently fitted using one of the solvers implemented in sklearn.linear_model.Ridge/RidgeCV instead.\n",
      "C:\\Users\\Davis\\anaconda3\\Lib\\site-packages\\sklearn\\linear_model\\_coordinate_descent.py:628: ConvergenceWarning: Objective did not converge. You might want to increase the number of iterations, check the scale of the features or consider increasing regularisation. Duality gap: 8.625e+06, tolerance: 4.281e+03 Linear regression models with null weight for the l1 regularization term are more efficiently fitted using one of the solvers implemented in sklearn.linear_model.Ridge/RidgeCV instead.\n",
      "C:\\Users\\Davis\\anaconda3\\Lib\\site-packages\\sklearn\\linear_model\\_coordinate_descent.py:628: ConvergenceWarning: Objective did not converge. You might want to increase the number of iterations, check the scale of the features or consider increasing regularisation. Duality gap: 1.117e+07, tolerance: 4.558e+03 Linear regression models with null weight for the l1 regularization term are more efficiently fitted using one of the solvers implemented in sklearn.linear_model.Ridge/RidgeCV instead.\n"
     ]
    },
    {
     "name": "stderr",
     "output_type": "stream",
     "text": [
      "C:\\Users\\Davis\\anaconda3\\Lib\\site-packages\\sklearn\\linear_model\\_coordinate_descent.py:628: ConvergenceWarning: Objective did not converge. You might want to increase the number of iterations, check the scale of the features or consider increasing regularisation. Duality gap: 1.269e+07, tolerance: 4.708e+03 Linear regression models with null weight for the l1 regularization term are more efficiently fitted using one of the solvers implemented in sklearn.linear_model.Ridge/RidgeCV instead.\n",
      "C:\\Users\\Davis\\anaconda3\\Lib\\site-packages\\sklearn\\linear_model\\_coordinate_descent.py:628: ConvergenceWarning: Objective did not converge. You might want to increase the number of iterations, check the scale of the features or consider increasing regularisation. Duality gap: 1.042e+07, tolerance: 3.606e+03 Linear regression models with null weight for the l1 regularization term are more efficiently fitted using one of the solvers implemented in sklearn.linear_model.Ridge/RidgeCV instead.\n",
      "C:\\Users\\Davis\\anaconda3\\Lib\\site-packages\\sklearn\\linear_model\\_coordinate_descent.py:628: ConvergenceWarning: Objective did not converge. You might want to increase the number of iterations, check the scale of the features or consider increasing regularisation. Duality gap: 1.222e+07, tolerance: 4.137e+03 Linear regression models with null weight for the l1 regularization term are more efficiently fitted using one of the solvers implemented in sklearn.linear_model.Ridge/RidgeCV instead.\n",
      "C:\\Users\\Davis\\anaconda3\\Lib\\site-packages\\sklearn\\linear_model\\_coordinate_descent.py:628: ConvergenceWarning: Objective did not converge. You might want to increase the number of iterations, check the scale of the features or consider increasing regularisation. Duality gap: 9.557e+06, tolerance: 4.281e+03 Linear regression models with null weight for the l1 regularization term are more efficiently fitted using one of the solvers implemented in sklearn.linear_model.Ridge/RidgeCV instead.\n",
      "C:\\Users\\Davis\\anaconda3\\Lib\\site-packages\\sklearn\\linear_model\\_coordinate_descent.py:628: ConvergenceWarning: Objective did not converge. You might want to increase the number of iterations, check the scale of the features or consider increasing regularisation. Duality gap: 1.189e+07, tolerance: 4.558e+03 Linear regression models with null weight for the l1 regularization term are more efficiently fitted using one of the solvers implemented in sklearn.linear_model.Ridge/RidgeCV instead.\n"
     ]
    },
    {
     "name": "stderr",
     "output_type": "stream",
     "text": [
      "C:\\Users\\Davis\\anaconda3\\Lib\\site-packages\\sklearn\\linear_model\\_coordinate_descent.py:628: ConvergenceWarning: Objective did not converge. You might want to increase the number of iterations, check the scale of the features or consider increasing regularisation. Duality gap: 1.643e+07, tolerance: 4.708e+03 Linear regression models with null weight for the l1 regularization term are more efficiently fitted using one of the solvers implemented in sklearn.linear_model.Ridge/RidgeCV instead.\n",
      "C:\\Users\\Davis\\anaconda3\\Lib\\site-packages\\sklearn\\linear_model\\_coordinate_descent.py:628: ConvergenceWarning: Objective did not converge. You might want to increase the number of iterations, check the scale of the features or consider increasing regularisation. Duality gap: 1.289e+07, tolerance: 3.606e+03 Linear regression models with null weight for the l1 regularization term are more efficiently fitted using one of the solvers implemented in sklearn.linear_model.Ridge/RidgeCV instead.\n",
      "C:\\Users\\Davis\\anaconda3\\Lib\\site-packages\\sklearn\\linear_model\\_coordinate_descent.py:628: ConvergenceWarning: Objective did not converge. You might want to increase the number of iterations, check the scale of the features or consider increasing regularisation. Duality gap: 1.498e+07, tolerance: 4.137e+03 Linear regression models with null weight for the l1 regularization term are more efficiently fitted using one of the solvers implemented in sklearn.linear_model.Ridge/RidgeCV instead.\n",
      "C:\\Users\\Davis\\anaconda3\\Lib\\site-packages\\sklearn\\linear_model\\_coordinate_descent.py:628: ConvergenceWarning: Objective did not converge. You might want to increase the number of iterations, check the scale of the features or consider increasing regularisation. Duality gap: 1.320e+07, tolerance: 4.281e+03 Linear regression models with null weight for the l1 regularization term are more efficiently fitted using one of the solvers implemented in sklearn.linear_model.Ridge/RidgeCV instead.\n",
      "C:\\Users\\Davis\\anaconda3\\Lib\\site-packages\\sklearn\\linear_model\\_coordinate_descent.py:628: ConvergenceWarning: Objective did not converge. You might want to increase the number of iterations, check the scale of the features or consider increasing regularisation. Duality gap: 1.531e+07, tolerance: 4.558e+03 Linear regression models with null weight for the l1 regularization term are more efficiently fitted using one of the solvers implemented in sklearn.linear_model.Ridge/RidgeCV instead.\n"
     ]
    },
    {
     "name": "stderr",
     "output_type": "stream",
     "text": [
      "C:\\Users\\Davis\\anaconda3\\Lib\\site-packages\\sklearn\\linear_model\\_coordinate_descent.py:628: ConvergenceWarning: Objective did not converge. You might want to increase the number of iterations, check the scale of the features or consider increasing regularisation. Duality gap: 2.165e+07, tolerance: 4.708e+03 Linear regression models with null weight for the l1 regularization term are more efficiently fitted using one of the solvers implemented in sklearn.linear_model.Ridge/RidgeCV instead.\n",
      "C:\\Users\\Davis\\anaconda3\\Lib\\site-packages\\sklearn\\linear_model\\_coordinate_descent.py:628: ConvergenceWarning: Objective did not converge. You might want to increase the number of iterations, check the scale of the features or consider increasing regularisation. Duality gap: 1.661e+07, tolerance: 3.606e+03 Linear regression models with null weight for the l1 regularization term are more efficiently fitted using one of the solvers implemented in sklearn.linear_model.Ridge/RidgeCV instead.\n",
      "C:\\Users\\Davis\\anaconda3\\Lib\\site-packages\\sklearn\\linear_model\\_coordinate_descent.py:628: ConvergenceWarning: Objective did not converge. You might want to increase the number of iterations, check the scale of the features or consider increasing regularisation. Duality gap: 1.914e+07, tolerance: 4.137e+03 Linear regression models with null weight for the l1 regularization term are more efficiently fitted using one of the solvers implemented in sklearn.linear_model.Ridge/RidgeCV instead.\n",
      "C:\\Users\\Davis\\anaconda3\\Lib\\site-packages\\sklearn\\linear_model\\_coordinate_descent.py:628: ConvergenceWarning: Objective did not converge. You might want to increase the number of iterations, check the scale of the features or consider increasing regularisation. Duality gap: 1.913e+07, tolerance: 4.281e+03 Linear regression models with null weight for the l1 regularization term are more efficiently fitted using one of the solvers implemented in sklearn.linear_model.Ridge/RidgeCV instead.\n",
      "C:\\Users\\Davis\\anaconda3\\Lib\\site-packages\\sklearn\\linear_model\\_coordinate_descent.py:628: ConvergenceWarning: Objective did not converge. You might want to increase the number of iterations, check the scale of the features or consider increasing regularisation. Duality gap: 2.076e+07, tolerance: 4.558e+03 Linear regression models with null weight for the l1 regularization term are more efficiently fitted using one of the solvers implemented in sklearn.linear_model.Ridge/RidgeCV instead.\n"
     ]
    },
    {
     "name": "stderr",
     "output_type": "stream",
     "text": [
      "C:\\Users\\Davis\\anaconda3\\Lib\\site-packages\\sklearn\\linear_model\\_coordinate_descent.py:628: ConvergenceWarning: Objective did not converge. You might want to increase the number of iterations, check the scale of the features or consider increasing regularisation. Duality gap: 2.331e+07, tolerance: 4.708e+03 Linear regression models with null weight for the l1 regularization term are more efficiently fitted using one of the solvers implemented in sklearn.linear_model.Ridge/RidgeCV instead.\n",
      "C:\\Users\\Davis\\anaconda3\\Lib\\site-packages\\sklearn\\linear_model\\_coordinate_descent.py:628: ConvergenceWarning: Objective did not converge. You might want to increase the number of iterations, check the scale of the features or consider increasing regularisation. Duality gap: 1.786e+07, tolerance: 3.606e+03 Linear regression models with null weight for the l1 regularization term are more efficiently fitted using one of the solvers implemented in sklearn.linear_model.Ridge/RidgeCV instead.\n",
      "C:\\Users\\Davis\\anaconda3\\Lib\\site-packages\\sklearn\\linear_model\\_coordinate_descent.py:628: ConvergenceWarning: Objective did not converge. You might want to increase the number of iterations, check the scale of the features or consider increasing regularisation. Duality gap: 2.050e+07, tolerance: 4.137e+03 Linear regression models with null weight for the l1 regularization term are more efficiently fitted using one of the solvers implemented in sklearn.linear_model.Ridge/RidgeCV instead.\n",
      "C:\\Users\\Davis\\anaconda3\\Lib\\site-packages\\sklearn\\linear_model\\_coordinate_descent.py:628: ConvergenceWarning: Objective did not converge. You might want to increase the number of iterations, check the scale of the features or consider increasing regularisation. Duality gap: 2.113e+07, tolerance: 4.281e+03 Linear regression models with null weight for the l1 regularization term are more efficiently fitted using one of the solvers implemented in sklearn.linear_model.Ridge/RidgeCV instead.\n",
      "C:\\Users\\Davis\\anaconda3\\Lib\\site-packages\\sklearn\\linear_model\\_coordinate_descent.py:628: ConvergenceWarning: Objective did not converge. You might want to increase the number of iterations, check the scale of the features or consider increasing regularisation. Duality gap: 2.254e+07, tolerance: 4.558e+03 Linear regression models with null weight for the l1 regularization term are more efficiently fitted using one of the solvers implemented in sklearn.linear_model.Ridge/RidgeCV instead.\n"
     ]
    },
    {
     "name": "stderr",
     "output_type": "stream",
     "text": [
      "C:\\Users\\Davis\\anaconda3\\Lib\\site-packages\\sklearn\\linear_model\\_coordinate_descent.py:628: ConvergenceWarning: Objective did not converge. You might want to increase the number of iterations, check the scale of the features or consider increasing regularisation. Duality gap: 2.351e+07, tolerance: 4.708e+03 Linear regression models with null weight for the l1 regularization term are more efficiently fitted using one of the solvers implemented in sklearn.linear_model.Ridge/RidgeCV instead.\n",
      "C:\\Users\\Davis\\anaconda3\\Lib\\site-packages\\sklearn\\linear_model\\_coordinate_descent.py:628: ConvergenceWarning: Objective did not converge. You might want to increase the number of iterations, check the scale of the features or consider increasing regularisation. Duality gap: 1.801e+07, tolerance: 3.606e+03 Linear regression models with null weight for the l1 regularization term are more efficiently fitted using one of the solvers implemented in sklearn.linear_model.Ridge/RidgeCV instead.\n",
      "C:\\Users\\Davis\\anaconda3\\Lib\\site-packages\\sklearn\\linear_model\\_coordinate_descent.py:628: ConvergenceWarning: Objective did not converge. You might want to increase the number of iterations, check the scale of the features or consider increasing regularisation. Duality gap: 2.067e+07, tolerance: 4.137e+03 Linear regression models with null weight for the l1 regularization term are more efficiently fitted using one of the solvers implemented in sklearn.linear_model.Ridge/RidgeCV instead.\n",
      "C:\\Users\\Davis\\anaconda3\\Lib\\site-packages\\sklearn\\linear_model\\_coordinate_descent.py:628: ConvergenceWarning: Objective did not converge. You might want to increase the number of iterations, check the scale of the features or consider increasing regularisation. Duality gap: 2.138e+07, tolerance: 4.281e+03 Linear regression models with null weight for the l1 regularization term are more efficiently fitted using one of the solvers implemented in sklearn.linear_model.Ridge/RidgeCV instead.\n",
      "C:\\Users\\Davis\\anaconda3\\Lib\\site-packages\\sklearn\\linear_model\\_coordinate_descent.py:628: ConvergenceWarning: Objective did not converge. You might want to increase the number of iterations, check the scale of the features or consider increasing regularisation. Duality gap: 2.277e+07, tolerance: 4.558e+03 Linear regression models with null weight for the l1 regularization term are more efficiently fitted using one of the solvers implemented in sklearn.linear_model.Ridge/RidgeCV instead.\n"
     ]
    },
    {
     "name": "stderr",
     "output_type": "stream",
     "text": [
      "C:\\Users\\Davis\\anaconda3\\Lib\\site-packages\\sklearn\\linear_model\\_coordinate_descent.py:628: ConvergenceWarning: Objective did not converge. You might want to increase the number of iterations, check the scale of the features or consider increasing regularisation. Duality gap: 2.354e+07, tolerance: 4.708e+03 Linear regression models with null weight for the l1 regularization term are more efficiently fitted using one of the solvers implemented in sklearn.linear_model.Ridge/RidgeCV instead.\n",
      "C:\\Users\\Davis\\anaconda3\\Lib\\site-packages\\sklearn\\linear_model\\_coordinate_descent.py:628: ConvergenceWarning: Objective did not converge. You might want to increase the number of iterations, check the scale of the features or consider increasing regularisation. Duality gap: 1.803e+07, tolerance: 3.606e+03 Linear regression models with null weight for the l1 regularization term are more efficiently fitted using one of the solvers implemented in sklearn.linear_model.Ridge/RidgeCV instead.\n",
      "C:\\Users\\Davis\\anaconda3\\Lib\\site-packages\\sklearn\\linear_model\\_coordinate_descent.py:628: ConvergenceWarning: Objective did not converge. You might want to increase the number of iterations, check the scale of the features or consider increasing regularisation. Duality gap: 2.069e+07, tolerance: 4.137e+03 Linear regression models with null weight for the l1 regularization term are more efficiently fitted using one of the solvers implemented in sklearn.linear_model.Ridge/RidgeCV instead.\n",
      "C:\\Users\\Davis\\anaconda3\\Lib\\site-packages\\sklearn\\linear_model\\_coordinate_descent.py:628: ConvergenceWarning: Objective did not converge. You might want to increase the number of iterations, check the scale of the features or consider increasing regularisation. Duality gap: 2.140e+07, tolerance: 4.281e+03 Linear regression models with null weight for the l1 regularization term are more efficiently fitted using one of the solvers implemented in sklearn.linear_model.Ridge/RidgeCV instead.\n",
      "C:\\Users\\Davis\\anaconda3\\Lib\\site-packages\\sklearn\\linear_model\\_coordinate_descent.py:628: ConvergenceWarning: Objective did not converge. You might want to increase the number of iterations, check the scale of the features or consider increasing regularisation. Duality gap: 2.279e+07, tolerance: 4.558e+03 Linear regression models with null weight for the l1 regularization term are more efficiently fitted using one of the solvers implemented in sklearn.linear_model.Ridge/RidgeCV instead.\n"
     ]
    },
    {
     "name": "stderr",
     "output_type": "stream",
     "text": [
      "C:\\Users\\Davis\\anaconda3\\Lib\\site-packages\\sklearn\\linear_model\\_coordinate_descent.py:628: ConvergenceWarning: Objective did not converge. You might want to increase the number of iterations, check the scale of the features or consider increasing regularisation. Duality gap: 2.354e+07, tolerance: 4.708e+03 Linear regression models with null weight for the l1 regularization term are more efficiently fitted using one of the solvers implemented in sklearn.linear_model.Ridge/RidgeCV instead.\n",
      "C:\\Users\\Davis\\anaconda3\\Lib\\site-packages\\sklearn\\linear_model\\_coordinate_descent.py:628: ConvergenceWarning: Objective did not converge. You might want to increase the number of iterations, check the scale of the features or consider increasing regularisation. Duality gap: 1.803e+07, tolerance: 3.606e+03 Linear regression models with null weight for the l1 regularization term are more efficiently fitted using one of the solvers implemented in sklearn.linear_model.Ridge/RidgeCV instead.\n",
      "C:\\Users\\Davis\\anaconda3\\Lib\\site-packages\\sklearn\\linear_model\\_coordinate_descent.py:628: ConvergenceWarning: Objective did not converge. You might want to increase the number of iterations, check the scale of the features or consider increasing regularisation. Duality gap: 2.069e+07, tolerance: 4.137e+03 Linear regression models with null weight for the l1 regularization term are more efficiently fitted using one of the solvers implemented in sklearn.linear_model.Ridge/RidgeCV instead.\n",
      "C:\\Users\\Davis\\anaconda3\\Lib\\site-packages\\sklearn\\linear_model\\_coordinate_descent.py:628: ConvergenceWarning: Objective did not converge. You might want to increase the number of iterations, check the scale of the features or consider increasing regularisation. Duality gap: 2.141e+07, tolerance: 4.281e+03 Linear regression models with null weight for the l1 regularization term are more efficiently fitted using one of the solvers implemented in sklearn.linear_model.Ridge/RidgeCV instead.\n",
      "C:\\Users\\Davis\\anaconda3\\Lib\\site-packages\\sklearn\\linear_model\\_coordinate_descent.py:628: ConvergenceWarning: Objective did not converge. You might want to increase the number of iterations, check the scale of the features or consider increasing regularisation. Duality gap: 2.279e+07, tolerance: 4.558e+03 Linear regression models with null weight for the l1 regularization term are more efficiently fitted using one of the solvers implemented in sklearn.linear_model.Ridge/RidgeCV instead.\n"
     ]
    },
    {
     "name": "stderr",
     "output_type": "stream",
     "text": [
      "C:\\Users\\Davis\\anaconda3\\Lib\\site-packages\\sklearn\\preprocessing\\_function_transformer.py:345: UserWarning: With transform=\"pandas\", `func` should return a DataFrame to follow the set_output API.\n"
     ]
    },
    {
     "data": {
      "text/html": [
       "<div>\n",
       "<style scoped>\n",
       "    .dataframe tbody tr th:only-of-type {\n",
       "        vertical-align: middle;\n",
       "    }\n",
       "\n",
       "    .dataframe tbody tr th {\n",
       "        vertical-align: top;\n",
       "    }\n",
       "\n",
       "    .dataframe thead th {\n",
       "        text-align: right;\n",
       "    }\n",
       "</style>\n",
       "<table border=\"1\" class=\"dataframe\">\n",
       "  <thead>\n",
       "    <tr style=\"text-align: right;\">\n",
       "      <th></th>\n",
       "      <th>AtBat</th>\n",
       "      <th>Hits</th>\n",
       "      <th>HmRun</th>\n",
       "      <th>Runs</th>\n",
       "      <th>RBI</th>\n",
       "      <th>Walks</th>\n",
       "      <th>Years</th>\n",
       "      <th>CAtBat</th>\n",
       "      <th>CHits</th>\n",
       "      <th>CHmRun</th>\n",
       "      <th>CRuns</th>\n",
       "      <th>CRBI</th>\n",
       "      <th>CWalks</th>\n",
       "      <th>League</th>\n",
       "      <th>Division</th>\n",
       "      <th>PutOuts</th>\n",
       "      <th>Assists</th>\n",
       "      <th>Errors</th>\n",
       "      <th>Salary</th>\n",
       "      <th>NewLeague</th>\n",
       "      <th>Predictions</th>\n",
       "    </tr>\n",
       "  </thead>\n",
       "  <tbody>\n",
       "    <tr>\n",
       "      <th>1</th>\n",
       "      <td>315</td>\n",
       "      <td>81</td>\n",
       "      <td>7</td>\n",
       "      <td>24</td>\n",
       "      <td>38</td>\n",
       "      <td>39</td>\n",
       "      <td>14</td>\n",
       "      <td>3449</td>\n",
       "      <td>835</td>\n",
       "      <td>69</td>\n",
       "      <td>321</td>\n",
       "      <td>414</td>\n",
       "      <td>375</td>\n",
       "      <td>N</td>\n",
       "      <td>W</td>\n",
       "      <td>632</td>\n",
       "      <td>43</td>\n",
       "      <td>10</td>\n",
       "      <td>475.0</td>\n",
       "      <td>N</td>\n",
       "      <td>526.134647</td>\n",
       "    </tr>\n",
       "    <tr>\n",
       "      <th>2</th>\n",
       "      <td>479</td>\n",
       "      <td>130</td>\n",
       "      <td>18</td>\n",
       "      <td>66</td>\n",
       "      <td>72</td>\n",
       "      <td>76</td>\n",
       "      <td>3</td>\n",
       "      <td>1624</td>\n",
       "      <td>457</td>\n",
       "      <td>63</td>\n",
       "      <td>224</td>\n",
       "      <td>266</td>\n",
       "      <td>263</td>\n",
       "      <td>A</td>\n",
       "      <td>W</td>\n",
       "      <td>880</td>\n",
       "      <td>82</td>\n",
       "      <td>14</td>\n",
       "      <td>480.0</td>\n",
       "      <td>A</td>\n",
       "      <td>616.395970</td>\n",
       "    </tr>\n",
       "    <tr>\n",
       "      <th>3</th>\n",
       "      <td>496</td>\n",
       "      <td>141</td>\n",
       "      <td>20</td>\n",
       "      <td>65</td>\n",
       "      <td>78</td>\n",
       "      <td>37</td>\n",
       "      <td>11</td>\n",
       "      <td>5628</td>\n",
       "      <td>1575</td>\n",
       "      <td>225</td>\n",
       "      <td>828</td>\n",
       "      <td>838</td>\n",
       "      <td>354</td>\n",
       "      <td>N</td>\n",
       "      <td>E</td>\n",
       "      <td>200</td>\n",
       "      <td>11</td>\n",
       "      <td>3</td>\n",
       "      <td>500.0</td>\n",
       "      <td>N</td>\n",
       "      <td>953.793404</td>\n",
       "    </tr>\n",
       "    <tr>\n",
       "      <th>4</th>\n",
       "      <td>321</td>\n",
       "      <td>87</td>\n",
       "      <td>10</td>\n",
       "      <td>39</td>\n",
       "      <td>42</td>\n",
       "      <td>30</td>\n",
       "      <td>2</td>\n",
       "      <td>396</td>\n",
       "      <td>101</td>\n",
       "      <td>12</td>\n",
       "      <td>48</td>\n",
       "      <td>46</td>\n",
       "      <td>33</td>\n",
       "      <td>N</td>\n",
       "      <td>E</td>\n",
       "      <td>805</td>\n",
       "      <td>40</td>\n",
       "      <td>4</td>\n",
       "      <td>91.5</td>\n",
       "      <td>N</td>\n",
       "      <td>467.753730</td>\n",
       "    </tr>\n",
       "    <tr>\n",
       "      <th>5</th>\n",
       "      <td>594</td>\n",
       "      <td>169</td>\n",
       "      <td>4</td>\n",
       "      <td>74</td>\n",
       "      <td>51</td>\n",
       "      <td>35</td>\n",
       "      <td>11</td>\n",
       "      <td>4408</td>\n",
       "      <td>1133</td>\n",
       "      <td>19</td>\n",
       "      <td>501</td>\n",
       "      <td>336</td>\n",
       "      <td>194</td>\n",
       "      <td>A</td>\n",
       "      <td>W</td>\n",
       "      <td>282</td>\n",
       "      <td>421</td>\n",
       "      <td>25</td>\n",
       "      <td>750.0</td>\n",
       "      <td>A</td>\n",
       "      <td>655.399958</td>\n",
       "    </tr>\n",
       "  </tbody>\n",
       "</table>\n",
       "</div>"
      ],
      "text/plain": [
       "   AtBat  Hits  HmRun  Runs  ...  Errors  Salary  NewLeague  Predictions\n",
       "1    315    81      7    24  ...      10   475.0          N   526.134647\n",
       "2    479   130     18    66  ...      14   480.0          A   616.395970\n",
       "3    496   141     20    65  ...       3   500.0          N   953.793404\n",
       "4    321    87     10    39  ...       4    91.5          N   467.753730\n",
       "5    594   169      4    74  ...      25   750.0          A   655.399958\n",
       "\n",
       "[5 rows x 21 columns]"
      ]
     },
     "execution_count": null,
     "metadata": {},
     "output_type": "execute_result"
    }
   ],
   "source": [
    "y_preds(data_clean, ElasticNet)"
   ]
  },
  {
   "cell_type": "code",
   "execution_count": 371,
   "metadata": {
    "vscode": {
     "languageId": "python"
    }
   },
   "outputs": [
    {
     "name": "stderr",
     "output_type": "stream",
     "text": [
      "C:\\Users\\Davis\\anaconda3\\Lib\\site-packages\\sklearn\\preprocessing\\_function_transformer.py:345: UserWarning: With transform=\"pandas\", `func` should return a DataFrame to follow the set_output API.\n"
     ]
    }
   ],
   "source": [
    "ct_vis = ColumnTransformer(\n",
    "    [(\"\", FunctionTransformer(None), [\"Salary\", \"Predictions\"]),\n",
    "    (\"standardize\", StandardScaler(), [\"CRBI\", \"CRuns\", \"Hits\"])\n",
    "    ],\n",
    "    remainder = \"drop\"\n",
    ").set_output(transform = \"pandas\")\n",
    "variables_vis = ct_vis.fit_transform(data_clean)\n",
    "variables_vis[\"player\"]= np.arange(1,264, 1) #this column is added in case theres multiple recordings of the same salary so information does not get lost \n",
    "# variables_vis\n"
   ]
  },
  {
   "cell_type": "code",
   "execution_count": 373,
   "metadata": {
    "vscode": {
     "languageId": "python"
    }
   },
   "outputs": [],
   "source": [
    "long_vis = variables_vis.melt(id_vars= [\"player\", \"__Salary\", \"__Predictions\"], var_name= \"Predictor\", value_vars= [\"standardize__CRBI\", \"standardize__CRuns\", \"standardize__Hits\"], value_name= \"Standardized\")"
   ]
  },
  {
   "cell_type": "code",
   "execution_count": 382,
   "metadata": {
    "vscode": {
     "languageId": "python"
    }
   },
   "outputs": [
    {
     "data": {
      "image/png": "[encoded data removed]"
     },
     "metadata": {},
     "output_type": "display_data"
    }
   ],
   "source": [
    "#Plot \n",
    "\n",
    "(ggplot(long_vis)  + geom_point(mapping= aes(x = \"Standardized\", y = \"__Salary\", fill = \"Predictor\"))+ geom_line(mapping= aes( x = \"Standardized\", y = \"__Predictions\"), alpha = 0.5)\n",
    "+ labs(x=\"Standardized\", y=\"Salary\", title=\"Effect of Each Predictor on Salary\"))\n"
   ]
  },
  {
   "cell_type": "markdown",
   "metadata": {},
   "source": [
    "A clear positive corrleation can be seen in each of these variables. The predictor in my opinion seems to be extremely overfit to this dataset as well, but these variables do seem to have an impact salary. "
   ]
  },
  {
   "cell_type": "markdown",
   "metadata": {},
   "source": [
    "**PART III**"
   ]
  },
  {
   "cell_type": "markdown",
   "metadata": {},
   "source": [
    "*Compare The ridge models to the ordinary regression models.*\n",
    "\n",
    "The ridge coeffecients were spread more evenly and all much smaller on average than the standard linear coeffecients.\n",
    "\n",
    "This makes sense because in Ridge the square of the coeffecients is the penalty so it really hates large coeffecients and would rather see many small coeffecients than one large one. \n",
    "\n",
    "*Compare your LASSO model in I with your three LASSO models in II. Did you get the same  lambda results? Why does this make sense? Did you get the same MSEs? Why does this make sense?*\n",
    "\n",
    "Yes, The lambda value was 10.0 for every Lasso model. This makes sense because LASSO wants to limit the number of variables in general, so whether I am feeding it one or 5 variables it will produce a very similar model which favors the top variable the most anyways.\n",
    "\n",
    "*Compare your MSEs for the Elastic Net models with those for the Ridge and LASSO models. Why does it make sense that Elastic Net always “wins”?*\n",
    "\n",
    "Elastic Net MSE is lower in the interaction and top five variables. This makes sense because it is finding not only the best alpha like the other two models are, but also the best combination of the relationship between LASSO and Ridge. It makes sense it is going to beat those models because it is combining the best of each model into one."
   ]
  }
 ],
 "metadata": {
  "language_info": {
   "name": "raw"
  }
 },
 "nbformat": 4,
 "nbformat_minor": 2
}
