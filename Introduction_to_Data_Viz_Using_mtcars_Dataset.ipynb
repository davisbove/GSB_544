{
  "cells": [
    {
      "cell_type": "markdown",
      "metadata": {
        "id": "zV7ujxtGAfrV"
      },
      "source": [
        "# Data Visualization Using `plotnine`\n",
        "\n",
        "The Palmer Penguins dataset had a variety of column types with which to explore some nice visualizations. The `mtcars` dataset is another popular dataset for doing some simple data work, but does not contain the same types of variables.\n",
        "\n",
        "Run the following code to load the `mtcars` dataset and explore the observations and variables contained within. To learn more about this dataset check out [this site](https://stat.ethz.ch/R-manual/R-devel/library/datasets/html/mtcars.html)"
      ]
    },
    {
      "cell_type": "code",
      "execution_count": 3,
      "metadata": {},
      "outputs": [
        {
          "name": "stdout",
          "output_type": "stream",
          "text": [
            "Collecting palmerpenguins\n",
            "  Obtaining dependency information for palmerpenguins from https://files.pythonhosted.org/packages/23/78/d81191d1faf9c41e8707eb0c08dc6d489157bfa42faad62e0ab90c37ebbc/palmerpenguins-0.1.4-py3-none-any.whl.metadata\n",
            "  Downloading palmerpenguins-0.1.4-py3-none-any.whl.metadata (2.0 kB)\n",
            "Requirement already satisfied: pandas in c:\\users\\davis\\anaconda3\\lib\\site-packages (from palmerpenguins) (1.5.3)\n",
            "Requirement already satisfied: numpy in c:\\users\\davis\\anaconda3\\lib\\site-packages (from palmerpenguins) (1.24.3)\n",
            "Requirement already satisfied: python-dateutil>=2.8.1 in c:\\users\\davis\\anaconda3\\lib\\site-packages (from pandas->palmerpenguins) (2.8.2)\n",
            "Requirement already satisfied: pytz>=2020.1 in c:\\users\\davis\\anaconda3\\lib\\site-packages (from pandas->palmerpenguins) (2022.7)\n",
            "Requirement already satisfied: six>=1.5 in c:\\users\\davis\\anaconda3\\lib\\site-packages (from python-dateutil>=2.8.1->pandas->palmerpenguins) (1.16.0)\n",
            "Downloading palmerpenguins-0.1.4-py3-none-any.whl (17 kB)\n",
            "Installing collected packages: palmerpenguins\n",
            "Successfully installed palmerpenguins-0.1.4\n",
            "Note: you may need to restart the kernel to use updated packages.\n",
            "Collecting palmerpenguins\n",
            "  Obtaining dependency information for palmerpenguins from https://files.pythonhosted.org/packages/23/78/d81191d1faf9c41e8707eb0c08dc6d489157bfa42faad62e0ab90c37ebbc/palmerpenguins-0.1.4-py3-none-any.whl.metadata\n",
            "  Downloading palmerpenguins-0.1.4-py3-none-any.whl.metadata (2.0 kB)\n",
            "Requirement already satisfied: pandas in c:\\users\\davis\\anaconda3\\lib\\site-packages (from palmerpenguins) (1.5.3)\n",
            "Requirement already satisfied: numpy in c:\\users\\davis\\anaconda3\\lib\\site-packages (from palmerpenguins) (1.24.3)\n",
            "Requirement already satisfied: python-dateutil>=2.8.1 in c:\\users\\davis\\anaconda3\\lib\\site-packages (from pandas->palmerpenguins) (2.8.2)\n",
            "Requirement already satisfied: pytz>=2020.1 in c:\\users\\davis\\anaconda3\\lib\\site-packages (from pandas->palmerpenguins) (2022.7)\n",
            "Requirement already satisfied: six>=1.5 in c:\\users\\davis\\anaconda3\\lib\\site-packages (from python-dateutil>=2.8.1->pandas->palmerpenguins) (1.16.0)\n",
            "Downloading palmerpenguins-0.1.4-py3-none-any.whl (17 kB)\n",
            "Installing collected packages: palmerpenguins\n",
            "Successfully installed palmerpenguins-0.1.4\n",
            "Note: you may need to restart the kernel to use updated packages.\n"
          ]
        }
      ],
      "source": [
        "pip install palmerpenguins"
      ]
    },
    {
      "cell_type": "code",
      "execution_count": null,
      "metadata": {},
      "outputs": [],
      "source": [
        "pip install "
      ]
    },
    {
      "cell_type": "code",
      "execution_count": 5,
      "metadata": {},
      "outputs": [],
      "source": [
        "import pandas as pd\n",
        "from palmerpenguins import load_penguins\n",
        "from plotnine import ggplot, geom_point, aes, geom_boxplot"
      ]
    },
    {
      "cell_type": "code",
      "execution_count": 6,
      "metadata": {
        "id": "q0b5clD3_-9F"
      },
      "outputs": [],
      "source": [
        "import statsmodels.api as sm\n",
        "import pandas as pd\n",
        "\n",
        "mtcars = sm.datasets.get_rdataset(\"mtcars\", \"datasets\", cache=True).data\n",
        "df = pd.DataFrame(mtcars)"
      ]
    },
    {
      "cell_type": "code",
      "execution_count": 7,
      "metadata": {
        "id": "vOlTRngUAzYl"
      },
      "outputs": [
        {
          "name": "stdout",
          "output_type": "stream",
          "text": [
            "Unexpected exception formatting exception. Falling back to standard exception\n",
            "Unexpected exception formatting exception. Falling back to standard exception\n"
          ]
        },
        {
          "name": "stderr",
          "output_type": "stream",
          "text": [
            "Traceback (most recent call last):\n",
            "  File \"C:\\Users\\Davis\\anaconda3\\Lib\\site-packages\\IPython\\core\\formatters.py\", line 223, in catch_format_error\n",
            "    r = method(self, *args, **kwargs)\n",
            "        ^^^^^^^^^^^^^^^^^^^^^^^^^^^^^\n",
            "  File \"C:\\Users\\Davis\\anaconda3\\Lib\\site-packages\\IPython\\core\\formatters.py\", line 344, in __call__\n",
            "    return method()\n",
            "           ^^^^^^^^\n",
            "  File \"C:\\Users\\Davis\\anaconda3\\Lib\\site-packages\\pandas\\core\\frame.py\", line 1106, in _repr_html_\n",
            "  File \"C:\\Users\\Davis\\anaconda3\\Lib\\site-packages\\pandas\\io\\formats\\format.py\", line 1110, in to_html\n",
            "    When formatting an Index subclass\n",
            "             ^^^^^^^^^^^^^^^^^^^^^^^^^\n",
            "  File \"C:\\Users\\Davis\\anaconda3\\Lib\\site-packages\\pandas\\io\\formats\\html.py\", line 88, in to_string\n",
            "    lines = self.render()\n",
            "            ^^^^^^^^^^^^^\n",
            "  File \"C:\\Users\\Davis\\anaconda3\\Lib\\site-packages\\pandas\\io\\formats\\html.py\", line 644, in render\n",
            "    super().render()\n",
            "  File \"C:\\Users\\Davis\\anaconda3\\Lib\\site-packages\\pandas\\io\\formats\\html.py\", line 94, in render\n",
            "    self._write_table()\n",
            "  File \"C:\\Users\\Davis\\anaconda3\\Lib\\site-packages\\pandas\\io\\formats\\html.py\", line 267, in _write_table\n",
            "    self._write_header(indent + self.indent_delta)\n",
            "  File \"C:\\Users\\Davis\\anaconda3\\Lib\\site-packages\\pandas\\io\\formats\\html.py\", line 403, in _write_header\n",
            "    self._write_col_header(indent + self.indent_delta)\n",
            "  File \"C:\\Users\\Davis\\anaconda3\\Lib\\site-packages\\pandas\\io\\formats\\html.py\", line 383, in _write_col_header\n",
            "    row.extend(self._get_columns_formatted_values())\n",
            "               ^^^^^^^^^^^^^^^^^^^^^^^^^^^^^^^^^^^^\n",
            "  File \"C:\\Users\\Davis\\anaconda3\\Lib\\site-packages\\pandas\\io\\formats\\html.py\", line 611, in _get_columns_formatted_values\n",
            "    return self.columns._format_flat(include_name=False)\n",
            "           ^^^^^^^^^^^^^^^^^^^^^^^^^\n",
            "AttributeError: 'Index' object has no attribute '_format_flat'\n",
            "\n",
            "During handling of the above exception, another exception occurred:\n",
            "\n",
            "Traceback (most recent call last):\n",
            "  File \"C:\\Users\\Davis\\anaconda3\\Lib\\site-packages\\IPython\\core\\interactiveshell.py\", line 2102, in showtraceback\n",
            "    stb = self.InteractiveTB.structured_traceback(\n",
            "          ^^^^^^^^^^^^^^^^^^^^^^^^^^^^^^^^^^^^^^^^\n",
            "  File \"C:\\Users\\Davis\\anaconda3\\Lib\\site-packages\\IPython\\core\\ultratb.py\", line 1310, in structured_traceback\n",
            "    return FormattedTB.structured_traceback(\n",
            "           ^^^^^^^^^^^^^^^^^^^^^^^^^^^^^^^^^\n",
            "  File \"C:\\Users\\Davis\\anaconda3\\Lib\\site-packages\\IPython\\core\\ultratb.py\", line 1199, in structured_traceback\n",
            "    return VerboseTB.structured_traceback(\n",
            "           ^^^^^^^^^^^^^^^^^^^^^^^^^^^^^^^\n",
            "  File \"C:\\Users\\Davis\\anaconda3\\Lib\\site-packages\\IPython\\core\\ultratb.py\", line 1052, in structured_traceback\n",
            "    formatted_exception = self.format_exception_as_a_whole(etype, evalue, etb, number_of_lines_of_context,\n",
            "                          ^^^^^^^^^^^^^^^^^^^^^^^^^^^^^^^^^^^^^^^^^^^^^^^^^^^^^^^^^^^^^^^^^^^^^^^^^^^^^^^^\n",
            "  File \"C:\\Users\\Davis\\anaconda3\\Lib\\site-packages\\IPython\\core\\ultratb.py\", line 978, in format_exception_as_a_whole\n",
            "    frames.append(self.format_record(record))\n",
            "                  ^^^^^^^^^^^^^^^^^^^^^^^^^^\n",
            "  File \"C:\\Users\\Davis\\anaconda3\\Lib\\site-packages\\IPython\\core\\ultratb.py\", line 878, in format_record\n",
            "    frame_info.lines, Colors, self.has_colors, lvals\n",
            "    ^^^^^^^^^^^^^^^^\n",
            "  File \"C:\\Users\\Davis\\anaconda3\\Lib\\site-packages\\IPython\\core\\ultratb.py\", line 712, in lines\n",
            "    return self._sd.lines\n",
            "           ^^^^^^^^^^^^^^\n",
            "  File \"C:\\Users\\Davis\\anaconda3\\Lib\\site-packages\\stack_data\\utils.py\", line 145, in cached_property_wrapper\n",
            "    value = obj.__dict__[self.func.__name__] = self.func(obj)\n",
            "                                               ^^^^^^^^^^^^^^\n",
            "  File \"C:\\Users\\Davis\\anaconda3\\Lib\\site-packages\\stack_data\\core.py\", line 698, in lines\n",
            "    pieces = self.included_pieces\n",
            "             ^^^^^^^^^^^^^^^^^^^^\n",
            "  File \"C:\\Users\\Davis\\anaconda3\\Lib\\site-packages\\stack_data\\utils.py\", line 145, in cached_property_wrapper\n",
            "    value = obj.__dict__[self.func.__name__] = self.func(obj)\n",
            "                                               ^^^^^^^^^^^^^^\n",
            "  File \"C:\\Users\\Davis\\anaconda3\\Lib\\site-packages\\stack_data\\core.py\", line 649, in included_pieces\n",
            "    pos = scope_pieces.index(self.executing_piece)\n",
            "                             ^^^^^^^^^^^^^^^^^^^^\n",
            "  File \"C:\\Users\\Davis\\anaconda3\\Lib\\site-packages\\stack_data\\utils.py\", line 145, in cached_property_wrapper\n",
            "    value = obj.__dict__[self.func.__name__] = self.func(obj)\n",
            "                                               ^^^^^^^^^^^^^^\n",
            "  File \"C:\\Users\\Davis\\anaconda3\\Lib\\site-packages\\stack_data\\core.py\", line 628, in executing_piece\n",
            "    return only(\n",
            "           ^^^^^\n",
            "  File \"C:\\Users\\Davis\\anaconda3\\Lib\\site-packages\\executing\\executing.py\", line 164, in only\n",
            "    raise NotOneValueFound('Expected one value, found 0')\n",
            "executing.executing.NotOneValueFound: Expected one value, found 0\n"
          ]
        },
        {
          "data": {
            "text/plain": [
              "                      mpg  cyl   disp   hp  drat     wt   qsec  vs  am  gear  carb\n",
              "rownames                                                                          \n",
              "Mazda RX4            21.0    6  160.0  110  3.90  2.620  16.46   0   1     4     4\n",
              "Mazda RX4 Wag        21.0    6  160.0  110  3.90  2.875  17.02   0   1     4     4\n",
              "Datsun 710           22.8    4  108.0   93  3.85  2.320  18.61   1   1     4     1\n",
              "Hornet 4 Drive       21.4    6  258.0  110  3.08  3.215  19.44   1   0     3     1\n",
              "Hornet Sportabout    18.7    8  360.0  175  3.15  3.440  17.02   0   0     3     2\n",
              "Valiant              18.1    6  225.0  105  2.76  3.460  20.22   1   0     3     1\n",
              "Duster 360           14.3    8  360.0  245  3.21  3.570  15.84   0   0     3     4\n",
              "Merc 240D            24.4    4  146.7   62  3.69  3.190  20.00   1   0     4     2\n",
              "Merc 230             22.8    4  140.8   95  3.92  3.150  22.90   1   0     4     2\n",
              "Merc 280             19.2    6  167.6  123  3.92  3.440  18.30   1   0     4     4\n",
              "Merc 280C            17.8    6  167.6  123  3.92  3.440  18.90   1   0     4     4\n",
              "Merc 450SE           16.4    8  275.8  180  3.07  4.070  17.40   0   0     3     3\n",
              "Merc 450SL           17.3    8  275.8  180  3.07  3.730  17.60   0   0     3     3\n",
              "Merc 450SLC          15.2    8  275.8  180  3.07  3.780  18.00   0   0     3     3\n",
              "Cadillac Fleetwood   10.4    8  472.0  205  2.93  5.250  17.98   0   0     3     4\n",
              "Lincoln Continental  10.4    8  460.0  215  3.00  5.424  17.82   0   0     3     4\n",
              "Chrysler Imperial    14.7    8  440.0  230  3.23  5.345  17.42   0   0     3     4\n",
              "Fiat 128             32.4    4   78.7   66  4.08  2.200  19.47   1   1     4     1\n",
              "Honda Civic          30.4    4   75.7   52  4.93  1.615  18.52   1   1     4     2\n",
              "Toyota Corolla       33.9    4   71.1   65  4.22  1.835  19.90   1   1     4     1\n",
              "Toyota Corona        21.5    4  120.1   97  3.70  2.465  20.01   1   0     3     1\n",
              "Dodge Challenger     15.5    8  318.0  150  2.76  3.520  16.87   0   0     3     2\n",
              "AMC Javelin          15.2    8  304.0  150  3.15  3.435  17.30   0   0     3     2\n",
              "Camaro Z28           13.3    8  350.0  245  3.73  3.840  15.41   0   0     3     4\n",
              "Pontiac Firebird     19.2    8  400.0  175  3.08  3.845  17.05   0   0     3     2\n",
              "Fiat X1-9            27.3    4   79.0   66  4.08  1.935  18.90   1   1     4     1\n",
              "Porsche 914-2        26.0    4  120.3   91  4.43  2.140  16.70   0   1     5     2\n",
              "Lotus Europa         30.4    4   95.1  113  3.77  1.513  16.90   1   1     5     2\n",
              "Ford Pantera L       15.8    8  351.0  264  4.22  3.170  14.50   0   1     5     4\n",
              "Ferrari Dino         19.7    6  145.0  175  3.62  2.770  15.50   0   1     5     6\n",
              "Maserati Bora        15.0    8  301.0  335  3.54  3.570  14.60   0   1     5     8\n",
              "Volvo 142E           21.4    4  121.0  109  4.11  2.780  18.60   1   1     4     2"
            ]
          },
          "execution_count": null,
          "metadata": {},
          "output_type": "execute_result"
        }
      ],
      "source": [
        "df"
      ]
    },
    {
      "cell_type": "markdown",
      "metadata": {
        "id": "NwxcO-KzCE6r"
      },
      "source": [
        "The statement \"the `mtcars` dataset does not contain the same types of variables as the penguins dataset\" is a little true and a little false. There are no variables that contain text values, BUT there are variables that it makes sense to consider categorical variables. In most situations, it makes sense to treat the values of categorical variables as text values instead of numeric values.\n",
        "\n",
        "Use the `astype()` method to convert the categorical variables of the `mtcars` (df) dataset to have text values in the code chunk below. We've done one for you!"
      ]
    },
    {
      "cell_type": "code",
      "execution_count": 8,
      "metadata": {
        "id": "EmsJ2z6QCtYH"
      },
      "outputs": [],
      "source": [
        "df[\"am\"] = df[\"am\"].astype(str)\n",
        "\n",
        "# Convert the other variables below"
      ]
    },
    {
      "cell_type": "markdown",
      "metadata": {},
      "source": []
    },
    {
      "cell_type": "code",
      "execution_count": 10,
      "metadata": {},
      "outputs": [],
      "source": [
        "df[\"vs\"] = df[\"vs\"].astype(str)\n",
        "df[\"gear\"]= df[\"gear\"].astype(str)\n",
        "df[\"cyl\"] = df[\"cyl\"].astype(str)\n",
        "df[\"carb\"] = df[\"carb\"].astype(str)"
      ]
    },
    {
      "cell_type": "markdown",
      "metadata": {
        "id": "5CPc3XQsEOkS"
      },
      "source": [
        "If you print out your new dataset, is it clear that the variables have been converted to text values? If so, how can you tell?\n",
        "\n",
        "It should also be clear by how `plotnine` treats these variables.\n",
        "\n",
        "1. Create side-by-side boxplots of the `mpg` variable by the different values of the `am` variable. What happens if you convert the `am` variable back to float values and then try to create this same plot? Explain the differences between the two plots.\n",
        "\n",
        "2. Create overlaid histograms of the `hp` variable for the different values of the `cyl` variable. What happens if you convert the `cyl` variable back to float values and then try to create this same plot? Explain the differences between the two plots."
      ]
    },
    {
      "cell_type": "code",
      "execution_count": 12,
      "metadata": {
        "id": "THEeMPRDDc9y"
      },
      "outputs": [
        {
          "data": {
            "image/png": "[encoded data removed]"
          },
          "metadata": {},
          "output_type": "display_data"
        }
      ],
      "source": [
        "# Create plot for (1) here\n",
        "\n",
        "(ggplot(df, aes(x = \"am\", y = \"mpg\")) + geom_boxplot())\n",
        "\n",
        "#float values\n"
      ]
    },
    {
      "cell_type": "code",
      "execution_count": null,
      "metadata": {
        "id": "Y6qca7yKFWqZ"
      },
      "outputs": [],
      "source": [
        "# Create plot for (2) here"
      ]
    },
    {
      "cell_type": "markdown",
      "metadata": {
        "id": "sI9g0Br1Fbcp"
      },
      "source": [
        "Some of these variables, like the `cyl` variable, have numeric values that actually make sense as numbers (i.e. the number of cylinders in the engine). However, it doesn't make the most sense to \"do math\" with this type of variable (e.g. take averages and such) because there are so few different value this can take on AND they're an explicit choice made by the car manufacturer. So, it makes more sense to treat the `cyl` variable as a categorical variable despite it having numeric values.\n",
        "\n",
        "You will need to keep these kinds of nuances about data in mind as you work with an increasing variety and richness of data, and do more complex things with them.\n",
        "\n",
        "Choose 3 new `geometries` from the [data-to-viz website](https://www.data-to-viz.com/) for graphs that you'd like to explore using the `mtcars` dataset, and then create those graphs!"
      ]
    },
    {
      "cell_type": "code",
      "execution_count": null,
      "metadata": {
        "id": "ZxVdZRFgGn4R"
      },
      "outputs": [],
      "source": [
        "# Create plot with first new geometry here"
      ]
    },
    {
      "cell_type": "code",
      "execution_count": null,
      "metadata": {
        "id": "kmOlGxZwGoC5"
      },
      "outputs": [],
      "source": [
        "# Create plot with second new geometry here"
      ]
    },
    {
      "cell_type": "code",
      "execution_count": null,
      "metadata": {
        "id": "8CppN1zeGoKr"
      },
      "outputs": [],
      "source": [
        "# Create plot with third new geometry here"
      ]
    }
  ],
  "metadata": {
    "colab": {
      "provenance": []
    },
    "kernelspec": {
      "display_name": "Python 3",
      "name": "python3"
    },
    "language_info": {
      "name": "python"
    }
  },
  "nbformat": 4,
  "nbformat_minor": 0
}
